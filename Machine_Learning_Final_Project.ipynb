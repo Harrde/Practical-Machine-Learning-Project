{
  "nbformat": 4,
  "nbformat_minor": 0,
  "metadata": {
    "colab": {
      "name": "Machine Learning Final Project ",
      "provenance": [],
      "collapsed_sections": [],
      "authorship_tag": "ABX9TyOYnLkdLNoJ0jysVIB3TD0X",
      "include_colab_link": true
    },
    "kernelspec": {
      "name": "python3",
      "display_name": "Python 3"
    },
    "language_info": {
      "name": "python"
    }
  },
  "cells": [
    {
      "cell_type": "markdown",
      "metadata": {
        "id": "view-in-github",
        "colab_type": "text"
      },
      "source": [
        "<a href=\"https://colab.research.google.com/github/Harrde/Practical-Machine-Learning-Project/blob/main/Machine_Learning_Final_Project.ipynb\" target=\"_parent\"><img src=\"https://colab.research.google.com/assets/colab-badge.svg\" alt=\"Open In Colab\"/></a>"
      ]
    },
    {
      "cell_type": "markdown",
      "metadata": {
        "id": "JAdJ8L7TVHqZ"
      },
      "source": [
        "              **2021 Final Project** \n",
        "\n",
        "*   (APANPS5335_002_2021_3 Machine Learning)\n",
        "*   Submitted By: Devin Harrison Uni: dh3035\n",
        "*   Posted: 10/30/2021  |  Due: 12/7/2021\n",
        "\n",
        "\n",
        "\n"
      ]
    },
    {
      "cell_type": "code",
      "metadata": {
        "id": "xA78DxMdae-y"
      },
      "source": [
        "#import Python Packages \n",
        "import pandas as pd\n",
        "import numpy as np    "
      ],
      "execution_count": 122,
      "outputs": []
    },
    {
      "cell_type": "markdown",
      "metadata": {
        "id": "CGmxt2YUaPLa"
      },
      "source": [
        "Question 1 (15 Points)\n",
        "\n",
        "Perform exploratory analysis to identify issues with the data. This many involve identifying outliers,\n",
        "and identifying and imputing missing values. Concisely present your results using at most 4 graphs\n",
        "and/or at most 4 summary tables. You may combine several graphs into one graphic device using\n",
        "the par(mfrow=c(n, n)) syntax. For example par(mfrow=c(2,2)) would allow you to plot 4\n",
        "figures in a 2 by 2 grid. **bold text** \n"
      ]
    },
    {
      "cell_type": "code",
      "metadata": {
        "colab": {
          "base_uri": "https://localhost:8080/",
          "height": 564
        },
        "id": "skpuvS4Ca1ve",
        "outputId": "877829bb-737e-4135-b128-57bab3665b37"
      },
      "source": [
        "#reading in the data \n",
        "train = pd.read_csv(\"/content/training (2).csv\") \n",
        "train.apply(lambda x: x.astype(str).str.upper())"
      ],
      "execution_count": 123,
      "outputs": [
        {
          "output_type": "execute_result",
          "data": {
            "text/html": [
              "<div>\n",
              "<style scoped>\n",
              "    .dataframe tbody tr th:only-of-type {\n",
              "        vertical-align: middle;\n",
              "    }\n",
              "\n",
              "    .dataframe tbody tr th {\n",
              "        vertical-align: top;\n",
              "    }\n",
              "\n",
              "    .dataframe thead th {\n",
              "        text-align: right;\n",
              "    }\n",
              "</style>\n",
              "<table border=\"1\" class=\"dataframe\">\n",
              "  <thead>\n",
              "    <tr style=\"text-align: right;\">\n",
              "      <th></th>\n",
              "      <th>x1</th>\n",
              "      <th>x2</th>\n",
              "      <th>x3</th>\n",
              "      <th>x4</th>\n",
              "      <th>x5</th>\n",
              "      <th>x6</th>\n",
              "      <th>x7</th>\n",
              "      <th>x8</th>\n",
              "      <th>x9</th>\n",
              "      <th>x10</th>\n",
              "      <th>x11</th>\n",
              "      <th>x12</th>\n",
              "      <th>x13</th>\n",
              "      <th>x14</th>\n",
              "      <th>x15</th>\n",
              "      <th>x16</th>\n",
              "      <th>x17</th>\n",
              "      <th>x18</th>\n",
              "      <th>x19</th>\n",
              "      <th>x20</th>\n",
              "      <th>y</th>\n",
              "    </tr>\n",
              "  </thead>\n",
              "  <tbody>\n",
              "    <tr>\n",
              "      <th>0</th>\n",
              "      <td>10.0</td>\n",
              "      <td>1</td>\n",
              "      <td>OTHERS</td>\n",
              "      <td>1</td>\n",
              "      <td>0</td>\n",
              "      <td>0</td>\n",
              "      <td>0</td>\n",
              "      <td>1</td>\n",
              "      <td>1</td>\n",
              "      <td>1</td>\n",
              "      <td>0</td>\n",
              "      <td>0</td>\n",
              "      <td>1</td>\n",
              "      <td>AUSTRALIA</td>\n",
              "      <td>NO</td>\n",
              "      <td>NO</td>\n",
              "      <td>NO</td>\n",
              "      <td>5</td>\n",
              "      <td>A</td>\n",
              "      <td>S0</td>\n",
              "      <td>0</td>\n",
              "    </tr>\n",
              "    <tr>\n",
              "      <th>1</th>\n",
              "      <td>4.0</td>\n",
              "      <td>0</td>\n",
              "      <td>NAN</td>\n",
              "      <td>1</td>\n",
              "      <td>1</td>\n",
              "      <td>1</td>\n",
              "      <td>0</td>\n",
              "      <td>1</td>\n",
              "      <td>1</td>\n",
              "      <td>0</td>\n",
              "      <td>1</td>\n",
              "      <td>0</td>\n",
              "      <td>1</td>\n",
              "      <td>LEBANON</td>\n",
              "      <td>NO</td>\n",
              "      <td>NO</td>\n",
              "      <td>NO</td>\n",
              "      <td>7</td>\n",
              "      <td>A</td>\n",
              "      <td>NAN</td>\n",
              "      <td>1</td>\n",
              "    </tr>\n",
              "    <tr>\n",
              "      <th>2</th>\n",
              "      <td>4.0</td>\n",
              "      <td>1</td>\n",
              "      <td>WHITE-EUROPEAN</td>\n",
              "      <td>1</td>\n",
              "      <td>0</td>\n",
              "      <td>1</td>\n",
              "      <td>1</td>\n",
              "      <td>0</td>\n",
              "      <td>1</td>\n",
              "      <td>1</td>\n",
              "      <td>1</td>\n",
              "      <td>0</td>\n",
              "      <td>1</td>\n",
              "      <td>UNITED STATES</td>\n",
              "      <td>NO</td>\n",
              "      <td>YES</td>\n",
              "      <td>NO</td>\n",
              "      <td>7</td>\n",
              "      <td>A</td>\n",
              "      <td>S0</td>\n",
              "      <td>1</td>\n",
              "    </tr>\n",
              "    <tr>\n",
              "      <th>3</th>\n",
              "      <td>7.0</td>\n",
              "      <td>0</td>\n",
              "      <td>MIDDLE EASTERN</td>\n",
              "      <td>0</td>\n",
              "      <td>0</td>\n",
              "      <td>1</td>\n",
              "      <td>0</td>\n",
              "      <td>0</td>\n",
              "      <td>0</td>\n",
              "      <td>1</td>\n",
              "      <td>0</td>\n",
              "      <td>0</td>\n",
              "      <td>1</td>\n",
              "      <td>JORDAN</td>\n",
              "      <td>NO</td>\n",
              "      <td>NO</td>\n",
              "      <td>NO</td>\n",
              "      <td>3</td>\n",
              "      <td>A</td>\n",
              "      <td>S0</td>\n",
              "      <td>0</td>\n",
              "    </tr>\n",
              "    <tr>\n",
              "      <th>4</th>\n",
              "      <td>6.0</td>\n",
              "      <td>0</td>\n",
              "      <td>NAN</td>\n",
              "      <td>0</td>\n",
              "      <td>1</td>\n",
              "      <td>1</td>\n",
              "      <td>0</td>\n",
              "      <td>0</td>\n",
              "      <td>0</td>\n",
              "      <td>1</td>\n",
              "      <td>1</td>\n",
              "      <td>0</td>\n",
              "      <td>1</td>\n",
              "      <td>UNITED ARAB EMIRATES</td>\n",
              "      <td>YES</td>\n",
              "      <td>NO</td>\n",
              "      <td>NO</td>\n",
              "      <td>5</td>\n",
              "      <td>A</td>\n",
              "      <td>NAN</td>\n",
              "      <td>0</td>\n",
              "    </tr>\n",
              "    <tr>\n",
              "      <th>...</th>\n",
              "      <td>...</td>\n",
              "      <td>...</td>\n",
              "      <td>...</td>\n",
              "      <td>...</td>\n",
              "      <td>...</td>\n",
              "      <td>...</td>\n",
              "      <td>...</td>\n",
              "      <td>...</td>\n",
              "      <td>...</td>\n",
              "      <td>...</td>\n",
              "      <td>...</td>\n",
              "      <td>...</td>\n",
              "      <td>...</td>\n",
              "      <td>...</td>\n",
              "      <td>...</td>\n",
              "      <td>...</td>\n",
              "      <td>...</td>\n",
              "      <td>...</td>\n",
              "      <td>...</td>\n",
              "      <td>...</td>\n",
              "      <td>...</td>\n",
              "    </tr>\n",
              "    <tr>\n",
              "      <th>268</th>\n",
              "      <td>8.0</td>\n",
              "      <td>0</td>\n",
              "      <td>WHITE-EUROPEAN</td>\n",
              "      <td>0</td>\n",
              "      <td>0</td>\n",
              "      <td>1</td>\n",
              "      <td>1</td>\n",
              "      <td>1</td>\n",
              "      <td>1</td>\n",
              "      <td>1</td>\n",
              "      <td>1</td>\n",
              "      <td>0</td>\n",
              "      <td>0</td>\n",
              "      <td>UNITED KINGDOM</td>\n",
              "      <td>NO</td>\n",
              "      <td>NO</td>\n",
              "      <td>NO</td>\n",
              "      <td>6</td>\n",
              "      <td>A</td>\n",
              "      <td>S0</td>\n",
              "      <td>0</td>\n",
              "    </tr>\n",
              "    <tr>\n",
              "      <th>269</th>\n",
              "      <td>10.0</td>\n",
              "      <td>0</td>\n",
              "      <td>WHITE-EUROPEAN</td>\n",
              "      <td>1</td>\n",
              "      <td>0</td>\n",
              "      <td>0</td>\n",
              "      <td>0</td>\n",
              "      <td>1</td>\n",
              "      <td>1</td>\n",
              "      <td>1</td>\n",
              "      <td>1</td>\n",
              "      <td>1</td>\n",
              "      <td>1</td>\n",
              "      <td>UNITED KINGDOM</td>\n",
              "      <td>NO</td>\n",
              "      <td>YES</td>\n",
              "      <td>NO</td>\n",
              "      <td>7</td>\n",
              "      <td>A</td>\n",
              "      <td>S0</td>\n",
              "      <td>1</td>\n",
              "    </tr>\n",
              "    <tr>\n",
              "      <th>270</th>\n",
              "      <td>4.0</td>\n",
              "      <td>1</td>\n",
              "      <td>OTHERS</td>\n",
              "      <td>0</td>\n",
              "      <td>0</td>\n",
              "      <td>1</td>\n",
              "      <td>0</td>\n",
              "      <td>1</td>\n",
              "      <td>0</td>\n",
              "      <td>1</td>\n",
              "      <td>0</td>\n",
              "      <td>0</td>\n",
              "      <td>0</td>\n",
              "      <td>GEORGIA</td>\n",
              "      <td>YES</td>\n",
              "      <td>YES</td>\n",
              "      <td>NO</td>\n",
              "      <td>3</td>\n",
              "      <td>A</td>\n",
              "      <td>S0</td>\n",
              "      <td>0</td>\n",
              "    </tr>\n",
              "    <tr>\n",
              "      <th>271</th>\n",
              "      <td>NAN</td>\n",
              "      <td>0</td>\n",
              "      <td>MIDDLE EASTERN</td>\n",
              "      <td>0</td>\n",
              "      <td>0</td>\n",
              "      <td>1</td>\n",
              "      <td>0</td>\n",
              "      <td>0</td>\n",
              "      <td>0</td>\n",
              "      <td>0</td>\n",
              "      <td>0</td>\n",
              "      <td>0</td>\n",
              "      <td>0</td>\n",
              "      <td>JORDAN</td>\n",
              "      <td>NO</td>\n",
              "      <td>NO</td>\n",
              "      <td>NO</td>\n",
              "      <td>1</td>\n",
              "      <td>A</td>\n",
              "      <td>S0</td>\n",
              "      <td>0</td>\n",
              "    </tr>\n",
              "    <tr>\n",
              "      <th>272</th>\n",
              "      <td>5.0</td>\n",
              "      <td>0</td>\n",
              "      <td>ASIAN</td>\n",
              "      <td>0</td>\n",
              "      <td>0</td>\n",
              "      <td>1</td>\n",
              "      <td>1</td>\n",
              "      <td>1</td>\n",
              "      <td>1</td>\n",
              "      <td>1</td>\n",
              "      <td>1</td>\n",
              "      <td>1</td>\n",
              "      <td>1</td>\n",
              "      <td>INDIA</td>\n",
              "      <td>NO</td>\n",
              "      <td>NO</td>\n",
              "      <td>NO</td>\n",
              "      <td>8</td>\n",
              "      <td>A</td>\n",
              "      <td>S0</td>\n",
              "      <td>1</td>\n",
              "    </tr>\n",
              "  </tbody>\n",
              "</table>\n",
              "<p>273 rows × 21 columns</p>\n",
              "</div>"
            ],
            "text/plain": [
              "       x1 x2               x3 x4 x5 x6 x7  ...  x15  x16 x17 x18 x19  x20  y\n",
              "0    10.0  1           OTHERS  1  0  0  0  ...   NO   NO  NO   5   A   S0  0\n",
              "1     4.0  0              NAN  1  1  1  0  ...   NO   NO  NO   7   A  NAN  1\n",
              "2     4.0  1   WHITE-EUROPEAN  1  0  1  1  ...   NO  YES  NO   7   A   S0  1\n",
              "3     7.0  0  MIDDLE EASTERN   0  0  1  0  ...   NO   NO  NO   3   A   S0  0\n",
              "4     6.0  0              NAN  0  1  1  0  ...  YES   NO  NO   5   A  NAN  0\n",
              "..    ... ..              ... .. .. .. ..  ...  ...  ...  ..  ..  ..  ... ..\n",
              "268   8.0  0   WHITE-EUROPEAN  0  0  1  1  ...   NO   NO  NO   6   A   S0  0\n",
              "269  10.0  0   WHITE-EUROPEAN  1  0  0  0  ...   NO  YES  NO   7   A   S0  1\n",
              "270   4.0  1           OTHERS  0  0  1  0  ...  YES  YES  NO   3   A   S0  0\n",
              "271   NAN  0  MIDDLE EASTERN   0  0  1  0  ...   NO   NO  NO   1   A   S0  0\n",
              "272   5.0  0            ASIAN  0  0  1  1  ...   NO   NO  NO   8   A   S0  1\n",
              "\n",
              "[273 rows x 21 columns]"
            ]
          },
          "metadata": {},
          "execution_count": 123
        }
      ]
    },
    {
      "cell_type": "markdown",
      "metadata": {
        "id": "-VfeYvF3dACc"
      },
      "source": [
        "#Outliers Identified \n",
        "1. NAN values in X1 (missing values)\n",
        "2. NAN values in x3 which identifies race of patient (missing values) / others in rows dipicting race \n"
      ]
    },
    {
      "cell_type": "code",
      "metadata": {
        "colab": {
          "base_uri": "https://localhost:8080/"
        },
        "id": "t9xkzl-FdTM0",
        "outputId": "271b19e0-d649-4ac4-d926-a9598cf38c9e"
      },
      "source": [
        "#Information on Dtypes within data set\n",
        "train.info()"
      ],
      "execution_count": 124,
      "outputs": [
        {
          "output_type": "stream",
          "name": "stdout",
          "text": [
            "<class 'pandas.core.frame.DataFrame'>\n",
            "RangeIndex: 273 entries, 0 to 272\n",
            "Data columns (total 21 columns):\n",
            " #   Column  Non-Null Count  Dtype  \n",
            "---  ------  --------------  -----  \n",
            " 0   x1      267 non-null    float64\n",
            " 1   x2      273 non-null    int64  \n",
            " 2   x3      228 non-null    object \n",
            " 3   x4      273 non-null    int64  \n",
            " 4   x5      273 non-null    int64  \n",
            " 5   x6      273 non-null    int64  \n",
            " 6   x7      273 non-null    int64  \n",
            " 7   x8      273 non-null    int64  \n",
            " 8   x9      273 non-null    int64  \n",
            " 9   x10     273 non-null    int64  \n",
            " 10  x11     273 non-null    int64  \n",
            " 11  x12     273 non-null    int64  \n",
            " 12  x13     273 non-null    int64  \n",
            " 13  x14     273 non-null    object \n",
            " 14  x15     273 non-null    object \n",
            " 15  x16     273 non-null    object \n",
            " 16  x17     273 non-null    object \n",
            " 17  x18     273 non-null    int64  \n",
            " 18  x19     273 non-null    object \n",
            " 19  x20     228 non-null    object \n",
            " 20  y       273 non-null    int64  \n",
            "dtypes: float64(1), int64(13), object(7)\n",
            "memory usage: 44.9+ KB\n"
          ]
        }
      ]
    },
    {
      "cell_type": "code",
      "metadata": {
        "colab": {
          "base_uri": "https://localhost:8080/"
        },
        "id": "1ycJVY06fDoX",
        "outputId": "fe8e5129-06ef-486c-90bc-983305c9bdab"
      },
      "source": [
        "print(train.shape)"
      ],
      "execution_count": 125,
      "outputs": [
        {
          "output_type": "stream",
          "name": "stdout",
          "text": [
            "(273, 21)\n"
          ]
        }
      ]
    },
    {
      "cell_type": "code",
      "metadata": {
        "colab": {
          "base_uri": "https://localhost:8080/"
        },
        "id": "9EutSMbHfJFt",
        "outputId": "f74da5b0-9684-4c4b-89b3-3d2167076e30"
      },
      "source": [
        "# Convert the whole dataframe as a string and display\n",
        "print(train.to_string())\n",
        "#How do we know what these predictors are predicting?"
      ],
      "execution_count": 126,
      "outputs": [
        {
          "output_type": "stream",
          "name": "stdout",
          "text": [
            "       x1  x2               x3  x4  x5  x6  x7  x8  x9  x10  x11  x12  x13                    x14  x15  x16  x17  x18 x19  x20  y\n",
            "0    10.0   1           Others   1   0   0   0   1   1    1    0    0    1              Australia   no   no   no    5   A   S0  0\n",
            "1     4.0   0              NaN   1   1   1   0   1   1    0    1    0    1                Lebanon   no   no   no    7   A  NaN  1\n",
            "2     4.0   1   White-European   1   0   1   1   0   1    1    1    0    1          United States   no  yes   no    7   A   S0  1\n",
            "3     7.0   0  Middle Eastern    0   0   1   0   0   0    1    0    0    1                 Jordan   no   no   no    3   A   S0  0\n",
            "4     6.0   0              NaN   0   1   1   0   0   0    1    1    0    1   United Arab Emirates  yes   no   no    5   A  NaN  0\n",
            "5     4.0   1   White-European   1   1   1   1   1   0    1    1    1    1              Australia  yes   no   no    9   A   S0  1\n",
            "6    11.0   0   White-European   1   1   1   1   1   1    1    1    1    1              Australia   no   no   no   10   A   S0  1\n",
            "7     NaN   0              NaN   1   1   1   1   0   1    0    1    0    1                 Jordan   no  yes   no    7   A  NaN  1\n",
            "8     5.0   0              NaN   0   0   1   1   1   1    0    1    0    1                 Jordan   no  yes   no    6   A  NaN  0\n",
            "9     4.0   0            Asian   0   0   1   0   0   1    1    0    0    1                  India   no   no   no    4   A   R1  0\n",
            "10    4.0   0            Asian   0   1   1   1   0   1    0    1    1    1             Bangladesh   no   no   no    7   A   R1  1\n",
            "11    4.0   1            Black   1   0   0   0   0   0    1    0    0    0   United Arab Emirates   no   no   no    2   A   S0  0\n",
            "12    4.0   0            Asian   0   0   1   0   1   1    1    1    1    1             Bangladesh   no   no   no    7   A   S0  1\n",
            "13    6.0   0              NaN   0   0   1   0   0   1    0    0    0    0           Saudi Arabia   no   no   no    2   A  NaN  0\n",
            "14    4.0   0              NaN   0   0   1   0   1   1    0    1    0    1                  Egypt  yes   no   no    5   A  NaN  0\n",
            "15   10.0   0           Others   0   1   0   1   0   1    0    0    1    1          United States   no   no   no    5   A   R1  0\n",
            "16    6.0   0   White-European   1   0   1   0   1   0    1    0    1    1          United States   no  yes   no    6   A   S0  0\n",
            "17    4.0   1              NaN   0   1   1   0   1   0    1    0    0    0               Pakistan   no   no   no    4   A  NaN  0\n",
            "18    4.0   0            Asian   0   0   1   0   0   1    1    0    0    1                  India   no   no   no    4   A   R1  0\n",
            "19    9.0   0            Black   1   1   1   1   1   1    1    1    1    1         United Kingdom   no  yes   no   10   A   S0  1\n",
            "20    7.0   0              NaN   0   1   0   0   1   0    1    0    0    1                 Jordan   no  yes   no    4   A  NaN  0\n",
            "21    5.0   0  Middle Eastern    1   1   1   0   0   1    0    1    0    1                 Jordan   no   no   no    6   A   S0  0\n",
            "22    8.0   0            Black   1   1   1   1   1   1    0    0    1    1              Australia   no   no   no    8   A   S0  1\n",
            "23    6.0   0  Middle Eastern    1   1   0   0   1   1    0    1    0    0                 Jordan   no   no   no    5   A   S0  0\n",
            "24   11.0   1   White-European   1   0   0   1   1   1    0    0    0    1              Australia  yes   no   no    5   A   S0  0\n",
            "25    7.0   0            Asian   0   0   1   0   1   0    0    0    0    1                  Japan   no   no   no    3   A   S0  0\n",
            "26    4.0   0   White-European   0   1   1   1   1   1    1    1    1    1          United States   no  yes   no    9   A   S0  1\n",
            "27    5.0   0           Others   1   1   1   1   1   1    1    1    1    1          United States   no  yes   no   10   A   S0  1\n",
            "28    5.0   1         Hispanic   0   0   0   0   0   0    0    0    0    0          United States   no   no   no    0   A   S0  0\n",
            "29    7.0   0  Middle Eastern    0   1   0   0   1   0    0    0    0    0                 Jordan  yes   no   no    2   A   S0  0\n",
            "30    4.0   0   White-European   1   0   0   1   0   1    0    0    0    0            New Zealand   no   no   no    3   A   S0  0\n",
            "31    4.0   1   White-European   1   0   1   0   0   0    0    0    1    0         United Kingdom  yes   no   no    3   A   S0  0\n",
            "32    5.0   0   White-European   1   1   1   1   1   1    1    0    1    0           South Africa   no  yes   no    8   A   S0  1\n",
            "33   11.0   0   White-European   1   1   1   1   1   1    0    1    0    1                 Sweden   no   no   no    8   A   S0  1\n",
            "34    4.0   0              NaN   0   1   1   0   0   1    1    1    0    0                  Qatar   no  yes  yes    5   A  NaN  0\n",
            "35    7.0   0            Asian   1   1   0   0   0   0    0    0    0    0            New Zealand   no   no   no    2   A   S0  0\n",
            "36    7.0   0  Middle Eastern    1   0   1   0   1   1    1    1    0    1                 Jordan   no  yes   no    7   A   S0  1\n",
            "37    4.0   1      South Asian   0   0   1   0   1   0    1    0    0    0                  India   no   no   no    3   A   S0  0\n",
            "38    4.0   0         Pasifika   0   0   1   0   1   1    1    1    1    1            New Zealand   no   no   no    7   A   H1  1\n",
            "39   11.0   1              NaN   0   0   1   1   1   0    1    1    0    0                Austria  yes   no   no    5   A  NaN  0\n",
            "40    4.0   0            Asian   0   0   1   0   1   1    1    0    1    1                  India   no   no   no    6   A   S0  0\n",
            "41    6.0   0         Hispanic   0   1   1   1   1   1    1    1    1    1          United States   no   no   no    9   A   S0  1\n",
            "42    5.0   0  Middle Eastern    1   0   0   0   1   0    1    1    0    0                 Jordan   no   no   no    4   A   H1  0\n",
            "43    4.0   1      South Asian   1   1   1   1   1   1    1    1    1    1                Armenia   no   no   no   10   A   H1  1\n",
            "44    5.0   0  Middle Eastern    1   1   1   0   1   0    0    0    0    0   United Arab Emirates   no  yes   no    4   A   S0  0\n",
            "45    8.0   0  Middle Eastern    1   0   1   1   0   0    0    1    0    1          United States   no   no   no    5   A   S0  0\n",
            "46    6.0   0   White-European   1   1   1   1   1   1    0    0    1    1          United States   no   no   no    8   A   S0  1\n",
            "47    4.0   0      South Asian   1   1   1   0   1   1    0    0    0    0                  India   no   no   no    5   A   S0  0\n",
            "48    5.0   1           Latino   0   1   1   1   1   1    1    1    1    1                 Bhutan   no  yes   no    9   A   S0  1\n",
            "49    4.0   0      South Asian   1   0   1   1   1   1    0    1    0    1                  India   no   no   no    7   A   S0  1\n",
            "50    4.0   0   White-European   1   1   1   1   1   0    1    1    0    0          United States   no   no   no    7   A   S0  1\n",
            "51    9.0   1  Middle Eastern    1   0   1   1   1   1    1    1    0    1                  Egypt   no   no   no    8   A   S0  1\n",
            "52    6.0   0   White-European   1   0   1   1   1   1    1    1    1    0              Australia   no   no   no    8   A   S0  1\n",
            "53    7.0   1   White-European   1   0   0   0   1   0    1    0    0    1              Australia  yes  yes   no    4   A   S0  0\n",
            "54    4.0   1            Asian   1   1   1   1   1   1    1    1    1    1          United States  yes   no   no   10   A   S0  1\n",
            "55    4.0   0   White-European   1   1   1   0   1   0    1    1    1    1          United States   no  yes   no    8   A   S0  1\n",
            "56    6.0   0           Others   1   0   1   1   1   1    1    1    0    1              Australia   no   no   no    8   A   S0  1\n",
            "57   10.0   0   White-European   0   0   1   1   0   0    1    1    1    0          United States   no   no   no    5   A   S0  0\n",
            "58    5.0   0              NaN   1   1   1   1   1   1    0    1    0    1                  Egypt   no   no   no    8   A  NaN  1\n",
            "59    7.0   0   White-European   1   1   1   1   1   1    1    1    1    1         United Kingdom   no   no   no   10   A   R1  1\n",
            "60    4.0   0            Asian   0   0   1   0   1   1    1    0    1    1                  India   no   no   no    6   A   S0  0\n",
            "61    5.0   0  Middle Eastern    1   0   0   0   1   0    1    1    0    0                 Jordan   no   no   no    4   A   H1  0\n",
            "62    4.0   0      South Asian   1   1   1   0   1   1    1    1    1    1                  India   no   no   no    9   A   S0  1\n",
            "63    7.0   0           Others   0   0   0   0   0   0    1    0    0    0          United States   no   no   no    1   A   S0  0\n",
            "64    4.0   0           Others   0   1   1   0   1   1    1    0    0    0                  Libya   no  yes   no    5   A   S0  0\n",
            "65    4.0   0   White-European   1   1   1   1   1   1    1    1    1    0              Australia   no   no   no    9   A   S0  1\n",
            "66    5.0   1  Middle Eastern    1   1   1   1   1   1    1    1    0    0                Bahrain   no   no   no    8   A   S0  1\n",
            "67    5.0   0      South Asian   0   0   1   0   1   1    1    1    1    1                  India   no   no   no    7   A   S0  1\n",
            "68   11.0   0         Hispanic   1   1   1   0   1   1    0    0    1    1          United States   no   no   no    7   A   R1  1\n",
            "69   11.0   1   White-European   1   0   0   1   1   1    1    0    0    0         United Kingdom  yes  yes   no    5   A   R1  0\n",
            "70    4.0   1   White-European   1   0   1   1   1   0    1    1    1    1         United Kingdom   no  yes   no    8   A   S0  1\n",
            "71    7.0   0         Hispanic   1   0   1   0   1   1    1    1    0    1          United States   no   no   no    7   A   S0  1\n",
            "72    9.0   0   White-European   0   1   0   1   1   1    1    0    1    1         United Kingdom  yes   no   no    7   A   S0  1\n",
            "73    4.0   0      South Asian   0   1   1   1   1   1    1    1    1    1                  India   no   no   no    9   A   S0  1\n",
            "74    4.0   0            Asian   0   0   0   1   1   1    1    1    1    0             Bangladesh   no   no   no    6   A   R1  0\n",
            "75   11.0   0            Asian   1   1   1   1   1   1    1    1    1    1                  India   no  yes   no   10   A   R1  1\n",
            "76   11.0   0              NaN   1   0   1   1   1   1    0    1    0    1                 Jordan   no   no   no    7   A  NaN  1\n",
            "77    4.0   0            Asian   1   0   0   0   1   0    0    0    0    1             Bangladesh   no   no   no    3   A   S0  0\n",
            "78    4.0   1   White-European   1   1   1   1   1   1    1    0    1    0         United Kingdom  yes   no   no    8   A   S0  1\n",
            "79    8.0   0   White-European   0   0   1   1   1   1    0    1    1    1          United States   no   no   no    7   A   S0  1\n",
            "80    8.0   0   White-European   0   0   1   1   1   1    1    1    0    0         United Kingdom   no   no   no    6   A   S0  0\n",
            "81    8.0   0   White-European   1   1   1   1   1   1    1    1    1    1          United States   no   no   no   10   A   S0  1\n",
            "82    6.0   0              NaN   1   1   0   0   0   1    1    1    0    0                 Jordan   no   no  yes    5   A  NaN  0\n",
            "83    4.0   0   White-European   1   1   1   1   1   1    0    1    1    1         United Kingdom  yes   no   no    9   A   S0  1\n",
            "84   11.0   0            Asian   0   0   1   0   1   1    1    1    0    1                  India   no   no   no    6   A   S0  0\n",
            "85   10.0   0              NaN   1   0   1   0   1   1    1    0    1    1               Pakistan   no  yes   no    7   A  NaN  1\n",
            "86    4.0   1              NaN   1   1   1   1   1   1    0    0    1    1                  China   no  yes   no    8   A  NaN  1\n",
            "87    6.0   1   White-European   1   0   0   0   1   0    0    1    0    1         United Kingdom   no   no   no    4   A   S0  0\n",
            "88   11.0   1   White-European   1   0   1   1   1   1    1    1    1    1                Austria   no   no   no    9   A   S0  1\n",
            "89   11.0   1   White-European   1   1   0   1   0   1    1    0    1    0         United Kingdom  yes  yes   no    6   A   R1  0\n",
            "90    5.0   0           Others   0   0   0   0   1   1    1    0    1    0          United States   no   no   no    4   A   S0  0\n",
            "91    4.0   1   White-European   1   0   1   1   1   1    1    1    1    1                Georgia   no   no   no    9   A   S0  1\n",
            "92    9.0   1  Middle Eastern    1   0   1   1   1   1    1    1    1    0                Armenia   no   no   no    8   A   H1  1\n",
            "93    8.0   1  Middle Eastern    1   0   1   1   1   1    0    0    1    1                 Canada  yes   no   no    7   A   S0  1\n",
            "94    NaN   0              NaN   1   0   0   1   0   1    1    1    1    1                  Egypt   no   no   no    7   A  NaN  1\n",
            "95    7.0   0   White-European   0   1   1   1   0   1    0    1    1    0            New Zealand   no  yes   no    6   A   S0  0\n",
            "96    4.0   1         Hispanic   1   0   1   1   1   1    1    1    1    1          United States   no   no   no    9   A   S0  1\n",
            "97    5.0   0            Black   1   0   1   1   1   1    1    1    0    1          United States   no   no   no    8   A   S0  1\n",
            "98    7.0   0   White-European   0   1   1   1   0   1    0    1    1    0            New Zealand   no  yes   no    6   A   S0  0\n",
            "99    4.0   0              NaN   0   1   1   0   0   1    1    0    0    1                  Libya   no  yes   no    5   A  NaN  0\n",
            "100   7.0   0              NaN   0   1   1   0   1   1    0    1    0    1                 Jordan   no  yes   no    6   A  NaN  0\n",
            "101   7.0   0         Hispanic   1   0   1   0   1   1    1    1    0    1          United States   no   no   no    7   A   S0  1\n",
            "102   8.0   0   White-European   1   1   1   1   1   1    1    0    1    1          United States   no  yes   no    9   A   S0  1\n",
            "103   4.0   1              NaN   0   1   0   0   1   0    0    1    0    0                  Syria   no   no   no    3   A  NaN  0\n",
            "104   5.0   0      South Asian   0   0   1   0   1   0    1    0    0    1                  India   no   no   no    4   A   R1  0\n",
            "105   5.0   0            Asian   0   1   1   0   0   1    1    0    1    1                  India   no   no  yes    6   A   R1  0\n",
            "106   7.0   1   White-European   0   1   0   0   1   0    1    0    0    1         United Kingdom   no  yes   no    4   A   S0  0\n",
            "107  11.0   1   White-European   1   1   1   1   0   0    1    0    1    1         United Kingdom   no   no   no    7   A   S0  1\n",
            "108   7.0   0   White-European   0   1   1   0   0   0    1    1    1    1          United States   no  yes   no    6   A   S0  0\n",
            "109   4.0   1   White-European   1   1   0   0   0   0    0    0    0    1          United States   no   no   no    3   A   S0  0\n",
            "110   5.0   0   White-European   0   1   1   1   1   1    0    0    0    1         United Kingdom  yes  yes   no    6   A   S0  0\n",
            "111   9.0   1              NaN   0   0   1   1   0   1    0    1    1    0                  Egypt   no   no   no    5   A  NaN  0\n",
            "112   4.0   0            Asian   0   0   1   0   1   1    0    1    1    1                  India   no   no   no    6   A   S0  0\n",
            "113   4.0   0              NaN   0   1   1   0   1   1    0    0    0    1               Malaysia   no  yes   no    5   A  NaN  0\n",
            "114   8.0   0   White-European   1   1   1   1   1   0    1    1    1    1              Australia  yes   no   no    9   A   S0  1\n",
            "115   6.0   0              NaN   0   1   0   0   0   0    1    0    0    1           Saudi Arabia   no  yes   no    3   A  NaN  0\n",
            "116   5.0   0              NaN   0   0   1   1   1   1    0    1    0    1                 Russia   no   no   no    6   A  NaN  0\n",
            "117   4.0   0              NaN   0   1   1   1   1   1    1    0    0    1                  Libya   no  yes  yes    7   A  NaN  1\n",
            "118   6.0   0              NaN   1   0   0   1   0   1    0    1    1    1                 Jordan   no   no   no    6   A  NaN  0\n",
            "119   8.0   0   White-European   1   1   1   1   1   1    1    1    1    1                  Malta   no   no   no   10   A   S0  1\n",
            "120   4.0   0  Middle Eastern    0   1   0   0   0   0    0    0    0    0            Afghanistan   no   no   no    1   A   S0  0\n",
            "121  10.0   0   White-European   1   0   0   1   1   1    1    1    1    1          United States   no   no   no    8   A   S0  1\n",
            "122   4.0   0   White-European   1   0   0   0   1   0    1    0    0    1         United Kingdom   no   no   no    4   A   S0  0\n",
            "123   4.0   0            Black   1   0   1   0   1   1    0    1    1    1          United States  yes   no   no    7   A   S0  1\n",
            "124   6.0   1            Black   1   1   1   1   1   1    1    1    1    1                Nigeria   no   no   no   10   A   S0  1\n",
            "125   4.0   0   White-European   0   1   1   1   1   1    0    0    0    1              Australia   no   no   no    6   A   S0  0\n",
            "126   4.0   1   White-European   1   1   1   1   1   1    1    0    1    0         United Kingdom  yes   no   no    8   A   S0  1\n",
            "127   6.0   0           Others   0   0   1   0   0   0    1    0    1    0         United Kingdom   no   no   no    3   A   S0  0\n",
            "128  11.0   0   White-European   1   0   1   1   1   0    1    1    1    1          United States  yes   no   no    8   A   S0  1\n",
            "129   9.0   0   White-European   1   0   0   0   1   0    1    0    0    1              Australia  yes  yes   no    4   A   S0  0\n",
            "130   6.0   0   White-European   0   0   1   1   1   0    1    1    1    0         United Kingdom  yes   no   no    6   A   R1  0\n",
            "131   NaN   0              NaN   1   0   0   1   0   1    1    1    1    1                  Egypt   no   no   no    7   A  NaN  1\n",
            "132   4.0   1  Middle Eastern    0   1   1   0   1   1    0    0    0    0                   Iraq   no  yes   no    4   A   R1  0\n",
            "133   4.0   0            Asian   0   1   1   1   1   1    1    1    0    1                  India   no   no   no    8   A   S0  1\n",
            "134   8.0   0   White-European   1   1   1   1   1   1    1    1    1    1         United Kingdom   no   no   no   10   A   S0  1\n",
            "135   4.0   0   White-European   1   1   1   0   1   1    1    0    1    1          United States  yes   no   no    8   A   S0  1\n",
            "136  11.0   0            Asian   1   0   1   1   1   1    0    1    0    1                  India   no   no   no    7   A   S0  1\n",
            "137   5.0   0      South Asian   1   0   0   0   1   1    0    1    0    1                  India   no  yes   no    5   A   H1  0\n",
            "138   9.0   0              NaN   0   1   0   1   1   0    1    1    0    1                  Egypt   no  yes   no    6   A  NaN  0\n",
            "139   9.0   0   White-European   1   1   1   1   1   1    1    1    1    1         United Kingdom   no   no   no   10   A   S0  1\n",
            "140   4.0   0              NaN   0   1   1   0   1   0    1    0    0    1                Lebanon   no  yes   no    5   A  NaN  0\n",
            "141   4.0   0   White-European   1   1   1   1   1   1    1    0    0    1          United States  yes   no   no    8   A   S0  1\n",
            "142   4.0   0         Hispanic   1   0   1   1   1   1    0    0    1    1          United States  yes   no   no    7   A   S0  1\n",
            "143   4.0   0   White-European   1   1   1   1   1   1    1    0    1    1          United States   no   no   no    9   A   S0  1\n",
            "144  10.0   1   White-European   0   1   1   0   0   1    1    1    0    1            Netherlands   no   no   no    6   A   S0  0\n",
            "145   7.0   0            Black   1   0   0   1   1   1    1    0    1    1          United States   no   no   no    7   A   S0  1\n",
            "146   6.0   0           Others   1   1   1   1   1   1    1    1    0    1         United Kingdom   no  yes   no    9   A   S0  1\n",
            "147   5.0   1              NaN   0   1   0   0   1   0    0    0    0    1                 Kuwait   no   no   no    3   A  NaN  0\n",
            "148   9.0   1              NaN   0   0   1   1   0   1    0    1    1    0                  Egypt   no   no   no    5   A  NaN  0\n",
            "149  10.0   0            Black   1   1   1   1   0   1    0    1    1    1                  India   no  yes   no    8   A   S0  1\n",
            "150   6.0   0            Asian   1   1   0   0   1   0    1    1    0    0                  India   no   no   no    5   A   S0  0\n",
            "151   7.0   0  Middle Eastern    0   1   0   1   1   1    1    1    0    1                  Egypt   no  yes   no    7   A   S0  1\n",
            "152   5.0   1  Middle Eastern    1   0   1   1   1   1    0    1    1    1                 Canada   no   no   no    8   A   S0  1\n",
            "153  10.0   1   White-European   0   1   0   1   1   1    1    1    1    1              Australia   no   no   no    8   A   H1  1\n",
            "154   4.0   1   White-European   1   0   1   0   1   1    1    0    1    0         United Kingdom  yes  yes   no    6   A   S0  0\n",
            "155  11.0   1           Latino   0   1   1   0   0   1    0    0    1    1            Philippines   no  yes   no    5   A   H1  0\n",
            "156   5.0   0              NaN   1   1   0   0   1   1    1    0    0    0                   Iraq   no   no   no    5   A  NaN  0\n",
            "157   4.0   1   White-European   1   0   1   1   1   1    1    0    1    1              Australia   no   no   no    8   A   S0  1\n",
            "158   4.0   1              NaN   0   0   1   0   1   1    1    0    1    0               Pakistan  yes   no   no    5   A  NaN  0\n",
            "159   6.0   1            Asian   1   1   1   1   0   1    1    0    0    1            Philippines   no   no   no    7   A   S0  1\n",
            "160  11.0   1  Middle Eastern    1   1   1   1   1   1    1    0    0    0                Bahrain   no   no   no    7   A   S0  1\n",
            "161   4.0   0              NaN   0   1   1   1   1   1    1    0    0    1                  Libya   no  yes  yes    7   A  NaN  1\n",
            "162   7.0   1   White-European   1   1   1   1   1   1    1    1    1    1         United Kingdom  yes  yes   no   10   A   S0  1\n",
            "163   7.0   0   White-European   0   1   1   1   1   1    1    1    1    1            New Zealand  yes  yes   no    9   A   S0  1\n",
            "164   4.0   0              NaN   0   0   0   0   1   1    1    0    0    0                 Latvia   no   no  yes    3   A  NaN  0\n",
            "165   9.0   0            Asian   1   0   1   0   1   1    1    1    0    0                  India   no   no  yes    6   A   S0  0\n",
            "166   4.0   0              NaN   0   1   1   0   0   1    1    1    0    0                  Qatar   no  yes   no    5   A  NaN  0\n",
            "167   4.0   0          Turkish   1   0   1   0   1   0    0    0    0    0                 Turkey   no   no   no    3   A   R1  0\n",
            "168   5.0   0            Asian   0   0   0   1   1   1    0    0    0    1                  India  yes   no   no    4   A   S0  0\n",
            "169   5.0   0  Middle Eastern    1   1   1   0   0   1    0    0    0    1   United Arab Emirates   no  yes   no    5   A   S0  0\n",
            "170  11.0   0              NaN   1   0   1   1   1   1    0    1    1    1                  Egypt   no   no   no    8   A  NaN  1\n",
            "171   5.0   0      South Asian   1   0   1   1   0   1    0    1    1    0                  India   no   no   no    6   A   S0  0\n",
            "172   8.0   0  Middle Eastern    0   0   0   0   1   0    1    1    0    1   United Arab Emirates   no   no   no    4   A   S0  0\n",
            "173   4.0   1   White-European   0   0   1   0   1   0    1    0    0    1              Australia  yes   no   no    4   A   R1  0\n",
            "174  11.0   0            Asian   0   1   0   0   0   1    1    1    0    0              Argentina   no   no   no    4   A   S0  0\n",
            "175   4.0   0            Asian   0   1   1   0   1   0    0    0    0    1             Bangladesh  yes   no   no    4   A   S0  0\n",
            "176   4.0   0            Black   1   1   1   1   1   1    1    0    1    1          United States   no  yes   no    9   A   S0  1\n",
            "177   9.0   0            Asian   1   1   1   0   1   1    1    1    1    1               Pakistan   no  yes   no    9   A   S0  1\n",
            "178   6.0   0            Asian   1   0   1   1   0   0    0    0    1    0                  India   no   no   no    4   A   H1  0\n",
            "179   7.0   1   White-European   1   0   1   1   1   0    1    1    1    1              Australia   no   no   no    8   A   S0  1\n",
            "180   NaN   0  Middle Eastern    0   0   1   0   0   0    0    0    0    0                 Jordan   no   no   no    1   A   S0  0\n",
            "181  11.0   1   White-European   1   1   1   1   1   1    1    0    1    1         United Kingdom   no   no   no    9   A   S0  1\n",
            "182   4.0   0      South Asian   1   1   0   0   1   1    0    0    0    1                  India   no   no   no    5   A   S0  0\n",
            "183   6.0   0            Asian   1   1   1   1   1   1    1    1    1    0                  India  yes   no   no    9   A   S0  1\n",
            "184   5.0   0           Latino   1   1   1   1   0   1    0    0    0    0             Costa Rica  yes   no   no    5   A   S0  0\n",
            "185   4.0   0      South Asian   1   1   1   1   1   1    0    1    1    1               Bulgaria   no   no   no    9   A   S0  1\n",
            "186  11.0   0   White-European   1   0   1   1   1   1    1    0    1    1         United Kingdom   no   no   no    8   A   S0  1\n",
            "187   6.0   0              NaN   1   0   0   1   0   1    0    1    1    1                 Jordan   no   no   no    6   A  NaN  0\n",
            "188   4.0   0            Asian   0   0   1   0   1   1    1    1    1    1             Bangladesh   no   no   no    7   A   S0  1\n",
            "189   9.0   1   White-European   0   0   0   0   0   0    1    0    1    0         United Kingdom   no   no   no    2   A   S0  0\n",
            "190  10.0   1           Others   1   0   0   0   1   1    1    0    0    1              Australia   no   no   no    5   A   S0  0\n",
            "191   6.0   0      South Asian   1   0   0   0   1   1    0    0    1    1                  India   no  yes   no    5   A   S0  0\n",
            "192   5.0   1              NaN   0   1   0   0   1   0    0    0    0    1                 Kuwait   no   no   no    3   A  NaN  0\n",
            "193   4.0   0            Asian   1   1   1   1   0   1    0    1    1    1            Isle of Man   no  yes   no    8   A   H1  1\n",
            "194   4.0   1         Hispanic   1   0   1   1   1   1    1    1    1    1          United States   no   no   no    9   A   S0  1\n",
            "195  11.0   1           Others   0   0   1   1   1   1    0    0    0    1         United Kingdom   no  yes   no    5   A   S0  0\n",
            "196   4.0   1              NaN   1   1   1   1   1   1    0    0    1    1                  China   no  yes   no    8   A  NaN  1\n",
            "197   7.0   1            Asian   1   1   1   1   1   1    1    0    1    1            Philippines   no   no   no    9   A   S0  1\n",
            "198   7.0   0              NaN   0   1   0   0   1   0    1    0    0    1                 Jordan   no  yes   no    4   A  NaN  0\n",
            "199   5.0   0   White-European   1   1   1   1   1   1    1    1    1    1          United States   no  yes  yes   10   A   S0  1\n",
            "200   7.0   1  Middle Eastern    0   1   0   0   0   0    0    0    0    0                  Syria   no  yes   no    1   A   S0  0\n",
            "201   4.0   0            Asian   1   1   0   1   0   0    0    0    0    0                  India   no   no   no    3   A   S0  0\n",
            "202   6.0   1  Middle Eastern    1   0   1   0   1   1    0    0    1    1            Afghanistan   no   no   no    6   A   S0  0\n",
            "203   7.0   0   White-European   1   1   1   1   1   1    1    0    1    1          United States   no  yes   no    9   A   S0  1\n",
            "204   6.0   1   White-European   1   1   0   0   1   1    1    1    1    1         United Kingdom  yes   no   no    8   A   S0  1\n",
            "205   5.0   1   White-European   1   1   1   0   1   0    1    0    0    0                  Italy   no   no   no    5   A   S0  0\n",
            "206   4.0   0            Asian   0   0   1   0   1   1    1    0    1    1                  India   no   no   no    6   A   S0  0\n",
            "207   7.0   0            Asian   1   0   1   0   1   0    1    0    0    1                   Oman   no   no   no    5   A   S0  0\n",
            "208   5.0   0   White-European   0   0   0   1   1   1    1    1    1    0         United Kingdom   no   no   no    6   A   S0  0\n",
            "209   8.0   0   White-European   1   1   0   1   1   1    1    0    0    1                Armenia   no   no   no    7   A   S0  1\n",
            "210   4.0   1  Middle Eastern    0   1   1   0   1   1    0    0    0    1                   Iraq   no  yes   no    5   A   R1  0\n",
            "211   5.0   0              NaN   0   1   1   1   1   0    1    1    0    1                  Syria   no   no   no    7   A  NaN  1\n",
            "212  11.0   0          Turkish   0   0   0   0   0   0    0    0    0    1                 Turkey  yes   no   no    1   A   S0  0\n",
            "213   4.0   1   White-European   0   1   1   0   0   1    0    1    1    1         United Kingdom   no  yes   no    6   A   S0  0\n",
            "214  10.0   1   White-European   0   1   0   1   1   1    1    1    1    1              Australia   no   no   no    8   A   H1  1\n",
            "215  10.0   1            Asian   0   1   1   1   0   1    0    0    0    1              Australia   no   no   no    5   A   S0  0\n",
            "216   6.0   1   White-European   1   1   1   0   0   1    1    1    1    1                Ireland   no  yes   no    8   A   S0  1\n",
            "217   5.0   0           Others   1   0   1   1   1   1    1    1    1    1         United Kingdom   no   no   no    9   A   S0  1\n",
            "218   5.0   0           Latino   1   0   1   1   1   1    0    1    0    0                 Mexico  yes   no   no    6   A   S0  0\n",
            "219   4.0   0   White-European   1   1   1   1   1   1    1    1    1    1           South Africa   no   no   no   10   A   S0  1\n",
            "220   4.0   0            Asian   0   0   0   0   1   1    1    0    0    1               Malaysia  yes   no   no    4   A   S0  0\n",
            "221   5.0   0            Asian   0   1   1   0   1   1    0    0    0    1            South Korea   no   no   no    5   A   S0  0\n",
            "222   9.0   0  Middle Eastern    1   0   1   0   0   0    1    1    0    0            New Zealand   no  yes   no    4   A   S0  0\n",
            "223  10.0   0  Middle Eastern    0   0   0   1   0   0    1    0    0    0                 Jordan   no   no   no    2   A   S0  0\n",
            "224   4.0   0            Black   1   0   1   0   1   0    1    0    1    1         United Kingdom   no  yes   no    6   A   S0  0\n",
            "225   NaN   0              NaN   0   1   1   0   1   1    1    1    0    0                  Qatar   no  yes  yes    6   A  NaN  0\n",
            "226  10.0   0  Middle Eastern    0   0   0   0   0   0    1    0    0    0   United Arab Emirates  yes   no   no    1   A   S0  0\n",
            "227   4.0   0      South Asian   1   1   1   1   1   1    0    0    0    1           Saudi Arabia  yes   no   no    7   A   S0  1\n",
            "228   5.0   0   White-European   0   0   1   0   1   0    0    0    0    0              Australia   no   no   no    2   A   S0  0\n",
            "229   7.0   1            Asian   1   1   1   1   1   1    0    0    0    1                  India   no  yes   no    7   A   S0  1\n",
            "230   5.0   0           Latino   1   0   1   1   1   1    0    1    0    1                 Mexico  yes   no   no    7   A   S0  1\n",
            "231   6.0   1   White-European   1   0   1   1   1   1    0    0    1    1            New Zealand   no  yes   no    7   A   S0  1\n",
            "232   4.0   0            Asian   0   1   1   1   1   1    0    1    0    1                  India   no   no   no    7   A   S0  1\n",
            "233   5.0   0            Black   0   0   1   0   0   0    1    0    1    0                  Ghana   no   no   no    3   A   S0  0\n",
            "234   6.0   0      South Asian   1   0   1   1   1   1    0    1    0    1                  India   no   no   no    7   A   S0  1\n",
            "235   8.0   0   White-European   1   0   1   1   1   1    1    1    0    1          United States   no   no   no    8   A   S0  1\n",
            "236   8.0   1      South Asian   0   0   0   0   1   1    0    1    0    1                  India   no   no   no    4   A   S0  0\n",
            "237  10.0   1            Asian   1   1   1   0   1   1    0    0    1    1                  India   no   no   no    7   A   S0  1\n",
            "238   4.0   1            Black   1   1   1   0   0   0    0    0    1    1                 Canada   no   no   no    5   A   S0  0\n",
            "239  11.0   0         Hispanic   1   0   0   1   1   1    1    1    1    1          United States   no   no  yes    8   A   S0  1\n",
            "240   4.0   0   White-European   1   1   1   1   1   1    1    1    1    1         United Kingdom   no  yes   no   10   A   S0  1\n",
            "241   4.0   0            Asian   1   0   1   1   0   1    1    1    0    1                  India   no   no   no    7   A   R1  1\n",
            "242   7.0   0   White-European   0   0   1   1   0   0    0    0    0    0          United States  yes   no   no    2   A   S0  0\n",
            "243   9.0   0   White-European   1   0   0   0   1   0    1    0    0    1              Australia  yes   no   no    4   A   S0  0\n",
            "244   4.0   1            Asian   0   0   1   0   1   1    1    1    1    1         United Kingdom   no  yes   no    7   A   S0  1\n",
            "245   6.0   0   White-European   0   1   1   1   1   0    0    0    1    0                Romania   no   no   no    5   A   S0  0\n",
            "246   8.0   1      South Asian   0   0   0   0   1   1    0    1    0    1                  India   no   no   no    4   A   S0  0\n",
            "247   6.0   0         Pasifika   0   0   1   0   0   1    0    0    1    1            New Zealand   no  yes   no    4   A   S0  0\n",
            "248   5.0   0            Asian   0   0   1   1   1   1    1    1    1    1                  India   no   no   no    8   A   S0  1\n",
            "249   6.0   0      South Asian   1   0   1   0   1   1    1    0    0    1                  India   no  yes   no    6   A   S0  0\n",
            "250   4.0   0   White-European   1   1   1   0   0   0    0    0    0    0  U.S. Outlying Islands   no   no   no    3   A   S0  0\n",
            "251  11.0   1   White-European   1   1   1   1   1   1    1    0    1    1         United Kingdom   no   no   no    9   A   S0  1\n",
            "252   4.0   0            Asian   1   1   1   1   1   1    0    1    0    1            Philippines   no  yes   no    8   A   S0  1\n",
            "253   4.0   0   White-European   1   1   1   1   1   1    1    1    1    1         United Kingdom   no  yes   no   10   A   S0  1\n",
            "254   8.0   0              NaN   0   1   1   1   1   1    0    1    1    1                 Russia   no  yes   no    8   A  NaN  1\n",
            "255   6.0   0              NaN   1   1   1   0   1   0    1    1    0    1                 Jordan   no   no   no    7   A  NaN  1\n",
            "256   8.0   0   White-European   1   0   1   1   1   0    0    0    0    0         United Kingdom   no   no  yes    4   A   S0  0\n",
            "257   6.0   1            Black   1   1   1   1   1   1    1    1    1    1                 Canada   no   no   no   10   A   S0  1\n",
            "258   4.0   0      South Asian   1   0   1   0   1   1    0    1    0    1                  India   no   no   no    6   A   S0  0\n",
            "259   9.0   0            Asian   1   0   1   0   1   1    1    1    0    0                  India   no   no  yes    6   A   S0  0\n",
            "260   8.0   0   White-European   0   0   1   0   1   1    1    0    1    1         United Kingdom   no   no   no    6   A   S0  0\n",
            "261   4.0   0   White-European   1   1   1   1   0   1    0    0    0    1                  Italy   no   no   no    6   A   S0  0\n",
            "262  10.0   0   White-European   1   1   1   1   1   1    1    0    1    1                Germany   no   no   no    9   A   H1  1\n",
            "263   8.0   0   White-European   1   1   1   1   1   0    1    1    1    1              Australia  yes   no   no    9   A   S0  1\n",
            "264   4.0   1   White-European   1   1   1   0   1   0    1    0    1    1         United Kingdom   no  yes   no    7   A   S0  1\n",
            "265   9.0   0              NaN   0   1   0   1   1   0    1    1    0    1                  Egypt   no  yes   no    6   A  NaN  0\n",
            "266   4.0   0            Black   1   1   1   1   1   1    1    0    1    1          United States   no  yes   no    9   A   S0  1\n",
            "267   7.0   1  Middle Eastern    0   1   0   0   0   0    0    0    0    0                  Syria   no  yes   no    1   A   S0  0\n",
            "268   8.0   0   White-European   0   0   1   1   1   1    1    1    0    0         United Kingdom   no   no   no    6   A   S0  0\n",
            "269  10.0   0   White-European   1   0   0   0   1   1    1    1    1    1         United Kingdom   no  yes   no    7   A   S0  1\n",
            "270   4.0   1           Others   0   0   1   0   1   0    1    0    0    0                Georgia  yes  yes   no    3   A   S0  0\n",
            "271   NaN   0  Middle Eastern    0   0   1   0   0   0    0    0    0    0                 Jordan   no   no   no    1   A   S0  0\n",
            "272   5.0   0            Asian   0   0   1   1   1   1    1    1    1    1                  India   no   no   no    8   A   S0  1\n"
          ]
        }
      ]
    },
    {
      "cell_type": "code",
      "metadata": {
        "colab": {
          "base_uri": "https://localhost:8080/",
          "height": 339
        },
        "id": "1wvGxjZEcOo2",
        "outputId": "f1d181ca-2d59-42c2-9c79-de6350cbed63"
      },
      "source": [
        "#Boxplot on original data set to identify any outliers within each column\n",
        "train.boxplot()"
      ],
      "execution_count": 127,
      "outputs": [
        {
          "output_type": "stream",
          "name": "stderr",
          "text": [
            "/usr/local/lib/python3.7/dist-packages/numpy/core/_asarray.py:83: VisibleDeprecationWarning: Creating an ndarray from ragged nested sequences (which is a list-or-tuple of lists-or-tuples-or ndarrays with different lengths or shapes) is deprecated. If you meant to do this, you must specify 'dtype=object' when creating the ndarray\n",
            "  return array(a, dtype, copy=False, order=order)\n"
          ]
        },
        {
          "output_type": "execute_result",
          "data": {
            "text/plain": [
              "<matplotlib.axes._subplots.AxesSubplot at 0x7f6f8e9bc250>"
            ]
          },
          "metadata": {},
          "execution_count": 127
        },
        {
          "output_type": "display_data",
          "data": {
            "image/png": "[encoded data removed]",
            "text/plain": [
              "<Figure size 432x288 with 1 Axes>"
            ]
          },
          "metadata": {
            "needs_background": "light"
          }
        }
      ]
    },
    {
      "cell_type": "code",
      "metadata": {
        "colab": {
          "base_uri": "https://localhost:8080/"
        },
        "id": "RqKWi8hvlymc",
        "outputId": "b555d052-6030-4770-eeed-bd87ac2026e9"
      },
      "source": [
        "#Testing Dropping by dropping NAN values\n",
        "train1 = train.dropna()\n",
        "print(train.shape)"
      ],
      "execution_count": 153,
      "outputs": [
        {
          "output_type": "stream",
          "name": "stdout",
          "text": [
            "(273, 21)\n"
          ]
        }
      ]
    },
    {
      "cell_type": "code",
      "metadata": {
        "colab": {
          "base_uri": "https://localhost:8080/"
        },
        "id": "XzjJ0Q6Zl1kH",
        "outputId": "c45fdf67-75fc-47cd-dee0-819577ea0244"
      },
      "source": [
        "print(train1.to_string())"
      ],
      "execution_count": 154,
      "outputs": [
        {
          "output_type": "stream",
          "name": "stdout",
          "text": [
            "       x1  x2               x3  x4  x5  x6  x7  x8  x9  x10  x11  x12  x13                    x14  x15  x16  x17  x18 x19 x20  y\n",
            "0    10.0   1           Others   1   0   0   0   1   1    1    0    0    1              Australia   no   no   no    5   A  S0  0\n",
            "2     4.0   1   White-European   1   0   1   1   0   1    1    1    0    1          United States   no  yes   no    7   A  S0  1\n",
            "3     7.0   0  Middle Eastern    0   0   1   0   0   0    1    0    0    1                 Jordan   no   no   no    3   A  S0  0\n",
            "5     4.0   1   White-European   1   1   1   1   1   0    1    1    1    1              Australia  yes   no   no    9   A  S0  1\n",
            "6    11.0   0   White-European   1   1   1   1   1   1    1    1    1    1              Australia   no   no   no   10   A  S0  1\n",
            "9     4.0   0            Asian   0   0   1   0   0   1    1    0    0    1                  India   no   no   no    4   A  R1  0\n",
            "10    4.0   0            Asian   0   1   1   1   0   1    0    1    1    1             Bangladesh   no   no   no    7   A  R1  1\n",
            "11    4.0   1            Black   1   0   0   0   0   0    1    0    0    0   United Arab Emirates   no   no   no    2   A  S0  0\n",
            "12    4.0   0            Asian   0   0   1   0   1   1    1    1    1    1             Bangladesh   no   no   no    7   A  S0  1\n",
            "15   10.0   0           Others   0   1   0   1   0   1    0    0    1    1          United States   no   no   no    5   A  R1  0\n",
            "16    6.0   0   White-European   1   0   1   0   1   0    1    0    1    1          United States   no  yes   no    6   A  S0  0\n",
            "18    4.0   0            Asian   0   0   1   0   0   1    1    0    0    1                  India   no   no   no    4   A  R1  0\n",
            "19    9.0   0            Black   1   1   1   1   1   1    1    1    1    1         United Kingdom   no  yes   no   10   A  S0  1\n",
            "21    5.0   0  Middle Eastern    1   1   1   0   0   1    0    1    0    1                 Jordan   no   no   no    6   A  S0  0\n",
            "22    8.0   0            Black   1   1   1   1   1   1    0    0    1    1              Australia   no   no   no    8   A  S0  1\n",
            "23    6.0   0  Middle Eastern    1   1   0   0   1   1    0    1    0    0                 Jordan   no   no   no    5   A  S0  0\n",
            "24   11.0   1   White-European   1   0   0   1   1   1    0    0    0    1              Australia  yes   no   no    5   A  S0  0\n",
            "25    7.0   0            Asian   0   0   1   0   1   0    0    0    0    1                  Japan   no   no   no    3   A  S0  0\n",
            "26    4.0   0   White-European   0   1   1   1   1   1    1    1    1    1          United States   no  yes   no    9   A  S0  1\n",
            "27    5.0   0           Others   1   1   1   1   1   1    1    1    1    1          United States   no  yes   no   10   A  S0  1\n",
            "28    5.0   1         Hispanic   0   0   0   0   0   0    0    0    0    0          United States   no   no   no    0   A  S0  0\n",
            "29    7.0   0  Middle Eastern    0   1   0   0   1   0    0    0    0    0                 Jordan  yes   no   no    2   A  S0  0\n",
            "30    4.0   0   White-European   1   0   0   1   0   1    0    0    0    0            New Zealand   no   no   no    3   A  S0  0\n",
            "31    4.0   1   White-European   1   0   1   0   0   0    0    0    1    0         United Kingdom  yes   no   no    3   A  S0  0\n",
            "32    5.0   0   White-European   1   1   1   1   1   1    1    0    1    0           South Africa   no  yes   no    8   A  S0  1\n",
            "33   11.0   0   White-European   1   1   1   1   1   1    0    1    0    1                 Sweden   no   no   no    8   A  S0  1\n",
            "35    7.0   0            Asian   1   1   0   0   0   0    0    0    0    0            New Zealand   no   no   no    2   A  S0  0\n",
            "36    7.0   0  Middle Eastern    1   0   1   0   1   1    1    1    0    1                 Jordan   no  yes   no    7   A  S0  1\n",
            "37    4.0   1      South Asian   0   0   1   0   1   0    1    0    0    0                  India   no   no   no    3   A  S0  0\n",
            "38    4.0   0         Pasifika   0   0   1   0   1   1    1    1    1    1            New Zealand   no   no   no    7   A  H1  1\n",
            "40    4.0   0            Asian   0   0   1   0   1   1    1    0    1    1                  India   no   no   no    6   A  S0  0\n",
            "41    6.0   0         Hispanic   0   1   1   1   1   1    1    1    1    1          United States   no   no   no    9   A  S0  1\n",
            "42    5.0   0  Middle Eastern    1   0   0   0   1   0    1    1    0    0                 Jordan   no   no   no    4   A  H1  0\n",
            "43    4.0   1      South Asian   1   1   1   1   1   1    1    1    1    1                Armenia   no   no   no   10   A  H1  1\n",
            "44    5.0   0  Middle Eastern    1   1   1   0   1   0    0    0    0    0   United Arab Emirates   no  yes   no    4   A  S0  0\n",
            "45    8.0   0  Middle Eastern    1   0   1   1   0   0    0    1    0    1          United States   no   no   no    5   A  S0  0\n",
            "46    6.0   0   White-European   1   1   1   1   1   1    0    0    1    1          United States   no   no   no    8   A  S0  1\n",
            "47    4.0   0      South Asian   1   1   1   0   1   1    0    0    0    0                  India   no   no   no    5   A  S0  0\n",
            "48    5.0   1           Latino   0   1   1   1   1   1    1    1    1    1                 Bhutan   no  yes   no    9   A  S0  1\n",
            "49    4.0   0      South Asian   1   0   1   1   1   1    0    1    0    1                  India   no   no   no    7   A  S0  1\n",
            "50    4.0   0   White-European   1   1   1   1   1   0    1    1    0    0          United States   no   no   no    7   A  S0  1\n",
            "51    9.0   1  Middle Eastern    1   0   1   1   1   1    1    1    0    1                  Egypt   no   no   no    8   A  S0  1\n",
            "52    6.0   0   White-European   1   0   1   1   1   1    1    1    1    0              Australia   no   no   no    8   A  S0  1\n",
            "53    7.0   1   White-European   1   0   0   0   1   0    1    0    0    1              Australia  yes  yes   no    4   A  S0  0\n",
            "54    4.0   1            Asian   1   1   1   1   1   1    1    1    1    1          United States  yes   no   no   10   A  S0  1\n",
            "55    4.0   0   White-European   1   1   1   0   1   0    1    1    1    1          United States   no  yes   no    8   A  S0  1\n",
            "56    6.0   0           Others   1   0   1   1   1   1    1    1    0    1              Australia   no   no   no    8   A  S0  1\n",
            "57   10.0   0   White-European   0   0   1   1   0   0    1    1    1    0          United States   no   no   no    5   A  S0  0\n",
            "59    7.0   0   White-European   1   1   1   1   1   1    1    1    1    1         United Kingdom   no   no   no   10   A  R1  1\n",
            "60    4.0   0            Asian   0   0   1   0   1   1    1    0    1    1                  India   no   no   no    6   A  S0  0\n",
            "61    5.0   0  Middle Eastern    1   0   0   0   1   0    1    1    0    0                 Jordan   no   no   no    4   A  H1  0\n",
            "62    4.0   0      South Asian   1   1   1   0   1   1    1    1    1    1                  India   no   no   no    9   A  S0  1\n",
            "63    7.0   0           Others   0   0   0   0   0   0    1    0    0    0          United States   no   no   no    1   A  S0  0\n",
            "64    4.0   0           Others   0   1   1   0   1   1    1    0    0    0                  Libya   no  yes   no    5   A  S0  0\n",
            "65    4.0   0   White-European   1   1   1   1   1   1    1    1    1    0              Australia   no   no   no    9   A  S0  1\n",
            "66    5.0   1  Middle Eastern    1   1   1   1   1   1    1    1    0    0                Bahrain   no   no   no    8   A  S0  1\n",
            "67    5.0   0      South Asian   0   0   1   0   1   1    1    1    1    1                  India   no   no   no    7   A  S0  1\n",
            "68   11.0   0         Hispanic   1   1   1   0   1   1    0    0    1    1          United States   no   no   no    7   A  R1  1\n",
            "69   11.0   1   White-European   1   0   0   1   1   1    1    0    0    0         United Kingdom  yes  yes   no    5   A  R1  0\n",
            "70    4.0   1   White-European   1   0   1   1   1   0    1    1    1    1         United Kingdom   no  yes   no    8   A  S0  1\n",
            "71    7.0   0         Hispanic   1   0   1   0   1   1    1    1    0    1          United States   no   no   no    7   A  S0  1\n",
            "72    9.0   0   White-European   0   1   0   1   1   1    1    0    1    1         United Kingdom  yes   no   no    7   A  S0  1\n",
            "73    4.0   0      South Asian   0   1   1   1   1   1    1    1    1    1                  India   no   no   no    9   A  S0  1\n",
            "74    4.0   0            Asian   0   0   0   1   1   1    1    1    1    0             Bangladesh   no   no   no    6   A  R1  0\n",
            "75   11.0   0            Asian   1   1   1   1   1   1    1    1    1    1                  India   no  yes   no   10   A  R1  1\n",
            "77    4.0   0            Asian   1   0   0   0   1   0    0    0    0    1             Bangladesh   no   no   no    3   A  S0  0\n",
            "78    4.0   1   White-European   1   1   1   1   1   1    1    0    1    0         United Kingdom  yes   no   no    8   A  S0  1\n",
            "79    8.0   0   White-European   0   0   1   1   1   1    0    1    1    1          United States   no   no   no    7   A  S0  1\n",
            "80    8.0   0   White-European   0   0   1   1   1   1    1    1    0    0         United Kingdom   no   no   no    6   A  S0  0\n",
            "81    8.0   0   White-European   1   1   1   1   1   1    1    1    1    1          United States   no   no   no   10   A  S0  1\n",
            "83    4.0   0   White-European   1   1   1   1   1   1    0    1    1    1         United Kingdom  yes   no   no    9   A  S0  1\n",
            "84   11.0   0            Asian   0   0   1   0   1   1    1    1    0    1                  India   no   no   no    6   A  S0  0\n",
            "87    6.0   1   White-European   1   0   0   0   1   0    0    1    0    1         United Kingdom   no   no   no    4   A  S0  0\n",
            "88   11.0   1   White-European   1   0   1   1   1   1    1    1    1    1                Austria   no   no   no    9   A  S0  1\n",
            "89   11.0   1   White-European   1   1   0   1   0   1    1    0    1    0         United Kingdom  yes  yes   no    6   A  R1  0\n",
            "90    5.0   0           Others   0   0   0   0   1   1    1    0    1    0          United States   no   no   no    4   A  S0  0\n",
            "91    4.0   1   White-European   1   0   1   1   1   1    1    1    1    1                Georgia   no   no   no    9   A  S0  1\n",
            "92    9.0   1  Middle Eastern    1   0   1   1   1   1    1    1    1    0                Armenia   no   no   no    8   A  H1  1\n",
            "93    8.0   1  Middle Eastern    1   0   1   1   1   1    0    0    1    1                 Canada  yes   no   no    7   A  S0  1\n",
            "95    7.0   0   White-European   0   1   1   1   0   1    0    1    1    0            New Zealand   no  yes   no    6   A  S0  0\n",
            "96    4.0   1         Hispanic   1   0   1   1   1   1    1    1    1    1          United States   no   no   no    9   A  S0  1\n",
            "97    5.0   0            Black   1   0   1   1   1   1    1    1    0    1          United States   no   no   no    8   A  S0  1\n",
            "98    7.0   0   White-European   0   1   1   1   0   1    0    1    1    0            New Zealand   no  yes   no    6   A  S0  0\n",
            "101   7.0   0         Hispanic   1   0   1   0   1   1    1    1    0    1          United States   no   no   no    7   A  S0  1\n",
            "102   8.0   0   White-European   1   1   1   1   1   1    1    0    1    1          United States   no  yes   no    9   A  S0  1\n",
            "104   5.0   0      South Asian   0   0   1   0   1   0    1    0    0    1                  India   no   no   no    4   A  R1  0\n",
            "105   5.0   0            Asian   0   1   1   0   0   1    1    0    1    1                  India   no   no  yes    6   A  R1  0\n",
            "106   7.0   1   White-European   0   1   0   0   1   0    1    0    0    1         United Kingdom   no  yes   no    4   A  S0  0\n",
            "107  11.0   1   White-European   1   1   1   1   0   0    1    0    1    1         United Kingdom   no   no   no    7   A  S0  1\n",
            "108   7.0   0   White-European   0   1   1   0   0   0    1    1    1    1          United States   no  yes   no    6   A  S0  0\n",
            "109   4.0   1   White-European   1   1   0   0   0   0    0    0    0    1          United States   no   no   no    3   A  S0  0\n",
            "110   5.0   0   White-European   0   1   1   1   1   1    0    0    0    1         United Kingdom  yes  yes   no    6   A  S0  0\n",
            "112   4.0   0            Asian   0   0   1   0   1   1    0    1    1    1                  India   no   no   no    6   A  S0  0\n",
            "114   8.0   0   White-European   1   1   1   1   1   0    1    1    1    1              Australia  yes   no   no    9   A  S0  1\n",
            "119   8.0   0   White-European   1   1   1   1   1   1    1    1    1    1                  Malta   no   no   no   10   A  S0  1\n",
            "120   4.0   0  Middle Eastern    0   1   0   0   0   0    0    0    0    0            Afghanistan   no   no   no    1   A  S0  0\n",
            "121  10.0   0   White-European   1   0   0   1   1   1    1    1    1    1          United States   no   no   no    8   A  S0  1\n",
            "122   4.0   0   White-European   1   0   0   0   1   0    1    0    0    1         United Kingdom   no   no   no    4   A  S0  0\n",
            "123   4.0   0            Black   1   0   1   0   1   1    0    1    1    1          United States  yes   no   no    7   A  S0  1\n",
            "124   6.0   1            Black   1   1   1   1   1   1    1    1    1    1                Nigeria   no   no   no   10   A  S0  1\n",
            "125   4.0   0   White-European   0   1   1   1   1   1    0    0    0    1              Australia   no   no   no    6   A  S0  0\n",
            "126   4.0   1   White-European   1   1   1   1   1   1    1    0    1    0         United Kingdom  yes   no   no    8   A  S0  1\n",
            "127   6.0   0           Others   0   0   1   0   0   0    1    0    1    0         United Kingdom   no   no   no    3   A  S0  0\n",
            "128  11.0   0   White-European   1   0   1   1   1   0    1    1    1    1          United States  yes   no   no    8   A  S0  1\n",
            "129   9.0   0   White-European   1   0   0   0   1   0    1    0    0    1              Australia  yes  yes   no    4   A  S0  0\n",
            "130   6.0   0   White-European   0   0   1   1   1   0    1    1    1    0         United Kingdom  yes   no   no    6   A  R1  0\n",
            "132   4.0   1  Middle Eastern    0   1   1   0   1   1    0    0    0    0                   Iraq   no  yes   no    4   A  R1  0\n",
            "133   4.0   0            Asian   0   1   1   1   1   1    1    1    0    1                  India   no   no   no    8   A  S0  1\n",
            "134   8.0   0   White-European   1   1   1   1   1   1    1    1    1    1         United Kingdom   no   no   no   10   A  S0  1\n",
            "135   4.0   0   White-European   1   1   1   0   1   1    1    0    1    1          United States  yes   no   no    8   A  S0  1\n",
            "136  11.0   0            Asian   1   0   1   1   1   1    0    1    0    1                  India   no   no   no    7   A  S0  1\n",
            "137   5.0   0      South Asian   1   0   0   0   1   1    0    1    0    1                  India   no  yes   no    5   A  H1  0\n",
            "139   9.0   0   White-European   1   1   1   1   1   1    1    1    1    1         United Kingdom   no   no   no   10   A  S0  1\n",
            "141   4.0   0   White-European   1   1   1   1   1   1    1    0    0    1          United States  yes   no   no    8   A  S0  1\n",
            "142   4.0   0         Hispanic   1   0   1   1   1   1    0    0    1    1          United States  yes   no   no    7   A  S0  1\n",
            "143   4.0   0   White-European   1   1   1   1   1   1    1    0    1    1          United States   no   no   no    9   A  S0  1\n",
            "144  10.0   1   White-European   0   1   1   0   0   1    1    1    0    1            Netherlands   no   no   no    6   A  S0  0\n",
            "145   7.0   0            Black   1   0   0   1   1   1    1    0    1    1          United States   no   no   no    7   A  S0  1\n",
            "146   6.0   0           Others   1   1   1   1   1   1    1    1    0    1         United Kingdom   no  yes   no    9   A  S0  1\n",
            "149  10.0   0            Black   1   1   1   1   0   1    0    1    1    1                  India   no  yes   no    8   A  S0  1\n",
            "150   6.0   0            Asian   1   1   0   0   1   0    1    1    0    0                  India   no   no   no    5   A  S0  0\n",
            "151   7.0   0  Middle Eastern    0   1   0   1   1   1    1    1    0    1                  Egypt   no  yes   no    7   A  S0  1\n",
            "152   5.0   1  Middle Eastern    1   0   1   1   1   1    0    1    1    1                 Canada   no   no   no    8   A  S0  1\n",
            "153  10.0   1   White-European   0   1   0   1   1   1    1    1    1    1              Australia   no   no   no    8   A  H1  1\n",
            "154   4.0   1   White-European   1   0   1   0   1   1    1    0    1    0         United Kingdom  yes  yes   no    6   A  S0  0\n",
            "155  11.0   1           Latino   0   1   1   0   0   1    0    0    1    1            Philippines   no  yes   no    5   A  H1  0\n",
            "157   4.0   1   White-European   1   0   1   1   1   1    1    0    1    1              Australia   no   no   no    8   A  S0  1\n",
            "159   6.0   1            Asian   1   1   1   1   0   1    1    0    0    1            Philippines   no   no   no    7   A  S0  1\n",
            "160  11.0   1  Middle Eastern    1   1   1   1   1   1    1    0    0    0                Bahrain   no   no   no    7   A  S0  1\n",
            "162   7.0   1   White-European   1   1   1   1   1   1    1    1    1    1         United Kingdom  yes  yes   no   10   A  S0  1\n",
            "163   7.0   0   White-European   0   1   1   1   1   1    1    1    1    1            New Zealand  yes  yes   no    9   A  S0  1\n",
            "165   9.0   0            Asian   1   0   1   0   1   1    1    1    0    0                  India   no   no  yes    6   A  S0  0\n",
            "167   4.0   0          Turkish   1   0   1   0   1   0    0    0    0    0                 Turkey   no   no   no    3   A  R1  0\n",
            "168   5.0   0            Asian   0   0   0   1   1   1    0    0    0    1                  India  yes   no   no    4   A  S0  0\n",
            "169   5.0   0  Middle Eastern    1   1   1   0   0   1    0    0    0    1   United Arab Emirates   no  yes   no    5   A  S0  0\n",
            "171   5.0   0      South Asian   1   0   1   1   0   1    0    1    1    0                  India   no   no   no    6   A  S0  0\n",
            "172   8.0   0  Middle Eastern    0   0   0   0   1   0    1    1    0    1   United Arab Emirates   no   no   no    4   A  S0  0\n",
            "173   4.0   1   White-European   0   0   1   0   1   0    1    0    0    1              Australia  yes   no   no    4   A  R1  0\n",
            "174  11.0   0            Asian   0   1   0   0   0   1    1    1    0    0              Argentina   no   no   no    4   A  S0  0\n",
            "175   4.0   0            Asian   0   1   1   0   1   0    0    0    0    1             Bangladesh  yes   no   no    4   A  S0  0\n",
            "176   4.0   0            Black   1   1   1   1   1   1    1    0    1    1          United States   no  yes   no    9   A  S0  1\n",
            "177   9.0   0            Asian   1   1   1   0   1   1    1    1    1    1               Pakistan   no  yes   no    9   A  S0  1\n",
            "178   6.0   0            Asian   1   0   1   1   0   0    0    0    1    0                  India   no   no   no    4   A  H1  0\n",
            "179   7.0   1   White-European   1   0   1   1   1   0    1    1    1    1              Australia   no   no   no    8   A  S0  1\n",
            "181  11.0   1   White-European   1   1   1   1   1   1    1    0    1    1         United Kingdom   no   no   no    9   A  S0  1\n",
            "182   4.0   0      South Asian   1   1   0   0   1   1    0    0    0    1                  India   no   no   no    5   A  S0  0\n",
            "183   6.0   0            Asian   1   1   1   1   1   1    1    1    1    0                  India  yes   no   no    9   A  S0  1\n",
            "184   5.0   0           Latino   1   1   1   1   0   1    0    0    0    0             Costa Rica  yes   no   no    5   A  S0  0\n",
            "185   4.0   0      South Asian   1   1   1   1   1   1    0    1    1    1               Bulgaria   no   no   no    9   A  S0  1\n",
            "186  11.0   0   White-European   1   0   1   1   1   1    1    0    1    1         United Kingdom   no   no   no    8   A  S0  1\n",
            "188   4.0   0            Asian   0   0   1   0   1   1    1    1    1    1             Bangladesh   no   no   no    7   A  S0  1\n",
            "189   9.0   1   White-European   0   0   0   0   0   0    1    0    1    0         United Kingdom   no   no   no    2   A  S0  0\n",
            "190  10.0   1           Others   1   0   0   0   1   1    1    0    0    1              Australia   no   no   no    5   A  S0  0\n",
            "191   6.0   0      South Asian   1   0   0   0   1   1    0    0    1    1                  India   no  yes   no    5   A  S0  0\n",
            "193   4.0   0            Asian   1   1   1   1   0   1    0    1    1    1            Isle of Man   no  yes   no    8   A  H1  1\n",
            "194   4.0   1         Hispanic   1   0   1   1   1   1    1    1    1    1          United States   no   no   no    9   A  S0  1\n",
            "195  11.0   1           Others   0   0   1   1   1   1    0    0    0    1         United Kingdom   no  yes   no    5   A  S0  0\n",
            "197   7.0   1            Asian   1   1   1   1   1   1    1    0    1    1            Philippines   no   no   no    9   A  S0  1\n",
            "199   5.0   0   White-European   1   1   1   1   1   1    1    1    1    1          United States   no  yes  yes   10   A  S0  1\n",
            "200   7.0   1  Middle Eastern    0   1   0   0   0   0    0    0    0    0                  Syria   no  yes   no    1   A  S0  0\n",
            "201   4.0   0            Asian   1   1   0   1   0   0    0    0    0    0                  India   no   no   no    3   A  S0  0\n",
            "202   6.0   1  Middle Eastern    1   0   1   0   1   1    0    0    1    1            Afghanistan   no   no   no    6   A  S0  0\n",
            "203   7.0   0   White-European   1   1   1   1   1   1    1    0    1    1          United States   no  yes   no    9   A  S0  1\n",
            "204   6.0   1   White-European   1   1   0   0   1   1    1    1    1    1         United Kingdom  yes   no   no    8   A  S0  1\n",
            "205   5.0   1   White-European   1   1   1   0   1   0    1    0    0    0                  Italy   no   no   no    5   A  S0  0\n",
            "206   4.0   0            Asian   0   0   1   0   1   1    1    0    1    1                  India   no   no   no    6   A  S0  0\n",
            "207   7.0   0            Asian   1   0   1   0   1   0    1    0    0    1                   Oman   no   no   no    5   A  S0  0\n",
            "208   5.0   0   White-European   0   0   0   1   1   1    1    1    1    0         United Kingdom   no   no   no    6   A  S0  0\n",
            "209   8.0   0   White-European   1   1   0   1   1   1    1    0    0    1                Armenia   no   no   no    7   A  S0  1\n",
            "210   4.0   1  Middle Eastern    0   1   1   0   1   1    0    0    0    1                   Iraq   no  yes   no    5   A  R1  0\n",
            "212  11.0   0          Turkish   0   0   0   0   0   0    0    0    0    1                 Turkey  yes   no   no    1   A  S0  0\n",
            "213   4.0   1   White-European   0   1   1   0   0   1    0    1    1    1         United Kingdom   no  yes   no    6   A  S0  0\n",
            "214  10.0   1   White-European   0   1   0   1   1   1    1    1    1    1              Australia   no   no   no    8   A  H1  1\n",
            "215  10.0   1            Asian   0   1   1   1   0   1    0    0    0    1              Australia   no   no   no    5   A  S0  0\n",
            "216   6.0   1   White-European   1   1   1   0   0   1    1    1    1    1                Ireland   no  yes   no    8   A  S0  1\n",
            "217   5.0   0           Others   1   0   1   1   1   1    1    1    1    1         United Kingdom   no   no   no    9   A  S0  1\n",
            "218   5.0   0           Latino   1   0   1   1   1   1    0    1    0    0                 Mexico  yes   no   no    6   A  S0  0\n",
            "219   4.0   0   White-European   1   1   1   1   1   1    1    1    1    1           South Africa   no   no   no   10   A  S0  1\n",
            "220   4.0   0            Asian   0   0   0   0   1   1    1    0    0    1               Malaysia  yes   no   no    4   A  S0  0\n",
            "221   5.0   0            Asian   0   1   1   0   1   1    0    0    0    1            South Korea   no   no   no    5   A  S0  0\n",
            "222   9.0   0  Middle Eastern    1   0   1   0   0   0    1    1    0    0            New Zealand   no  yes   no    4   A  S0  0\n",
            "223  10.0   0  Middle Eastern    0   0   0   1   0   0    1    0    0    0                 Jordan   no   no   no    2   A  S0  0\n",
            "224   4.0   0            Black   1   0   1   0   1   0    1    0    1    1         United Kingdom   no  yes   no    6   A  S0  0\n",
            "226  10.0   0  Middle Eastern    0   0   0   0   0   0    1    0    0    0   United Arab Emirates  yes   no   no    1   A  S0  0\n",
            "227   4.0   0      South Asian   1   1   1   1   1   1    0    0    0    1           Saudi Arabia  yes   no   no    7   A  S0  1\n",
            "228   5.0   0   White-European   0   0   1   0   1   0    0    0    0    0              Australia   no   no   no    2   A  S0  0\n",
            "229   7.0   1            Asian   1   1   1   1   1   1    0    0    0    1                  India   no  yes   no    7   A  S0  1\n",
            "230   5.0   0           Latino   1   0   1   1   1   1    0    1    0    1                 Mexico  yes   no   no    7   A  S0  1\n",
            "231   6.0   1   White-European   1   0   1   1   1   1    0    0    1    1            New Zealand   no  yes   no    7   A  S0  1\n",
            "232   4.0   0            Asian   0   1   1   1   1   1    0    1    0    1                  India   no   no   no    7   A  S0  1\n",
            "233   5.0   0            Black   0   0   1   0   0   0    1    0    1    0                  Ghana   no   no   no    3   A  S0  0\n",
            "234   6.0   0      South Asian   1   0   1   1   1   1    0    1    0    1                  India   no   no   no    7   A  S0  1\n",
            "235   8.0   0   White-European   1   0   1   1   1   1    1    1    0    1          United States   no   no   no    8   A  S0  1\n",
            "236   8.0   1      South Asian   0   0   0   0   1   1    0    1    0    1                  India   no   no   no    4   A  S0  0\n",
            "237  10.0   1            Asian   1   1   1   0   1   1    0    0    1    1                  India   no   no   no    7   A  S0  1\n",
            "238   4.0   1            Black   1   1   1   0   0   0    0    0    1    1                 Canada   no   no   no    5   A  S0  0\n",
            "239  11.0   0         Hispanic   1   0   0   1   1   1    1    1    1    1          United States   no   no  yes    8   A  S0  1\n",
            "240   4.0   0   White-European   1   1   1   1   1   1    1    1    1    1         United Kingdom   no  yes   no   10   A  S0  1\n",
            "241   4.0   0            Asian   1   0   1   1   0   1    1    1    0    1                  India   no   no   no    7   A  R1  1\n",
            "242   7.0   0   White-European   0   0   1   1   0   0    0    0    0    0          United States  yes   no   no    2   A  S0  0\n",
            "243   9.0   0   White-European   1   0   0   0   1   0    1    0    0    1              Australia  yes   no   no    4   A  S0  0\n",
            "244   4.0   1            Asian   0   0   1   0   1   1    1    1    1    1         United Kingdom   no  yes   no    7   A  S0  1\n",
            "245   6.0   0   White-European   0   1   1   1   1   0    0    0    1    0                Romania   no   no   no    5   A  S0  0\n",
            "246   8.0   1      South Asian   0   0   0   0   1   1    0    1    0    1                  India   no   no   no    4   A  S0  0\n",
            "247   6.0   0         Pasifika   0   0   1   0   0   1    0    0    1    1            New Zealand   no  yes   no    4   A  S0  0\n",
            "248   5.0   0            Asian   0   0   1   1   1   1    1    1    1    1                  India   no   no   no    8   A  S0  1\n",
            "249   6.0   0      South Asian   1   0   1   0   1   1    1    0    0    1                  India   no  yes   no    6   A  S0  0\n",
            "250   4.0   0   White-European   1   1   1   0   0   0    0    0    0    0  U.S. Outlying Islands   no   no   no    3   A  S0  0\n",
            "251  11.0   1   White-European   1   1   1   1   1   1    1    0    1    1         United Kingdom   no   no   no    9   A  S0  1\n",
            "252   4.0   0            Asian   1   1   1   1   1   1    0    1    0    1            Philippines   no  yes   no    8   A  S0  1\n",
            "253   4.0   0   White-European   1   1   1   1   1   1    1    1    1    1         United Kingdom   no  yes   no   10   A  S0  1\n",
            "256   8.0   0   White-European   1   0   1   1   1   0    0    0    0    0         United Kingdom   no   no  yes    4   A  S0  0\n",
            "257   6.0   1            Black   1   1   1   1   1   1    1    1    1    1                 Canada   no   no   no   10   A  S0  1\n",
            "258   4.0   0      South Asian   1   0   1   0   1   1    0    1    0    1                  India   no   no   no    6   A  S0  0\n",
            "259   9.0   0            Asian   1   0   1   0   1   1    1    1    0    0                  India   no   no  yes    6   A  S0  0\n",
            "260   8.0   0   White-European   0   0   1   0   1   1    1    0    1    1         United Kingdom   no   no   no    6   A  S0  0\n",
            "261   4.0   0   White-European   1   1   1   1   0   1    0    0    0    1                  Italy   no   no   no    6   A  S0  0\n",
            "262  10.0   0   White-European   1   1   1   1   1   1    1    0    1    1                Germany   no   no   no    9   A  H1  1\n",
            "263   8.0   0   White-European   1   1   1   1   1   0    1    1    1    1              Australia  yes   no   no    9   A  S0  1\n",
            "264   4.0   1   White-European   1   1   1   0   1   0    1    0    1    1         United Kingdom   no  yes   no    7   A  S0  1\n",
            "266   4.0   0            Black   1   1   1   1   1   1    1    0    1    1          United States   no  yes   no    9   A  S0  1\n",
            "267   7.0   1  Middle Eastern    0   1   0   0   0   0    0    0    0    0                  Syria   no  yes   no    1   A  S0  0\n",
            "268   8.0   0   White-European   0   0   1   1   1   1    1    1    0    0         United Kingdom   no   no   no    6   A  S0  0\n",
            "269  10.0   0   White-European   1   0   0   0   1   1    1    1    1    1         United Kingdom   no  yes   no    7   A  S0  1\n",
            "270   4.0   1           Others   0   0   1   0   1   0    1    0    0    0                Georgia  yes  yes   no    3   A  S0  0\n",
            "272   5.0   0            Asian   0   0   1   1   1   1    1    1    1    1                  India   no   no   no    8   A  S0  1\n"
          ]
        }
      ]
    },
    {
      "cell_type": "code",
      "metadata": {
        "colab": {
          "base_uri": "https://localhost:8080/",
          "height": 279
        },
        "id": "wO1Kfiiqb2IR",
        "outputId": "b34e0dca-9c96-40e9-eec5-a1211c44eeb3"
      },
      "source": [
        "#Import libraries\n",
        "import matplotlib.pyplot as plt\n",
        "import seaborn as sns\n",
        "\n",
        "#Creating dataset\n",
        "np.random.seed(10)\n",
        "\n",
        "#Creating plot for each numeric column to identify outliers \n",
        "x = sns.boxplot(x=train1['x1'])"
      ],
      "execution_count": 130,
      "outputs": [
        {
          "output_type": "display_data",
          "data": {
            "image/png": "[encoded data removed]",
            "text/plain": [
              "<Figure size 432x288 with 1 Axes>"
            ]
          },
          "metadata": {
            "needs_background": "light"
          }
        }
      ]
    },
    {
      "cell_type": "code",
      "metadata": {
        "colab": {
          "base_uri": "https://localhost:8080/",
          "height": 297
        },
        "id": "bjJPmZIevs2E",
        "outputId": "1af526bf-52c2-4bc0-e677-0dcbb6119cf7"
      },
      "source": [
        "sns.boxplot(x=train1['x6'])  "
      ],
      "execution_count": 131,
      "outputs": [
        {
          "output_type": "execute_result",
          "data": {
            "text/plain": [
              "<matplotlib.axes._subplots.AxesSubplot at 0x7f6f89453dd0>"
            ]
          },
          "metadata": {},
          "execution_count": 131
        },
        {
          "output_type": "display_data",
          "data": {
            "image/png": "[encoded data removed]",
            "text/plain": [
              "<Figure size 432x288 with 1 Axes>"
            ]
          },
          "metadata": {
            "needs_background": "light"
          }
        }
      ]
    },
    {
      "cell_type": "code",
      "metadata": {
        "colab": {
          "base_uri": "https://localhost:8080/",
          "height": 283
        },
        "id": "YrDN6r7Lci1M",
        "outputId": "253b3ae2-3916-4b42-bc0b-5a3df3d64661"
      },
      "source": [
        "#Box plot on train1 Data set which has all NAN items removed to see various outliers\n",
        "train1.boxplot()"
      ],
      "execution_count": 132,
      "outputs": [
        {
          "output_type": "execute_result",
          "data": {
            "text/plain": [
              "<matplotlib.axes._subplots.AxesSubplot at 0x7f6f8939b390>"
            ]
          },
          "metadata": {},
          "execution_count": 132
        },
        {
          "output_type": "display_data",
          "data": {
            "image/png": "[encoded data removed]",
            "text/plain": [
              "<Figure size 432x288 with 1 Axes>"
            ]
          },
          "metadata": {
            "needs_background": "light"
          }
        }
      ]
    },
    {
      "cell_type": "code",
      "metadata": {
        "colab": {
          "base_uri": "https://localhost:8080/",
          "height": 297
        },
        "id": "VKOoIrHJv5j0",
        "outputId": "5b4bde8d-f771-4adf-9749-80a371572d5c"
      },
      "source": [
        "#Column x8 has an outlier of \n",
        "sns.boxplot(x=train1['x8'])  "
      ],
      "execution_count": 13,
      "outputs": [
        {
          "output_type": "execute_result",
          "data": {
            "text/plain": [
              "<matplotlib.axes._subplots.AxesSubplot at 0x7f6f931b4950>"
            ]
          },
          "metadata": {},
          "execution_count": 13
        },
        {
          "output_type": "display_data",
          "data": {
            "image/png": "[encoded data removed]",
            "text/plain": [
              "<Figure size 432x288 with 1 Axes>"
            ]
          },
          "metadata": {
            "needs_background": "light"
          }
        }
      ]
    },
    {
      "cell_type": "code",
      "metadata": {
        "colab": {
          "base_uri": "https://localhost:8080/",
          "height": 297
        },
        "id": "xIcic7vjxFec",
        "outputId": "7601e395-250c-43bd-ad28-ac68b2f4e7d3"
      },
      "source": [
        "sns.boxplot(x=train1['x18'])"
      ],
      "execution_count": 133,
      "outputs": [
        {
          "output_type": "execute_result",
          "data": {
            "text/plain": [
              "<matplotlib.axes._subplots.AxesSubplot at 0x7f6f8a4e56d0>"
            ]
          },
          "metadata": {},
          "execution_count": 133
        },
        {
          "output_type": "display_data",
          "data": {
            "image/png": "[encoded data removed]",
            "text/plain": [
              "<Figure size 432x288 with 1 Axes>"
            ]
          },
          "metadata": {
            "needs_background": "light"
          }
        }
      ]
    },
    {
      "cell_type": "markdown",
      "metadata": {
        "id": "0T25ix2D0rjL"
      },
      "source": [
        "Summarization: Within this dataset in regards to specifict columns, I've identified that within each columns there are very few outliers if any.  The boxplots I think helped identified these various outliers."
      ]
    },
    {
      "cell_type": "markdown",
      "metadata": {
        "id": "9NLvTakRdZWg"
      },
      "source": [
        "Question 2 (15 Points)\n",
        "\n",
        "Can you think of a reason why deleting the cases with missing values is not a feasible idea?  There can be two possible ways to handle the missing values.  I am listing them as two scenarios.\n",
        "\n",
        "Scenario 1\n",
        "Missing values can be imputed with an appropriate technique.  For example, one can impute missing with mean or meadian or mode depending on the data type\n",
        "\n",
        "Scenario 2\n",
        "The missing values can be considered as a distinct category, if the mssing occurs in categorical variable.  Some algorthims handles this automatically.  For others, you would have to prepare the data to handle missingness. \n",
        "\n",
        "Question 2.1 (5 Points)\n",
        "\n",
        "Impute missing values as appropriate.  Justify which approach you take.  If you try both approaches, mention that as well."
      ]
    },
    {
      "cell_type": "code",
      "metadata": {
        "colab": {
          "base_uri": "https://localhost:8080/"
        },
        "id": "m5I7rQvlfgQ9",
        "outputId": "68c4e9b6-f755-4a2a-d4ac-f77137b748b0"
      },
      "source": [
        "from sklearn.impute import SimpleImputer\n",
        "\n",
        "#Reviewing Uncleaned Data Set To begin placement\n",
        "print(train1.head(10))\n",
        "\n",
        "#Seeing how data is described \n",
        "print(train1.describe())"
      ],
      "execution_count": 136,
      "outputs": [
        {
          "output_type": "stream",
          "name": "stdout",
          "text": [
            "      x1  x2               x3  x4  x5  x6  x7  ...  x15  x16  x17  x18  x19  x20  y\n",
            "0   10.0   1           Others   1   0   0   0  ...   no   no   no    5    A   S0  0\n",
            "2    4.0   1   White-European   1   0   1   1  ...   no  yes   no    7    A   S0  1\n",
            "3    7.0   0  Middle Eastern    0   0   1   0  ...   no   no   no    3    A   S0  0\n",
            "5    4.0   1   White-European   1   1   1   1  ...  yes   no   no    9    A   S0  1\n",
            "6   11.0   0   White-European   1   1   1   1  ...   no   no   no   10    A   S0  1\n",
            "9    4.0   0            Asian   0   0   1   0  ...   no   no   no    4    A   R1  0\n",
            "10   4.0   0            Asian   0   1   1   1  ...   no   no   no    7    A   R1  1\n",
            "11   4.0   1            Black   1   0   0   0  ...   no   no   no    2    A   S0  0\n",
            "12   4.0   0            Asian   0   0   1   0  ...   no   no   no    7    A   S0  1\n",
            "15  10.0   0           Others   0   1   0   1  ...   no   no   no    5    A   R1  0\n",
            "\n",
            "[10 rows x 21 columns]\n",
            "               x1          x2          x4  ...         x13         x18           y\n",
            "count  226.000000  226.000000  226.000000  ...  226.000000  226.000000  226.000000\n",
            "mean     6.358407    0.300885    0.641593  ...    0.721239    6.362832    0.513274\n",
            "std      2.386973    0.459661    0.480597  ...    0.449385    2.342124    0.500933\n",
            "min      4.000000    0.000000    0.000000  ...    0.000000    0.000000    0.000000\n",
            "25%      4.000000    0.000000    0.000000  ...    0.000000    5.000000    0.000000\n",
            "50%      6.000000    0.000000    1.000000  ...    1.000000    7.000000    1.000000\n",
            "75%      8.000000    1.000000    1.000000  ...    1.000000    8.000000    1.000000\n",
            "max     11.000000    1.000000    1.000000  ...    1.000000   10.000000    1.000000\n",
            "\n",
            "[8 rows x 14 columns]\n"
          ]
        }
      ]
    },
    {
      "cell_type": "code",
      "metadata": {
        "colab": {
          "base_uri": "https://localhost:8080/"
        },
        "id": "brdvjtyNk6c2",
        "outputId": "2f7a3f84-375d-4efc-cf68-ba48f3cb3837"
      },
      "source": [
        "print(train.to_string())"
      ],
      "execution_count": 137,
      "outputs": [
        {
          "output_type": "stream",
          "name": "stdout",
          "text": [
            "       x1  x2               x3  x4  x5  x6  x7  x8  x9  x10  x11  x12  x13                    x14  x15  x16  x17  x18 x19  x20  y\n",
            "0    10.0   1           Others   1   0   0   0   1   1    1    0    0    1              Australia   no   no   no    5   A   S0  0\n",
            "1     4.0   0              NaN   1   1   1   0   1   1    0    1    0    1                Lebanon   no   no   no    7   A  NaN  1\n",
            "2     4.0   1   White-European   1   0   1   1   0   1    1    1    0    1          United States   no  yes   no    7   A   S0  1\n",
            "3     7.0   0  Middle Eastern    0   0   1   0   0   0    1    0    0    1                 Jordan   no   no   no    3   A   S0  0\n",
            "4     6.0   0              NaN   0   1   1   0   0   0    1    1    0    1   United Arab Emirates  yes   no   no    5   A  NaN  0\n",
            "5     4.0   1   White-European   1   1   1   1   1   0    1    1    1    1              Australia  yes   no   no    9   A   S0  1\n",
            "6    11.0   0   White-European   1   1   1   1   1   1    1    1    1    1              Australia   no   no   no   10   A   S0  1\n",
            "7     NaN   0              NaN   1   1   1   1   0   1    0    1    0    1                 Jordan   no  yes   no    7   A  NaN  1\n",
            "8     5.0   0              NaN   0   0   1   1   1   1    0    1    0    1                 Jordan   no  yes   no    6   A  NaN  0\n",
            "9     4.0   0            Asian   0   0   1   0   0   1    1    0    0    1                  India   no   no   no    4   A   R1  0\n",
            "10    4.0   0            Asian   0   1   1   1   0   1    0    1    1    1             Bangladesh   no   no   no    7   A   R1  1\n",
            "11    4.0   1            Black   1   0   0   0   0   0    1    0    0    0   United Arab Emirates   no   no   no    2   A   S0  0\n",
            "12    4.0   0            Asian   0   0   1   0   1   1    1    1    1    1             Bangladesh   no   no   no    7   A   S0  1\n",
            "13    6.0   0              NaN   0   0   1   0   0   1    0    0    0    0           Saudi Arabia   no   no   no    2   A  NaN  0\n",
            "14    4.0   0              NaN   0   0   1   0   1   1    0    1    0    1                  Egypt  yes   no   no    5   A  NaN  0\n",
            "15   10.0   0           Others   0   1   0   1   0   1    0    0    1    1          United States   no   no   no    5   A   R1  0\n",
            "16    6.0   0   White-European   1   0   1   0   1   0    1    0    1    1          United States   no  yes   no    6   A   S0  0\n",
            "17    4.0   1              NaN   0   1   1   0   1   0    1    0    0    0               Pakistan   no   no   no    4   A  NaN  0\n",
            "18    4.0   0            Asian   0   0   1   0   0   1    1    0    0    1                  India   no   no   no    4   A   R1  0\n",
            "19    9.0   0            Black   1   1   1   1   1   1    1    1    1    1         United Kingdom   no  yes   no   10   A   S0  1\n",
            "20    7.0   0              NaN   0   1   0   0   1   0    1    0    0    1                 Jordan   no  yes   no    4   A  NaN  0\n",
            "21    5.0   0  Middle Eastern    1   1   1   0   0   1    0    1    0    1                 Jordan   no   no   no    6   A   S0  0\n",
            "22    8.0   0            Black   1   1   1   1   1   1    0    0    1    1              Australia   no   no   no    8   A   S0  1\n",
            "23    6.0   0  Middle Eastern    1   1   0   0   1   1    0    1    0    0                 Jordan   no   no   no    5   A   S0  0\n",
            "24   11.0   1   White-European   1   0   0   1   1   1    0    0    0    1              Australia  yes   no   no    5   A   S0  0\n",
            "25    7.0   0            Asian   0   0   1   0   1   0    0    0    0    1                  Japan   no   no   no    3   A   S0  0\n",
            "26    4.0   0   White-European   0   1   1   1   1   1    1    1    1    1          United States   no  yes   no    9   A   S0  1\n",
            "27    5.0   0           Others   1   1   1   1   1   1    1    1    1    1          United States   no  yes   no   10   A   S0  1\n",
            "28    5.0   1         Hispanic   0   0   0   0   0   0    0    0    0    0          United States   no   no   no    0   A   S0  0\n",
            "29    7.0   0  Middle Eastern    0   1   0   0   1   0    0    0    0    0                 Jordan  yes   no   no    2   A   S0  0\n",
            "30    4.0   0   White-European   1   0   0   1   0   1    0    0    0    0            New Zealand   no   no   no    3   A   S0  0\n",
            "31    4.0   1   White-European   1   0   1   0   0   0    0    0    1    0         United Kingdom  yes   no   no    3   A   S0  0\n",
            "32    5.0   0   White-European   1   1   1   1   1   1    1    0    1    0           South Africa   no  yes   no    8   A   S0  1\n",
            "33   11.0   0   White-European   1   1   1   1   1   1    0    1    0    1                 Sweden   no   no   no    8   A   S0  1\n",
            "34    4.0   0              NaN   0   1   1   0   0   1    1    1    0    0                  Qatar   no  yes  yes    5   A  NaN  0\n",
            "35    7.0   0            Asian   1   1   0   0   0   0    0    0    0    0            New Zealand   no   no   no    2   A   S0  0\n",
            "36    7.0   0  Middle Eastern    1   0   1   0   1   1    1    1    0    1                 Jordan   no  yes   no    7   A   S0  1\n",
            "37    4.0   1      South Asian   0   0   1   0   1   0    1    0    0    0                  India   no   no   no    3   A   S0  0\n",
            "38    4.0   0         Pasifika   0   0   1   0   1   1    1    1    1    1            New Zealand   no   no   no    7   A   H1  1\n",
            "39   11.0   1              NaN   0   0   1   1   1   0    1    1    0    0                Austria  yes   no   no    5   A  NaN  0\n",
            "40    4.0   0            Asian   0   0   1   0   1   1    1    0    1    1                  India   no   no   no    6   A   S0  0\n",
            "41    6.0   0         Hispanic   0   1   1   1   1   1    1    1    1    1          United States   no   no   no    9   A   S0  1\n",
            "42    5.0   0  Middle Eastern    1   0   0   0   1   0    1    1    0    0                 Jordan   no   no   no    4   A   H1  0\n",
            "43    4.0   1      South Asian   1   1   1   1   1   1    1    1    1    1                Armenia   no   no   no   10   A   H1  1\n",
            "44    5.0   0  Middle Eastern    1   1   1   0   1   0    0    0    0    0   United Arab Emirates   no  yes   no    4   A   S0  0\n",
            "45    8.0   0  Middle Eastern    1   0   1   1   0   0    0    1    0    1          United States   no   no   no    5   A   S0  0\n",
            "46    6.0   0   White-European   1   1   1   1   1   1    0    0    1    1          United States   no   no   no    8   A   S0  1\n",
            "47    4.0   0      South Asian   1   1   1   0   1   1    0    0    0    0                  India   no   no   no    5   A   S0  0\n",
            "48    5.0   1           Latino   0   1   1   1   1   1    1    1    1    1                 Bhutan   no  yes   no    9   A   S0  1\n",
            "49    4.0   0      South Asian   1   0   1   1   1   1    0    1    0    1                  India   no   no   no    7   A   S0  1\n",
            "50    4.0   0   White-European   1   1   1   1   1   0    1    1    0    0          United States   no   no   no    7   A   S0  1\n",
            "51    9.0   1  Middle Eastern    1   0   1   1   1   1    1    1    0    1                  Egypt   no   no   no    8   A   S0  1\n",
            "52    6.0   0   White-European   1   0   1   1   1   1    1    1    1    0              Australia   no   no   no    8   A   S0  1\n",
            "53    7.0   1   White-European   1   0   0   0   1   0    1    0    0    1              Australia  yes  yes   no    4   A   S0  0\n",
            "54    4.0   1            Asian   1   1   1   1   1   1    1    1    1    1          United States  yes   no   no   10   A   S0  1\n",
            "55    4.0   0   White-European   1   1   1   0   1   0    1    1    1    1          United States   no  yes   no    8   A   S0  1\n",
            "56    6.0   0           Others   1   0   1   1   1   1    1    1    0    1              Australia   no   no   no    8   A   S0  1\n",
            "57   10.0   0   White-European   0   0   1   1   0   0    1    1    1    0          United States   no   no   no    5   A   S0  0\n",
            "58    5.0   0              NaN   1   1   1   1   1   1    0    1    0    1                  Egypt   no   no   no    8   A  NaN  1\n",
            "59    7.0   0   White-European   1   1   1   1   1   1    1    1    1    1         United Kingdom   no   no   no   10   A   R1  1\n",
            "60    4.0   0            Asian   0   0   1   0   1   1    1    0    1    1                  India   no   no   no    6   A   S0  0\n",
            "61    5.0   0  Middle Eastern    1   0   0   0   1   0    1    1    0    0                 Jordan   no   no   no    4   A   H1  0\n",
            "62    4.0   0      South Asian   1   1   1   0   1   1    1    1    1    1                  India   no   no   no    9   A   S0  1\n",
            "63    7.0   0           Others   0   0   0   0   0   0    1    0    0    0          United States   no   no   no    1   A   S0  0\n",
            "64    4.0   0           Others   0   1   1   0   1   1    1    0    0    0                  Libya   no  yes   no    5   A   S0  0\n",
            "65    4.0   0   White-European   1   1   1   1   1   1    1    1    1    0              Australia   no   no   no    9   A   S0  1\n",
            "66    5.0   1  Middle Eastern    1   1   1   1   1   1    1    1    0    0                Bahrain   no   no   no    8   A   S0  1\n",
            "67    5.0   0      South Asian   0   0   1   0   1   1    1    1    1    1                  India   no   no   no    7   A   S0  1\n",
            "68   11.0   0         Hispanic   1   1   1   0   1   1    0    0    1    1          United States   no   no   no    7   A   R1  1\n",
            "69   11.0   1   White-European   1   0   0   1   1   1    1    0    0    0         United Kingdom  yes  yes   no    5   A   R1  0\n",
            "70    4.0   1   White-European   1   0   1   1   1   0    1    1    1    1         United Kingdom   no  yes   no    8   A   S0  1\n",
            "71    7.0   0         Hispanic   1   0   1   0   1   1    1    1    0    1          United States   no   no   no    7   A   S0  1\n",
            "72    9.0   0   White-European   0   1   0   1   1   1    1    0    1    1         United Kingdom  yes   no   no    7   A   S0  1\n",
            "73    4.0   0      South Asian   0   1   1   1   1   1    1    1    1    1                  India   no   no   no    9   A   S0  1\n",
            "74    4.0   0            Asian   0   0   0   1   1   1    1    1    1    0             Bangladesh   no   no   no    6   A   R1  0\n",
            "75   11.0   0            Asian   1   1   1   1   1   1    1    1    1    1                  India   no  yes   no   10   A   R1  1\n",
            "76   11.0   0              NaN   1   0   1   1   1   1    0    1    0    1                 Jordan   no   no   no    7   A  NaN  1\n",
            "77    4.0   0            Asian   1   0   0   0   1   0    0    0    0    1             Bangladesh   no   no   no    3   A   S0  0\n",
            "78    4.0   1   White-European   1   1   1   1   1   1    1    0    1    0         United Kingdom  yes   no   no    8   A   S0  1\n",
            "79    8.0   0   White-European   0   0   1   1   1   1    0    1    1    1          United States   no   no   no    7   A   S0  1\n",
            "80    8.0   0   White-European   0   0   1   1   1   1    1    1    0    0         United Kingdom   no   no   no    6   A   S0  0\n",
            "81    8.0   0   White-European   1   1   1   1   1   1    1    1    1    1          United States   no   no   no   10   A   S0  1\n",
            "82    6.0   0              NaN   1   1   0   0   0   1    1    1    0    0                 Jordan   no   no  yes    5   A  NaN  0\n",
            "83    4.0   0   White-European   1   1   1   1   1   1    0    1    1    1         United Kingdom  yes   no   no    9   A   S0  1\n",
            "84   11.0   0            Asian   0   0   1   0   1   1    1    1    0    1                  India   no   no   no    6   A   S0  0\n",
            "85   10.0   0              NaN   1   0   1   0   1   1    1    0    1    1               Pakistan   no  yes   no    7   A  NaN  1\n",
            "86    4.0   1              NaN   1   1   1   1   1   1    0    0    1    1                  China   no  yes   no    8   A  NaN  1\n",
            "87    6.0   1   White-European   1   0   0   0   1   0    0    1    0    1         United Kingdom   no   no   no    4   A   S0  0\n",
            "88   11.0   1   White-European   1   0   1   1   1   1    1    1    1    1                Austria   no   no   no    9   A   S0  1\n",
            "89   11.0   1   White-European   1   1   0   1   0   1    1    0    1    0         United Kingdom  yes  yes   no    6   A   R1  0\n",
            "90    5.0   0           Others   0   0   0   0   1   1    1    0    1    0          United States   no   no   no    4   A   S0  0\n",
            "91    4.0   1   White-European   1   0   1   1   1   1    1    1    1    1                Georgia   no   no   no    9   A   S0  1\n",
            "92    9.0   1  Middle Eastern    1   0   1   1   1   1    1    1    1    0                Armenia   no   no   no    8   A   H1  1\n",
            "93    8.0   1  Middle Eastern    1   0   1   1   1   1    0    0    1    1                 Canada  yes   no   no    7   A   S0  1\n",
            "94    NaN   0              NaN   1   0   0   1   0   1    1    1    1    1                  Egypt   no   no   no    7   A  NaN  1\n",
            "95    7.0   0   White-European   0   1   1   1   0   1    0    1    1    0            New Zealand   no  yes   no    6   A   S0  0\n",
            "96    4.0   1         Hispanic   1   0   1   1   1   1    1    1    1    1          United States   no   no   no    9   A   S0  1\n",
            "97    5.0   0            Black   1   0   1   1   1   1    1    1    0    1          United States   no   no   no    8   A   S0  1\n",
            "98    7.0   0   White-European   0   1   1   1   0   1    0    1    1    0            New Zealand   no  yes   no    6   A   S0  0\n",
            "99    4.0   0              NaN   0   1   1   0   0   1    1    0    0    1                  Libya   no  yes   no    5   A  NaN  0\n",
            "100   7.0   0              NaN   0   1   1   0   1   1    0    1    0    1                 Jordan   no  yes   no    6   A  NaN  0\n",
            "101   7.0   0         Hispanic   1   0   1   0   1   1    1    1    0    1          United States   no   no   no    7   A   S0  1\n",
            "102   8.0   0   White-European   1   1   1   1   1   1    1    0    1    1          United States   no  yes   no    9   A   S0  1\n",
            "103   4.0   1              NaN   0   1   0   0   1   0    0    1    0    0                  Syria   no   no   no    3   A  NaN  0\n",
            "104   5.0   0      South Asian   0   0   1   0   1   0    1    0    0    1                  India   no   no   no    4   A   R1  0\n",
            "105   5.0   0            Asian   0   1   1   0   0   1    1    0    1    1                  India   no   no  yes    6   A   R1  0\n",
            "106   7.0   1   White-European   0   1   0   0   1   0    1    0    0    1         United Kingdom   no  yes   no    4   A   S0  0\n",
            "107  11.0   1   White-European   1   1   1   1   0   0    1    0    1    1         United Kingdom   no   no   no    7   A   S0  1\n",
            "108   7.0   0   White-European   0   1   1   0   0   0    1    1    1    1          United States   no  yes   no    6   A   S0  0\n",
            "109   4.0   1   White-European   1   1   0   0   0   0    0    0    0    1          United States   no   no   no    3   A   S0  0\n",
            "110   5.0   0   White-European   0   1   1   1   1   1    0    0    0    1         United Kingdom  yes  yes   no    6   A   S0  0\n",
            "111   9.0   1              NaN   0   0   1   1   0   1    0    1    1    0                  Egypt   no   no   no    5   A  NaN  0\n",
            "112   4.0   0            Asian   0   0   1   0   1   1    0    1    1    1                  India   no   no   no    6   A   S0  0\n",
            "113   4.0   0              NaN   0   1   1   0   1   1    0    0    0    1               Malaysia   no  yes   no    5   A  NaN  0\n",
            "114   8.0   0   White-European   1   1   1   1   1   0    1    1    1    1              Australia  yes   no   no    9   A   S0  1\n",
            "115   6.0   0              NaN   0   1   0   0   0   0    1    0    0    1           Saudi Arabia   no  yes   no    3   A  NaN  0\n",
            "116   5.0   0              NaN   0   0   1   1   1   1    0    1    0    1                 Russia   no   no   no    6   A  NaN  0\n",
            "117   4.0   0              NaN   0   1   1   1   1   1    1    0    0    1                  Libya   no  yes  yes    7   A  NaN  1\n",
            "118   6.0   0              NaN   1   0   0   1   0   1    0    1    1    1                 Jordan   no   no   no    6   A  NaN  0\n",
            "119   8.0   0   White-European   1   1   1   1   1   1    1    1    1    1                  Malta   no   no   no   10   A   S0  1\n",
            "120   4.0   0  Middle Eastern    0   1   0   0   0   0    0    0    0    0            Afghanistan   no   no   no    1   A   S0  0\n",
            "121  10.0   0   White-European   1   0   0   1   1   1    1    1    1    1          United States   no   no   no    8   A   S0  1\n",
            "122   4.0   0   White-European   1   0   0   0   1   0    1    0    0    1         United Kingdom   no   no   no    4   A   S0  0\n",
            "123   4.0   0            Black   1   0   1   0   1   1    0    1    1    1          United States  yes   no   no    7   A   S0  1\n",
            "124   6.0   1            Black   1   1   1   1   1   1    1    1    1    1                Nigeria   no   no   no   10   A   S0  1\n",
            "125   4.0   0   White-European   0   1   1   1   1   1    0    0    0    1              Australia   no   no   no    6   A   S0  0\n",
            "126   4.0   1   White-European   1   1   1   1   1   1    1    0    1    0         United Kingdom  yes   no   no    8   A   S0  1\n",
            "127   6.0   0           Others   0   0   1   0   0   0    1    0    1    0         United Kingdom   no   no   no    3   A   S0  0\n",
            "128  11.0   0   White-European   1   0   1   1   1   0    1    1    1    1          United States  yes   no   no    8   A   S0  1\n",
            "129   9.0   0   White-European   1   0   0   0   1   0    1    0    0    1              Australia  yes  yes   no    4   A   S0  0\n",
            "130   6.0   0   White-European   0   0   1   1   1   0    1    1    1    0         United Kingdom  yes   no   no    6   A   R1  0\n",
            "131   NaN   0              NaN   1   0   0   1   0   1    1    1    1    1                  Egypt   no   no   no    7   A  NaN  1\n",
            "132   4.0   1  Middle Eastern    0   1   1   0   1   1    0    0    0    0                   Iraq   no  yes   no    4   A   R1  0\n",
            "133   4.0   0            Asian   0   1   1   1   1   1    1    1    0    1                  India   no   no   no    8   A   S0  1\n",
            "134   8.0   0   White-European   1   1   1   1   1   1    1    1    1    1         United Kingdom   no   no   no   10   A   S0  1\n",
            "135   4.0   0   White-European   1   1   1   0   1   1    1    0    1    1          United States  yes   no   no    8   A   S0  1\n",
            "136  11.0   0            Asian   1   0   1   1   1   1    0    1    0    1                  India   no   no   no    7   A   S0  1\n",
            "137   5.0   0      South Asian   1   0   0   0   1   1    0    1    0    1                  India   no  yes   no    5   A   H1  0\n",
            "138   9.0   0              NaN   0   1   0   1   1   0    1    1    0    1                  Egypt   no  yes   no    6   A  NaN  0\n",
            "139   9.0   0   White-European   1   1   1   1   1   1    1    1    1    1         United Kingdom   no   no   no   10   A   S0  1\n",
            "140   4.0   0              NaN   0   1   1   0   1   0    1    0    0    1                Lebanon   no  yes   no    5   A  NaN  0\n",
            "141   4.0   0   White-European   1   1   1   1   1   1    1    0    0    1          United States  yes   no   no    8   A   S0  1\n",
            "142   4.0   0         Hispanic   1   0   1   1   1   1    0    0    1    1          United States  yes   no   no    7   A   S0  1\n",
            "143   4.0   0   White-European   1   1   1   1   1   1    1    0    1    1          United States   no   no   no    9   A   S0  1\n",
            "144  10.0   1   White-European   0   1   1   0   0   1    1    1    0    1            Netherlands   no   no   no    6   A   S0  0\n",
            "145   7.0   0            Black   1   0   0   1   1   1    1    0    1    1          United States   no   no   no    7   A   S0  1\n",
            "146   6.0   0           Others   1   1   1   1   1   1    1    1    0    1         United Kingdom   no  yes   no    9   A   S0  1\n",
            "147   5.0   1              NaN   0   1   0   0   1   0    0    0    0    1                 Kuwait   no   no   no    3   A  NaN  0\n",
            "148   9.0   1              NaN   0   0   1   1   0   1    0    1    1    0                  Egypt   no   no   no    5   A  NaN  0\n",
            "149  10.0   0            Black   1   1   1   1   0   1    0    1    1    1                  India   no  yes   no    8   A   S0  1\n",
            "150   6.0   0            Asian   1   1   0   0   1   0    1    1    0    0                  India   no   no   no    5   A   S0  0\n",
            "151   7.0   0  Middle Eastern    0   1   0   1   1   1    1    1    0    1                  Egypt   no  yes   no    7   A   S0  1\n",
            "152   5.0   1  Middle Eastern    1   0   1   1   1   1    0    1    1    1                 Canada   no   no   no    8   A   S0  1\n",
            "153  10.0   1   White-European   0   1   0   1   1   1    1    1    1    1              Australia   no   no   no    8   A   H1  1\n",
            "154   4.0   1   White-European   1   0   1   0   1   1    1    0    1    0         United Kingdom  yes  yes   no    6   A   S0  0\n",
            "155  11.0   1           Latino   0   1   1   0   0   1    0    0    1    1            Philippines   no  yes   no    5   A   H1  0\n",
            "156   5.0   0              NaN   1   1   0   0   1   1    1    0    0    0                   Iraq   no   no   no    5   A  NaN  0\n",
            "157   4.0   1   White-European   1   0   1   1   1   1    1    0    1    1              Australia   no   no   no    8   A   S0  1\n",
            "158   4.0   1              NaN   0   0   1   0   1   1    1    0    1    0               Pakistan  yes   no   no    5   A  NaN  0\n",
            "159   6.0   1            Asian   1   1   1   1   0   1    1    0    0    1            Philippines   no   no   no    7   A   S0  1\n",
            "160  11.0   1  Middle Eastern    1   1   1   1   1   1    1    0    0    0                Bahrain   no   no   no    7   A   S0  1\n",
            "161   4.0   0              NaN   0   1   1   1   1   1    1    0    0    1                  Libya   no  yes  yes    7   A  NaN  1\n",
            "162   7.0   1   White-European   1   1   1   1   1   1    1    1    1    1         United Kingdom  yes  yes   no   10   A   S0  1\n",
            "163   7.0   0   White-European   0   1   1   1   1   1    1    1    1    1            New Zealand  yes  yes   no    9   A   S0  1\n",
            "164   4.0   0              NaN   0   0   0   0   1   1    1    0    0    0                 Latvia   no   no  yes    3   A  NaN  0\n",
            "165   9.0   0            Asian   1   0   1   0   1   1    1    1    0    0                  India   no   no  yes    6   A   S0  0\n",
            "166   4.0   0              NaN   0   1   1   0   0   1    1    1    0    0                  Qatar   no  yes   no    5   A  NaN  0\n",
            "167   4.0   0          Turkish   1   0   1   0   1   0    0    0    0    0                 Turkey   no   no   no    3   A   R1  0\n",
            "168   5.0   0            Asian   0   0   0   1   1   1    0    0    0    1                  India  yes   no   no    4   A   S0  0\n",
            "169   5.0   0  Middle Eastern    1   1   1   0   0   1    0    0    0    1   United Arab Emirates   no  yes   no    5   A   S0  0\n",
            "170  11.0   0              NaN   1   0   1   1   1   1    0    1    1    1                  Egypt   no   no   no    8   A  NaN  1\n",
            "171   5.0   0      South Asian   1   0   1   1   0   1    0    1    1    0                  India   no   no   no    6   A   S0  0\n",
            "172   8.0   0  Middle Eastern    0   0   0   0   1   0    1    1    0    1   United Arab Emirates   no   no   no    4   A   S0  0\n",
            "173   4.0   1   White-European   0   0   1   0   1   0    1    0    0    1              Australia  yes   no   no    4   A   R1  0\n",
            "174  11.0   0            Asian   0   1   0   0   0   1    1    1    0    0              Argentina   no   no   no    4   A   S0  0\n",
            "175   4.0   0            Asian   0   1   1   0   1   0    0    0    0    1             Bangladesh  yes   no   no    4   A   S0  0\n",
            "176   4.0   0            Black   1   1   1   1   1   1    1    0    1    1          United States   no  yes   no    9   A   S0  1\n",
            "177   9.0   0            Asian   1   1   1   0   1   1    1    1    1    1               Pakistan   no  yes   no    9   A   S0  1\n",
            "178   6.0   0            Asian   1   0   1   1   0   0    0    0    1    0                  India   no   no   no    4   A   H1  0\n",
            "179   7.0   1   White-European   1   0   1   1   1   0    1    1    1    1              Australia   no   no   no    8   A   S0  1\n",
            "180   NaN   0  Middle Eastern    0   0   1   0   0   0    0    0    0    0                 Jordan   no   no   no    1   A   S0  0\n",
            "181  11.0   1   White-European   1   1   1   1   1   1    1    0    1    1         United Kingdom   no   no   no    9   A   S0  1\n",
            "182   4.0   0      South Asian   1   1   0   0   1   1    0    0    0    1                  India   no   no   no    5   A   S0  0\n",
            "183   6.0   0            Asian   1   1   1   1   1   1    1    1    1    0                  India  yes   no   no    9   A   S0  1\n",
            "184   5.0   0           Latino   1   1   1   1   0   1    0    0    0    0             Costa Rica  yes   no   no    5   A   S0  0\n",
            "185   4.0   0      South Asian   1   1   1   1   1   1    0    1    1    1               Bulgaria   no   no   no    9   A   S0  1\n",
            "186  11.0   0   White-European   1   0   1   1   1   1    1    0    1    1         United Kingdom   no   no   no    8   A   S0  1\n",
            "187   6.0   0              NaN   1   0   0   1   0   1    0    1    1    1                 Jordan   no   no   no    6   A  NaN  0\n",
            "188   4.0   0            Asian   0   0   1   0   1   1    1    1    1    1             Bangladesh   no   no   no    7   A   S0  1\n",
            "189   9.0   1   White-European   0   0   0   0   0   0    1    0    1    0         United Kingdom   no   no   no    2   A   S0  0\n",
            "190  10.0   1           Others   1   0   0   0   1   1    1    0    0    1              Australia   no   no   no    5   A   S0  0\n",
            "191   6.0   0      South Asian   1   0   0   0   1   1    0    0    1    1                  India   no  yes   no    5   A   S0  0\n",
            "192   5.0   1              NaN   0   1   0   0   1   0    0    0    0    1                 Kuwait   no   no   no    3   A  NaN  0\n",
            "193   4.0   0            Asian   1   1   1   1   0   1    0    1    1    1            Isle of Man   no  yes   no    8   A   H1  1\n",
            "194   4.0   1         Hispanic   1   0   1   1   1   1    1    1    1    1          United States   no   no   no    9   A   S0  1\n",
            "195  11.0   1           Others   0   0   1   1   1   1    0    0    0    1         United Kingdom   no  yes   no    5   A   S0  0\n",
            "196   4.0   1              NaN   1   1   1   1   1   1    0    0    1    1                  China   no  yes   no    8   A  NaN  1\n",
            "197   7.0   1            Asian   1   1   1   1   1   1    1    0    1    1            Philippines   no   no   no    9   A   S0  1\n",
            "198   7.0   0              NaN   0   1   0   0   1   0    1    0    0    1                 Jordan   no  yes   no    4   A  NaN  0\n",
            "199   5.0   0   White-European   1   1   1   1   1   1    1    1    1    1          United States   no  yes  yes   10   A   S0  1\n",
            "200   7.0   1  Middle Eastern    0   1   0   0   0   0    0    0    0    0                  Syria   no  yes   no    1   A   S0  0\n",
            "201   4.0   0            Asian   1   1   0   1   0   0    0    0    0    0                  India   no   no   no    3   A   S0  0\n",
            "202   6.0   1  Middle Eastern    1   0   1   0   1   1    0    0    1    1            Afghanistan   no   no   no    6   A   S0  0\n",
            "203   7.0   0   White-European   1   1   1   1   1   1    1    0    1    1          United States   no  yes   no    9   A   S0  1\n",
            "204   6.0   1   White-European   1   1   0   0   1   1    1    1    1    1         United Kingdom  yes   no   no    8   A   S0  1\n",
            "205   5.0   1   White-European   1   1   1   0   1   0    1    0    0    0                  Italy   no   no   no    5   A   S0  0\n",
            "206   4.0   0            Asian   0   0   1   0   1   1    1    0    1    1                  India   no   no   no    6   A   S0  0\n",
            "207   7.0   0            Asian   1   0   1   0   1   0    1    0    0    1                   Oman   no   no   no    5   A   S0  0\n",
            "208   5.0   0   White-European   0   0   0   1   1   1    1    1    1    0         United Kingdom   no   no   no    6   A   S0  0\n",
            "209   8.0   0   White-European   1   1   0   1   1   1    1    0    0    1                Armenia   no   no   no    7   A   S0  1\n",
            "210   4.0   1  Middle Eastern    0   1   1   0   1   1    0    0    0    1                   Iraq   no  yes   no    5   A   R1  0\n",
            "211   5.0   0              NaN   0   1   1   1   1   0    1    1    0    1                  Syria   no   no   no    7   A  NaN  1\n",
            "212  11.0   0          Turkish   0   0   0   0   0   0    0    0    0    1                 Turkey  yes   no   no    1   A   S0  0\n",
            "213   4.0   1   White-European   0   1   1   0   0   1    0    1    1    1         United Kingdom   no  yes   no    6   A   S0  0\n",
            "214  10.0   1   White-European   0   1   0   1   1   1    1    1    1    1              Australia   no   no   no    8   A   H1  1\n",
            "215  10.0   1            Asian   0   1   1   1   0   1    0    0    0    1              Australia   no   no   no    5   A   S0  0\n",
            "216   6.0   1   White-European   1   1   1   0   0   1    1    1    1    1                Ireland   no  yes   no    8   A   S0  1\n",
            "217   5.0   0           Others   1   0   1   1   1   1    1    1    1    1         United Kingdom   no   no   no    9   A   S0  1\n",
            "218   5.0   0           Latino   1   0   1   1   1   1    0    1    0    0                 Mexico  yes   no   no    6   A   S0  0\n",
            "219   4.0   0   White-European   1   1   1   1   1   1    1    1    1    1           South Africa   no   no   no   10   A   S0  1\n",
            "220   4.0   0            Asian   0   0   0   0   1   1    1    0    0    1               Malaysia  yes   no   no    4   A   S0  0\n",
            "221   5.0   0            Asian   0   1   1   0   1   1    0    0    0    1            South Korea   no   no   no    5   A   S0  0\n",
            "222   9.0   0  Middle Eastern    1   0   1   0   0   0    1    1    0    0            New Zealand   no  yes   no    4   A   S0  0\n",
            "223  10.0   0  Middle Eastern    0   0   0   1   0   0    1    0    0    0                 Jordan   no   no   no    2   A   S0  0\n",
            "224   4.0   0            Black   1   0   1   0   1   0    1    0    1    1         United Kingdom   no  yes   no    6   A   S0  0\n",
            "225   NaN   0              NaN   0   1   1   0   1   1    1    1    0    0                  Qatar   no  yes  yes    6   A  NaN  0\n",
            "226  10.0   0  Middle Eastern    0   0   0   0   0   0    1    0    0    0   United Arab Emirates  yes   no   no    1   A   S0  0\n",
            "227   4.0   0      South Asian   1   1   1   1   1   1    0    0    0    1           Saudi Arabia  yes   no   no    7   A   S0  1\n",
            "228   5.0   0   White-European   0   0   1   0   1   0    0    0    0    0              Australia   no   no   no    2   A   S0  0\n",
            "229   7.0   1            Asian   1   1   1   1   1   1    0    0    0    1                  India   no  yes   no    7   A   S0  1\n",
            "230   5.0   0           Latino   1   0   1   1   1   1    0    1    0    1                 Mexico  yes   no   no    7   A   S0  1\n",
            "231   6.0   1   White-European   1   0   1   1   1   1    0    0    1    1            New Zealand   no  yes   no    7   A   S0  1\n",
            "232   4.0   0            Asian   0   1   1   1   1   1    0    1    0    1                  India   no   no   no    7   A   S0  1\n",
            "233   5.0   0            Black   0   0   1   0   0   0    1    0    1    0                  Ghana   no   no   no    3   A   S0  0\n",
            "234   6.0   0      South Asian   1   0   1   1   1   1    0    1    0    1                  India   no   no   no    7   A   S0  1\n",
            "235   8.0   0   White-European   1   0   1   1   1   1    1    1    0    1          United States   no   no   no    8   A   S0  1\n",
            "236   8.0   1      South Asian   0   0   0   0   1   1    0    1    0    1                  India   no   no   no    4   A   S0  0\n",
            "237  10.0   1            Asian   1   1   1   0   1   1    0    0    1    1                  India   no   no   no    7   A   S0  1\n",
            "238   4.0   1            Black   1   1   1   0   0   0    0    0    1    1                 Canada   no   no   no    5   A   S0  0\n",
            "239  11.0   0         Hispanic   1   0   0   1   1   1    1    1    1    1          United States   no   no  yes    8   A   S0  1\n",
            "240   4.0   0   White-European   1   1   1   1   1   1    1    1    1    1         United Kingdom   no  yes   no   10   A   S0  1\n",
            "241   4.0   0            Asian   1   0   1   1   0   1    1    1    0    1                  India   no   no   no    7   A   R1  1\n",
            "242   7.0   0   White-European   0   0   1   1   0   0    0    0    0    0          United States  yes   no   no    2   A   S0  0\n",
            "243   9.0   0   White-European   1   0   0   0   1   0    1    0    0    1              Australia  yes   no   no    4   A   S0  0\n",
            "244   4.0   1            Asian   0   0   1   0   1   1    1    1    1    1         United Kingdom   no  yes   no    7   A   S0  1\n",
            "245   6.0   0   White-European   0   1   1   1   1   0    0    0    1    0                Romania   no   no   no    5   A   S0  0\n",
            "246   8.0   1      South Asian   0   0   0   0   1   1    0    1    0    1                  India   no   no   no    4   A   S0  0\n",
            "247   6.0   0         Pasifika   0   0   1   0   0   1    0    0    1    1            New Zealand   no  yes   no    4   A   S0  0\n",
            "248   5.0   0            Asian   0   0   1   1   1   1    1    1    1    1                  India   no   no   no    8   A   S0  1\n",
            "249   6.0   0      South Asian   1   0   1   0   1   1    1    0    0    1                  India   no  yes   no    6   A   S0  0\n",
            "250   4.0   0   White-European   1   1   1   0   0   0    0    0    0    0  U.S. Outlying Islands   no   no   no    3   A   S0  0\n",
            "251  11.0   1   White-European   1   1   1   1   1   1    1    0    1    1         United Kingdom   no   no   no    9   A   S0  1\n",
            "252   4.0   0            Asian   1   1   1   1   1   1    0    1    0    1            Philippines   no  yes   no    8   A   S0  1\n",
            "253   4.0   0   White-European   1   1   1   1   1   1    1    1    1    1         United Kingdom   no  yes   no   10   A   S0  1\n",
            "254   8.0   0              NaN   0   1   1   1   1   1    0    1    1    1                 Russia   no  yes   no    8   A  NaN  1\n",
            "255   6.0   0              NaN   1   1   1   0   1   0    1    1    0    1                 Jordan   no   no   no    7   A  NaN  1\n",
            "256   8.0   0   White-European   1   0   1   1   1   0    0    0    0    0         United Kingdom   no   no  yes    4   A   S0  0\n",
            "257   6.0   1            Black   1   1   1   1   1   1    1    1    1    1                 Canada   no   no   no   10   A   S0  1\n",
            "258   4.0   0      South Asian   1   0   1   0   1   1    0    1    0    1                  India   no   no   no    6   A   S0  0\n",
            "259   9.0   0            Asian   1   0   1   0   1   1    1    1    0    0                  India   no   no  yes    6   A   S0  0\n",
            "260   8.0   0   White-European   0   0   1   0   1   1    1    0    1    1         United Kingdom   no   no   no    6   A   S0  0\n",
            "261   4.0   0   White-European   1   1   1   1   0   1    0    0    0    1                  Italy   no   no   no    6   A   S0  0\n",
            "262  10.0   0   White-European   1   1   1   1   1   1    1    0    1    1                Germany   no   no   no    9   A   H1  1\n",
            "263   8.0   0   White-European   1   1   1   1   1   0    1    1    1    1              Australia  yes   no   no    9   A   S0  1\n",
            "264   4.0   1   White-European   1   1   1   0   1   0    1    0    1    1         United Kingdom   no  yes   no    7   A   S0  1\n",
            "265   9.0   0              NaN   0   1   0   1   1   0    1    1    0    1                  Egypt   no  yes   no    6   A  NaN  0\n",
            "266   4.0   0            Black   1   1   1   1   1   1    1    0    1    1          United States   no  yes   no    9   A   S0  1\n",
            "267   7.0   1  Middle Eastern    0   1   0   0   0   0    0    0    0    0                  Syria   no  yes   no    1   A   S0  0\n",
            "268   8.0   0   White-European   0   0   1   1   1   1    1    1    0    0         United Kingdom   no   no   no    6   A   S0  0\n",
            "269  10.0   0   White-European   1   0   0   0   1   1    1    1    1    1         United Kingdom   no  yes   no    7   A   S0  1\n",
            "270   4.0   1           Others   0   0   1   0   1   0    1    0    0    0                Georgia  yes  yes   no    3   A   S0  0\n",
            "271   NaN   0  Middle Eastern    0   0   1   0   0   0    0    0    0    0                 Jordan   no   no   no    1   A   S0  0\n",
            "272   5.0   0            Asian   0   0   1   1   1   1    1    1    1    1                  India   no   no   no    8   A   S0  1\n"
          ]
        }
      ]
    },
    {
      "cell_type": "code",
      "source": [
        "#Scenario 1 \n",
        "#Missing values can be imputed with an appropriate technique. I imputed the missing values with mean, I did this because I'm expecting algorithms to handle missing categorical variables automatically.\n",
        "train1 = train1.fillna(train.mean())\n",
        "\n",
        "print(train1.to_string())\n"
      ],
      "metadata": {
        "colab": {
          "base_uri": "https://localhost:8080/"
        },
        "id": "hGDcG3K3zldJ",
        "outputId": "4e29fad3-48b2-40eb-8cb3-d0ebe1928556"
      },
      "execution_count": 155,
      "outputs": [
        {
          "output_type": "stream",
          "name": "stdout",
          "text": [
            "       x1  x2               x3  x4  x5  x6  x7  x8  x9  x10  x11  x12  x13                    x14  x15  x16  x17  x18 x19 x20  y\n",
            "0    10.0   1           Others   1   0   0   0   1   1    1    0    0    1              Australia   no   no   no    5   A  S0  0\n",
            "2     4.0   1   White-European   1   0   1   1   0   1    1    1    0    1          United States   no  yes   no    7   A  S0  1\n",
            "3     7.0   0  Middle Eastern    0   0   1   0   0   0    1    0    0    1                 Jordan   no   no   no    3   A  S0  0\n",
            "5     4.0   1   White-European   1   1   1   1   1   0    1    1    1    1              Australia  yes   no   no    9   A  S0  1\n",
            "6    11.0   0   White-European   1   1   1   1   1   1    1    1    1    1              Australia   no   no   no   10   A  S0  1\n",
            "9     4.0   0            Asian   0   0   1   0   0   1    1    0    0    1                  India   no   no   no    4   A  R1  0\n",
            "10    4.0   0            Asian   0   1   1   1   0   1    0    1    1    1             Bangladesh   no   no   no    7   A  R1  1\n",
            "11    4.0   1            Black   1   0   0   0   0   0    1    0    0    0   United Arab Emirates   no   no   no    2   A  S0  0\n",
            "12    4.0   0            Asian   0   0   1   0   1   1    1    1    1    1             Bangladesh   no   no   no    7   A  S0  1\n",
            "15   10.0   0           Others   0   1   0   1   0   1    0    0    1    1          United States   no   no   no    5   A  R1  0\n",
            "16    6.0   0   White-European   1   0   1   0   1   0    1    0    1    1          United States   no  yes   no    6   A  S0  0\n",
            "18    4.0   0            Asian   0   0   1   0   0   1    1    0    0    1                  India   no   no   no    4   A  R1  0\n",
            "19    9.0   0            Black   1   1   1   1   1   1    1    1    1    1         United Kingdom   no  yes   no   10   A  S0  1\n",
            "21    5.0   0  Middle Eastern    1   1   1   0   0   1    0    1    0    1                 Jordan   no   no   no    6   A  S0  0\n",
            "22    8.0   0            Black   1   1   1   1   1   1    0    0    1    1              Australia   no   no   no    8   A  S0  1\n",
            "23    6.0   0  Middle Eastern    1   1   0   0   1   1    0    1    0    0                 Jordan   no   no   no    5   A  S0  0\n",
            "24   11.0   1   White-European   1   0   0   1   1   1    0    0    0    1              Australia  yes   no   no    5   A  S0  0\n",
            "25    7.0   0            Asian   0   0   1   0   1   0    0    0    0    1                  Japan   no   no   no    3   A  S0  0\n",
            "26    4.0   0   White-European   0   1   1   1   1   1    1    1    1    1          United States   no  yes   no    9   A  S0  1\n",
            "27    5.0   0           Others   1   1   1   1   1   1    1    1    1    1          United States   no  yes   no   10   A  S0  1\n",
            "28    5.0   1         Hispanic   0   0   0   0   0   0    0    0    0    0          United States   no   no   no    0   A  S0  0\n",
            "29    7.0   0  Middle Eastern    0   1   0   0   1   0    0    0    0    0                 Jordan  yes   no   no    2   A  S0  0\n",
            "30    4.0   0   White-European   1   0   0   1   0   1    0    0    0    0            New Zealand   no   no   no    3   A  S0  0\n",
            "31    4.0   1   White-European   1   0   1   0   0   0    0    0    1    0         United Kingdom  yes   no   no    3   A  S0  0\n",
            "32    5.0   0   White-European   1   1   1   1   1   1    1    0    1    0           South Africa   no  yes   no    8   A  S0  1\n",
            "33   11.0   0   White-European   1   1   1   1   1   1    0    1    0    1                 Sweden   no   no   no    8   A  S0  1\n",
            "35    7.0   0            Asian   1   1   0   0   0   0    0    0    0    0            New Zealand   no   no   no    2   A  S0  0\n",
            "36    7.0   0  Middle Eastern    1   0   1   0   1   1    1    1    0    1                 Jordan   no  yes   no    7   A  S0  1\n",
            "37    4.0   1      South Asian   0   0   1   0   1   0    1    0    0    0                  India   no   no   no    3   A  S0  0\n",
            "38    4.0   0         Pasifika   0   0   1   0   1   1    1    1    1    1            New Zealand   no   no   no    7   A  H1  1\n",
            "40    4.0   0            Asian   0   0   1   0   1   1    1    0    1    1                  India   no   no   no    6   A  S0  0\n",
            "41    6.0   0         Hispanic   0   1   1   1   1   1    1    1    1    1          United States   no   no   no    9   A  S0  1\n",
            "42    5.0   0  Middle Eastern    1   0   0   0   1   0    1    1    0    0                 Jordan   no   no   no    4   A  H1  0\n",
            "43    4.0   1      South Asian   1   1   1   1   1   1    1    1    1    1                Armenia   no   no   no   10   A  H1  1\n",
            "44    5.0   0  Middle Eastern    1   1   1   0   1   0    0    0    0    0   United Arab Emirates   no  yes   no    4   A  S0  0\n",
            "45    8.0   0  Middle Eastern    1   0   1   1   0   0    0    1    0    1          United States   no   no   no    5   A  S0  0\n",
            "46    6.0   0   White-European   1   1   1   1   1   1    0    0    1    1          United States   no   no   no    8   A  S0  1\n",
            "47    4.0   0      South Asian   1   1   1   0   1   1    0    0    0    0                  India   no   no   no    5   A  S0  0\n",
            "48    5.0   1           Latino   0   1   1   1   1   1    1    1    1    1                 Bhutan   no  yes   no    9   A  S0  1\n",
            "49    4.0   0      South Asian   1   0   1   1   1   1    0    1    0    1                  India   no   no   no    7   A  S0  1\n",
            "50    4.0   0   White-European   1   1   1   1   1   0    1    1    0    0          United States   no   no   no    7   A  S0  1\n",
            "51    9.0   1  Middle Eastern    1   0   1   1   1   1    1    1    0    1                  Egypt   no   no   no    8   A  S0  1\n",
            "52    6.0   0   White-European   1   0   1   1   1   1    1    1    1    0              Australia   no   no   no    8   A  S0  1\n",
            "53    7.0   1   White-European   1   0   0   0   1   0    1    0    0    1              Australia  yes  yes   no    4   A  S0  0\n",
            "54    4.0   1            Asian   1   1   1   1   1   1    1    1    1    1          United States  yes   no   no   10   A  S0  1\n",
            "55    4.0   0   White-European   1   1   1   0   1   0    1    1    1    1          United States   no  yes   no    8   A  S0  1\n",
            "56    6.0   0           Others   1   0   1   1   1   1    1    1    0    1              Australia   no   no   no    8   A  S0  1\n",
            "57   10.0   0   White-European   0   0   1   1   0   0    1    1    1    0          United States   no   no   no    5   A  S0  0\n",
            "59    7.0   0   White-European   1   1   1   1   1   1    1    1    1    1         United Kingdom   no   no   no   10   A  R1  1\n",
            "60    4.0   0            Asian   0   0   1   0   1   1    1    0    1    1                  India   no   no   no    6   A  S0  0\n",
            "61    5.0   0  Middle Eastern    1   0   0   0   1   0    1    1    0    0                 Jordan   no   no   no    4   A  H1  0\n",
            "62    4.0   0      South Asian   1   1   1   0   1   1    1    1    1    1                  India   no   no   no    9   A  S0  1\n",
            "63    7.0   0           Others   0   0   0   0   0   0    1    0    0    0          United States   no   no   no    1   A  S0  0\n",
            "64    4.0   0           Others   0   1   1   0   1   1    1    0    0    0                  Libya   no  yes   no    5   A  S0  0\n",
            "65    4.0   0   White-European   1   1   1   1   1   1    1    1    1    0              Australia   no   no   no    9   A  S0  1\n",
            "66    5.0   1  Middle Eastern    1   1   1   1   1   1    1    1    0    0                Bahrain   no   no   no    8   A  S0  1\n",
            "67    5.0   0      South Asian   0   0   1   0   1   1    1    1    1    1                  India   no   no   no    7   A  S0  1\n",
            "68   11.0   0         Hispanic   1   1   1   0   1   1    0    0    1    1          United States   no   no   no    7   A  R1  1\n",
            "69   11.0   1   White-European   1   0   0   1   1   1    1    0    0    0         United Kingdom  yes  yes   no    5   A  R1  0\n",
            "70    4.0   1   White-European   1   0   1   1   1   0    1    1    1    1         United Kingdom   no  yes   no    8   A  S0  1\n",
            "71    7.0   0         Hispanic   1   0   1   0   1   1    1    1    0    1          United States   no   no   no    7   A  S0  1\n",
            "72    9.0   0   White-European   0   1   0   1   1   1    1    0    1    1         United Kingdom  yes   no   no    7   A  S0  1\n",
            "73    4.0   0      South Asian   0   1   1   1   1   1    1    1    1    1                  India   no   no   no    9   A  S0  1\n",
            "74    4.0   0            Asian   0   0   0   1   1   1    1    1    1    0             Bangladesh   no   no   no    6   A  R1  0\n",
            "75   11.0   0            Asian   1   1   1   1   1   1    1    1    1    1                  India   no  yes   no   10   A  R1  1\n",
            "77    4.0   0            Asian   1   0   0   0   1   0    0    0    0    1             Bangladesh   no   no   no    3   A  S0  0\n",
            "78    4.0   1   White-European   1   1   1   1   1   1    1    0    1    0         United Kingdom  yes   no   no    8   A  S0  1\n",
            "79    8.0   0   White-European   0   0   1   1   1   1    0    1    1    1          United States   no   no   no    7   A  S0  1\n",
            "80    8.0   0   White-European   0   0   1   1   1   1    1    1    0    0         United Kingdom   no   no   no    6   A  S0  0\n",
            "81    8.0   0   White-European   1   1   1   1   1   1    1    1    1    1          United States   no   no   no   10   A  S0  1\n",
            "83    4.0   0   White-European   1   1   1   1   1   1    0    1    1    1         United Kingdom  yes   no   no    9   A  S0  1\n",
            "84   11.0   0            Asian   0   0   1   0   1   1    1    1    0    1                  India   no   no   no    6   A  S0  0\n",
            "87    6.0   1   White-European   1   0   0   0   1   0    0    1    0    1         United Kingdom   no   no   no    4   A  S0  0\n",
            "88   11.0   1   White-European   1   0   1   1   1   1    1    1    1    1                Austria   no   no   no    9   A  S0  1\n",
            "89   11.0   1   White-European   1   1   0   1   0   1    1    0    1    0         United Kingdom  yes  yes   no    6   A  R1  0\n",
            "90    5.0   0           Others   0   0   0   0   1   1    1    0    1    0          United States   no   no   no    4   A  S0  0\n",
            "91    4.0   1   White-European   1   0   1   1   1   1    1    1    1    1                Georgia   no   no   no    9   A  S0  1\n",
            "92    9.0   1  Middle Eastern    1   0   1   1   1   1    1    1    1    0                Armenia   no   no   no    8   A  H1  1\n",
            "93    8.0   1  Middle Eastern    1   0   1   1   1   1    0    0    1    1                 Canada  yes   no   no    7   A  S0  1\n",
            "95    7.0   0   White-European   0   1   1   1   0   1    0    1    1    0            New Zealand   no  yes   no    6   A  S0  0\n",
            "96    4.0   1         Hispanic   1   0   1   1   1   1    1    1    1    1          United States   no   no   no    9   A  S0  1\n",
            "97    5.0   0            Black   1   0   1   1   1   1    1    1    0    1          United States   no   no   no    8   A  S0  1\n",
            "98    7.0   0   White-European   0   1   1   1   0   1    0    1    1    0            New Zealand   no  yes   no    6   A  S0  0\n",
            "101   7.0   0         Hispanic   1   0   1   0   1   1    1    1    0    1          United States   no   no   no    7   A  S0  1\n",
            "102   8.0   0   White-European   1   1   1   1   1   1    1    0    1    1          United States   no  yes   no    9   A  S0  1\n",
            "104   5.0   0      South Asian   0   0   1   0   1   0    1    0    0    1                  India   no   no   no    4   A  R1  0\n",
            "105   5.0   0            Asian   0   1   1   0   0   1    1    0    1    1                  India   no   no  yes    6   A  R1  0\n",
            "106   7.0   1   White-European   0   1   0   0   1   0    1    0    0    1         United Kingdom   no  yes   no    4   A  S0  0\n",
            "107  11.0   1   White-European   1   1   1   1   0   0    1    0    1    1         United Kingdom   no   no   no    7   A  S0  1\n",
            "108   7.0   0   White-European   0   1   1   0   0   0    1    1    1    1          United States   no  yes   no    6   A  S0  0\n",
            "109   4.0   1   White-European   1   1   0   0   0   0    0    0    0    1          United States   no   no   no    3   A  S0  0\n",
            "110   5.0   0   White-European   0   1   1   1   1   1    0    0    0    1         United Kingdom  yes  yes   no    6   A  S0  0\n",
            "112   4.0   0            Asian   0   0   1   0   1   1    0    1    1    1                  India   no   no   no    6   A  S0  0\n",
            "114   8.0   0   White-European   1   1   1   1   1   0    1    1    1    1              Australia  yes   no   no    9   A  S0  1\n",
            "119   8.0   0   White-European   1   1   1   1   1   1    1    1    1    1                  Malta   no   no   no   10   A  S0  1\n",
            "120   4.0   0  Middle Eastern    0   1   0   0   0   0    0    0    0    0            Afghanistan   no   no   no    1   A  S0  0\n",
            "121  10.0   0   White-European   1   0   0   1   1   1    1    1    1    1          United States   no   no   no    8   A  S0  1\n",
            "122   4.0   0   White-European   1   0   0   0   1   0    1    0    0    1         United Kingdom   no   no   no    4   A  S0  0\n",
            "123   4.0   0            Black   1   0   1   0   1   1    0    1    1    1          United States  yes   no   no    7   A  S0  1\n",
            "124   6.0   1            Black   1   1   1   1   1   1    1    1    1    1                Nigeria   no   no   no   10   A  S0  1\n",
            "125   4.0   0   White-European   0   1   1   1   1   1    0    0    0    1              Australia   no   no   no    6   A  S0  0\n",
            "126   4.0   1   White-European   1   1   1   1   1   1    1    0    1    0         United Kingdom  yes   no   no    8   A  S0  1\n",
            "127   6.0   0           Others   0   0   1   0   0   0    1    0    1    0         United Kingdom   no   no   no    3   A  S0  0\n",
            "128  11.0   0   White-European   1   0   1   1   1   0    1    1    1    1          United States  yes   no   no    8   A  S0  1\n",
            "129   9.0   0   White-European   1   0   0   0   1   0    1    0    0    1              Australia  yes  yes   no    4   A  S0  0\n",
            "130   6.0   0   White-European   0   0   1   1   1   0    1    1    1    0         United Kingdom  yes   no   no    6   A  R1  0\n",
            "132   4.0   1  Middle Eastern    0   1   1   0   1   1    0    0    0    0                   Iraq   no  yes   no    4   A  R1  0\n",
            "133   4.0   0            Asian   0   1   1   1   1   1    1    1    0    1                  India   no   no   no    8   A  S0  1\n",
            "134   8.0   0   White-European   1   1   1   1   1   1    1    1    1    1         United Kingdom   no   no   no   10   A  S0  1\n",
            "135   4.0   0   White-European   1   1   1   0   1   1    1    0    1    1          United States  yes   no   no    8   A  S0  1\n",
            "136  11.0   0            Asian   1   0   1   1   1   1    0    1    0    1                  India   no   no   no    7   A  S0  1\n",
            "137   5.0   0      South Asian   1   0   0   0   1   1    0    1    0    1                  India   no  yes   no    5   A  H1  0\n",
            "139   9.0   0   White-European   1   1   1   1   1   1    1    1    1    1         United Kingdom   no   no   no   10   A  S0  1\n",
            "141   4.0   0   White-European   1   1   1   1   1   1    1    0    0    1          United States  yes   no   no    8   A  S0  1\n",
            "142   4.0   0         Hispanic   1   0   1   1   1   1    0    0    1    1          United States  yes   no   no    7   A  S0  1\n",
            "143   4.0   0   White-European   1   1   1   1   1   1    1    0    1    1          United States   no   no   no    9   A  S0  1\n",
            "144  10.0   1   White-European   0   1   1   0   0   1    1    1    0    1            Netherlands   no   no   no    6   A  S0  0\n",
            "145   7.0   0            Black   1   0   0   1   1   1    1    0    1    1          United States   no   no   no    7   A  S0  1\n",
            "146   6.0   0           Others   1   1   1   1   1   1    1    1    0    1         United Kingdom   no  yes   no    9   A  S0  1\n",
            "149  10.0   0            Black   1   1   1   1   0   1    0    1    1    1                  India   no  yes   no    8   A  S0  1\n",
            "150   6.0   0            Asian   1   1   0   0   1   0    1    1    0    0                  India   no   no   no    5   A  S0  0\n",
            "151   7.0   0  Middle Eastern    0   1   0   1   1   1    1    1    0    1                  Egypt   no  yes   no    7   A  S0  1\n",
            "152   5.0   1  Middle Eastern    1   0   1   1   1   1    0    1    1    1                 Canada   no   no   no    8   A  S0  1\n",
            "153  10.0   1   White-European   0   1   0   1   1   1    1    1    1    1              Australia   no   no   no    8   A  H1  1\n",
            "154   4.0   1   White-European   1   0   1   0   1   1    1    0    1    0         United Kingdom  yes  yes   no    6   A  S0  0\n",
            "155  11.0   1           Latino   0   1   1   0   0   1    0    0    1    1            Philippines   no  yes   no    5   A  H1  0\n",
            "157   4.0   1   White-European   1   0   1   1   1   1    1    0    1    1              Australia   no   no   no    8   A  S0  1\n",
            "159   6.0   1            Asian   1   1   1   1   0   1    1    0    0    1            Philippines   no   no   no    7   A  S0  1\n",
            "160  11.0   1  Middle Eastern    1   1   1   1   1   1    1    0    0    0                Bahrain   no   no   no    7   A  S0  1\n",
            "162   7.0   1   White-European   1   1   1   1   1   1    1    1    1    1         United Kingdom  yes  yes   no   10   A  S0  1\n",
            "163   7.0   0   White-European   0   1   1   1   1   1    1    1    1    1            New Zealand  yes  yes   no    9   A  S0  1\n",
            "165   9.0   0            Asian   1   0   1   0   1   1    1    1    0    0                  India   no   no  yes    6   A  S0  0\n",
            "167   4.0   0          Turkish   1   0   1   0   1   0    0    0    0    0                 Turkey   no   no   no    3   A  R1  0\n",
            "168   5.0   0            Asian   0   0   0   1   1   1    0    0    0    1                  India  yes   no   no    4   A  S0  0\n",
            "169   5.0   0  Middle Eastern    1   1   1   0   0   1    0    0    0    1   United Arab Emirates   no  yes   no    5   A  S0  0\n",
            "171   5.0   0      South Asian   1   0   1   1   0   1    0    1    1    0                  India   no   no   no    6   A  S0  0\n",
            "172   8.0   0  Middle Eastern    0   0   0   0   1   0    1    1    0    1   United Arab Emirates   no   no   no    4   A  S0  0\n",
            "173   4.0   1   White-European   0   0   1   0   1   0    1    0    0    1              Australia  yes   no   no    4   A  R1  0\n",
            "174  11.0   0            Asian   0   1   0   0   0   1    1    1    0    0              Argentina   no   no   no    4   A  S0  0\n",
            "175   4.0   0            Asian   0   1   1   0   1   0    0    0    0    1             Bangladesh  yes   no   no    4   A  S0  0\n",
            "176   4.0   0            Black   1   1   1   1   1   1    1    0    1    1          United States   no  yes   no    9   A  S0  1\n",
            "177   9.0   0            Asian   1   1   1   0   1   1    1    1    1    1               Pakistan   no  yes   no    9   A  S0  1\n",
            "178   6.0   0            Asian   1   0   1   1   0   0    0    0    1    0                  India   no   no   no    4   A  H1  0\n",
            "179   7.0   1   White-European   1   0   1   1   1   0    1    1    1    1              Australia   no   no   no    8   A  S0  1\n",
            "181  11.0   1   White-European   1   1   1   1   1   1    1    0    1    1         United Kingdom   no   no   no    9   A  S0  1\n",
            "182   4.0   0      South Asian   1   1   0   0   1   1    0    0    0    1                  India   no   no   no    5   A  S0  0\n",
            "183   6.0   0            Asian   1   1   1   1   1   1    1    1    1    0                  India  yes   no   no    9   A  S0  1\n",
            "184   5.0   0           Latino   1   1   1   1   0   1    0    0    0    0             Costa Rica  yes   no   no    5   A  S0  0\n",
            "185   4.0   0      South Asian   1   1   1   1   1   1    0    1    1    1               Bulgaria   no   no   no    9   A  S0  1\n",
            "186  11.0   0   White-European   1   0   1   1   1   1    1    0    1    1         United Kingdom   no   no   no    8   A  S0  1\n",
            "188   4.0   0            Asian   0   0   1   0   1   1    1    1    1    1             Bangladesh   no   no   no    7   A  S0  1\n",
            "189   9.0   1   White-European   0   0   0   0   0   0    1    0    1    0         United Kingdom   no   no   no    2   A  S0  0\n",
            "190  10.0   1           Others   1   0   0   0   1   1    1    0    0    1              Australia   no   no   no    5   A  S0  0\n",
            "191   6.0   0      South Asian   1   0   0   0   1   1    0    0    1    1                  India   no  yes   no    5   A  S0  0\n",
            "193   4.0   0            Asian   1   1   1   1   0   1    0    1    1    1            Isle of Man   no  yes   no    8   A  H1  1\n",
            "194   4.0   1         Hispanic   1   0   1   1   1   1    1    1    1    1          United States   no   no   no    9   A  S0  1\n",
            "195  11.0   1           Others   0   0   1   1   1   1    0    0    0    1         United Kingdom   no  yes   no    5   A  S0  0\n",
            "197   7.0   1            Asian   1   1   1   1   1   1    1    0    1    1            Philippines   no   no   no    9   A  S0  1\n",
            "199   5.0   0   White-European   1   1   1   1   1   1    1    1    1    1          United States   no  yes  yes   10   A  S0  1\n",
            "200   7.0   1  Middle Eastern    0   1   0   0   0   0    0    0    0    0                  Syria   no  yes   no    1   A  S0  0\n",
            "201   4.0   0            Asian   1   1   0   1   0   0    0    0    0    0                  India   no   no   no    3   A  S0  0\n",
            "202   6.0   1  Middle Eastern    1   0   1   0   1   1    0    0    1    1            Afghanistan   no   no   no    6   A  S0  0\n",
            "203   7.0   0   White-European   1   1   1   1   1   1    1    0    1    1          United States   no  yes   no    9   A  S0  1\n",
            "204   6.0   1   White-European   1   1   0   0   1   1    1    1    1    1         United Kingdom  yes   no   no    8   A  S0  1\n",
            "205   5.0   1   White-European   1   1   1   0   1   0    1    0    0    0                  Italy   no   no   no    5   A  S0  0\n",
            "206   4.0   0            Asian   0   0   1   0   1   1    1    0    1    1                  India   no   no   no    6   A  S0  0\n",
            "207   7.0   0            Asian   1   0   1   0   1   0    1    0    0    1                   Oman   no   no   no    5   A  S0  0\n",
            "208   5.0   0   White-European   0   0   0   1   1   1    1    1    1    0         United Kingdom   no   no   no    6   A  S0  0\n",
            "209   8.0   0   White-European   1   1   0   1   1   1    1    0    0    1                Armenia   no   no   no    7   A  S0  1\n",
            "210   4.0   1  Middle Eastern    0   1   1   0   1   1    0    0    0    1                   Iraq   no  yes   no    5   A  R1  0\n",
            "212  11.0   0          Turkish   0   0   0   0   0   0    0    0    0    1                 Turkey  yes   no   no    1   A  S0  0\n",
            "213   4.0   1   White-European   0   1   1   0   0   1    0    1    1    1         United Kingdom   no  yes   no    6   A  S0  0\n",
            "214  10.0   1   White-European   0   1   0   1   1   1    1    1    1    1              Australia   no   no   no    8   A  H1  1\n",
            "215  10.0   1            Asian   0   1   1   1   0   1    0    0    0    1              Australia   no   no   no    5   A  S0  0\n",
            "216   6.0   1   White-European   1   1   1   0   0   1    1    1    1    1                Ireland   no  yes   no    8   A  S0  1\n",
            "217   5.0   0           Others   1   0   1   1   1   1    1    1    1    1         United Kingdom   no   no   no    9   A  S0  1\n",
            "218   5.0   0           Latino   1   0   1   1   1   1    0    1    0    0                 Mexico  yes   no   no    6   A  S0  0\n",
            "219   4.0   0   White-European   1   1   1   1   1   1    1    1    1    1           South Africa   no   no   no   10   A  S0  1\n",
            "220   4.0   0            Asian   0   0   0   0   1   1    1    0    0    1               Malaysia  yes   no   no    4   A  S0  0\n",
            "221   5.0   0            Asian   0   1   1   0   1   1    0    0    0    1            South Korea   no   no   no    5   A  S0  0\n",
            "222   9.0   0  Middle Eastern    1   0   1   0   0   0    1    1    0    0            New Zealand   no  yes   no    4   A  S0  0\n",
            "223  10.0   0  Middle Eastern    0   0   0   1   0   0    1    0    0    0                 Jordan   no   no   no    2   A  S0  0\n",
            "224   4.0   0            Black   1   0   1   0   1   0    1    0    1    1         United Kingdom   no  yes   no    6   A  S0  0\n",
            "226  10.0   0  Middle Eastern    0   0   0   0   0   0    1    0    0    0   United Arab Emirates  yes   no   no    1   A  S0  0\n",
            "227   4.0   0      South Asian   1   1   1   1   1   1    0    0    0    1           Saudi Arabia  yes   no   no    7   A  S0  1\n",
            "228   5.0   0   White-European   0   0   1   0   1   0    0    0    0    0              Australia   no   no   no    2   A  S0  0\n",
            "229   7.0   1            Asian   1   1   1   1   1   1    0    0    0    1                  India   no  yes   no    7   A  S0  1\n",
            "230   5.0   0           Latino   1   0   1   1   1   1    0    1    0    1                 Mexico  yes   no   no    7   A  S0  1\n",
            "231   6.0   1   White-European   1   0   1   1   1   1    0    0    1    1            New Zealand   no  yes   no    7   A  S0  1\n",
            "232   4.0   0            Asian   0   1   1   1   1   1    0    1    0    1                  India   no   no   no    7   A  S0  1\n",
            "233   5.0   0            Black   0   0   1   0   0   0    1    0    1    0                  Ghana   no   no   no    3   A  S0  0\n",
            "234   6.0   0      South Asian   1   0   1   1   1   1    0    1    0    1                  India   no   no   no    7   A  S0  1\n",
            "235   8.0   0   White-European   1   0   1   1   1   1    1    1    0    1          United States   no   no   no    8   A  S0  1\n",
            "236   8.0   1      South Asian   0   0   0   0   1   1    0    1    0    1                  India   no   no   no    4   A  S0  0\n",
            "237  10.0   1            Asian   1   1   1   0   1   1    0    0    1    1                  India   no   no   no    7   A  S0  1\n",
            "238   4.0   1            Black   1   1   1   0   0   0    0    0    1    1                 Canada   no   no   no    5   A  S0  0\n",
            "239  11.0   0         Hispanic   1   0   0   1   1   1    1    1    1    1          United States   no   no  yes    8   A  S0  1\n",
            "240   4.0   0   White-European   1   1   1   1   1   1    1    1    1    1         United Kingdom   no  yes   no   10   A  S0  1\n",
            "241   4.0   0            Asian   1   0   1   1   0   1    1    1    0    1                  India   no   no   no    7   A  R1  1\n",
            "242   7.0   0   White-European   0   0   1   1   0   0    0    0    0    0          United States  yes   no   no    2   A  S0  0\n",
            "243   9.0   0   White-European   1   0   0   0   1   0    1    0    0    1              Australia  yes   no   no    4   A  S0  0\n",
            "244   4.0   1            Asian   0   0   1   0   1   1    1    1    1    1         United Kingdom   no  yes   no    7   A  S0  1\n",
            "245   6.0   0   White-European   0   1   1   1   1   0    0    0    1    0                Romania   no   no   no    5   A  S0  0\n",
            "246   8.0   1      South Asian   0   0   0   0   1   1    0    1    0    1                  India   no   no   no    4   A  S0  0\n",
            "247   6.0   0         Pasifika   0   0   1   0   0   1    0    0    1    1            New Zealand   no  yes   no    4   A  S0  0\n",
            "248   5.0   0            Asian   0   0   1   1   1   1    1    1    1    1                  India   no   no   no    8   A  S0  1\n",
            "249   6.0   0      South Asian   1   0   1   0   1   1    1    0    0    1                  India   no  yes   no    6   A  S0  0\n",
            "250   4.0   0   White-European   1   1   1   0   0   0    0    0    0    0  U.S. Outlying Islands   no   no   no    3   A  S0  0\n",
            "251  11.0   1   White-European   1   1   1   1   1   1    1    0    1    1         United Kingdom   no   no   no    9   A  S0  1\n",
            "252   4.0   0            Asian   1   1   1   1   1   1    0    1    0    1            Philippines   no  yes   no    8   A  S0  1\n",
            "253   4.0   0   White-European   1   1   1   1   1   1    1    1    1    1         United Kingdom   no  yes   no   10   A  S0  1\n",
            "256   8.0   0   White-European   1   0   1   1   1   0    0    0    0    0         United Kingdom   no   no  yes    4   A  S0  0\n",
            "257   6.0   1            Black   1   1   1   1   1   1    1    1    1    1                 Canada   no   no   no   10   A  S0  1\n",
            "258   4.0   0      South Asian   1   0   1   0   1   1    0    1    0    1                  India   no   no   no    6   A  S0  0\n",
            "259   9.0   0            Asian   1   0   1   0   1   1    1    1    0    0                  India   no   no  yes    6   A  S0  0\n",
            "260   8.0   0   White-European   0   0   1   0   1   1    1    0    1    1         United Kingdom   no   no   no    6   A  S0  0\n",
            "261   4.0   0   White-European   1   1   1   1   0   1    0    0    0    1                  Italy   no   no   no    6   A  S0  0\n",
            "262  10.0   0   White-European   1   1   1   1   1   1    1    0    1    1                Germany   no   no   no    9   A  H1  1\n",
            "263   8.0   0   White-European   1   1   1   1   1   0    1    1    1    1              Australia  yes   no   no    9   A  S0  1\n",
            "264   4.0   1   White-European   1   1   1   0   1   0    1    0    1    1         United Kingdom   no  yes   no    7   A  S0  1\n",
            "266   4.0   0            Black   1   1   1   1   1   1    1    0    1    1          United States   no  yes   no    9   A  S0  1\n",
            "267   7.0   1  Middle Eastern    0   1   0   0   0   0    0    0    0    0                  Syria   no  yes   no    1   A  S0  0\n",
            "268   8.0   0   White-European   0   0   1   1   1   1    1    1    0    0         United Kingdom   no   no   no    6   A  S0  0\n",
            "269  10.0   0   White-European   1   0   0   0   1   1    1    1    1    1         United Kingdom   no  yes   no    7   A  S0  1\n",
            "270   4.0   1           Others   0   0   1   0   1   0    1    0    0    0                Georgia  yes  yes   no    3   A  S0  0\n",
            "272   5.0   0            Asian   0   0   1   1   1   1    1    1    1    1                  India   no   no   no    8   A  S0  1\n"
          ]
        }
      ]
    },
    {
      "cell_type": "markdown",
      "source": [
        "Question 2.2 \n",
        "\n",
        "Perform subset selection using two approaches. For example, you may use LASSO (or any other\n",
        "technique, for example ElasticNet). Summarize your results by listing the variables that are most\n",
        "predictive. Which variables can be dropped?"
      ],
      "metadata": {
        "id": "Vx6rA10zDCV2"
      }
    },
    {
      "cell_type": "code",
      "source": [
        "train1['x15'] = train1['x15'].map(\n",
        "    {'yes':1, 'no':0})\n",
        "\n",
        "train1['x16'] = train1['x16'].map(\n",
        "    {'yes':1, 'no':0})\n",
        "\n",
        "train1['x17'] = train1['x17'].map(\n",
        "    {'yes':1, 'no':0})"
      ],
      "metadata": {
        "id": "b0vzLr1Z8W8C"
      },
      "execution_count": 156,
      "outputs": []
    },
    {
      "cell_type": "code",
      "source": [
        "train1.head(10)"
      ],
      "metadata": {
        "colab": {
          "base_uri": "https://localhost:8080/",
          "height": 486
        },
        "id": "4Ap6V8BO_OIS",
        "outputId": "1a77402b-cc82-44ec-88bd-8724e38b031b"
      },
      "execution_count": 157,
      "outputs": [
        {
          "output_type": "execute_result",
          "data": {
            "text/html": [
              "<div>\n",
              "<style scoped>\n",
              "    .dataframe tbody tr th:only-of-type {\n",
              "        vertical-align: middle;\n",
              "    }\n",
              "\n",
              "    .dataframe tbody tr th {\n",
              "        vertical-align: top;\n",
              "    }\n",
              "\n",
              "    .dataframe thead th {\n",
              "        text-align: right;\n",
              "    }\n",
              "</style>\n",
              "<table border=\"1\" class=\"dataframe\">\n",
              "  <thead>\n",
              "    <tr style=\"text-align: right;\">\n",
              "      <th></th>\n",
              "      <th>x1</th>\n",
              "      <th>x2</th>\n",
              "      <th>x3</th>\n",
              "      <th>x4</th>\n",
              "      <th>x5</th>\n",
              "      <th>x6</th>\n",
              "      <th>x7</th>\n",
              "      <th>x8</th>\n",
              "      <th>x9</th>\n",
              "      <th>x10</th>\n",
              "      <th>x11</th>\n",
              "      <th>x12</th>\n",
              "      <th>x13</th>\n",
              "      <th>x14</th>\n",
              "      <th>x15</th>\n",
              "      <th>x16</th>\n",
              "      <th>x17</th>\n",
              "      <th>x18</th>\n",
              "      <th>x19</th>\n",
              "      <th>x20</th>\n",
              "      <th>y</th>\n",
              "    </tr>\n",
              "  </thead>\n",
              "  <tbody>\n",
              "    <tr>\n",
              "      <th>0</th>\n",
              "      <td>10.0</td>\n",
              "      <td>1</td>\n",
              "      <td>Others</td>\n",
              "      <td>1</td>\n",
              "      <td>0</td>\n",
              "      <td>0</td>\n",
              "      <td>0</td>\n",
              "      <td>1</td>\n",
              "      <td>1</td>\n",
              "      <td>1</td>\n",
              "      <td>0</td>\n",
              "      <td>0</td>\n",
              "      <td>1</td>\n",
              "      <td>Australia</td>\n",
              "      <td>0</td>\n",
              "      <td>0</td>\n",
              "      <td>0</td>\n",
              "      <td>5</td>\n",
              "      <td>A</td>\n",
              "      <td>S0</td>\n",
              "      <td>0</td>\n",
              "    </tr>\n",
              "    <tr>\n",
              "      <th>2</th>\n",
              "      <td>4.0</td>\n",
              "      <td>1</td>\n",
              "      <td>White-European</td>\n",
              "      <td>1</td>\n",
              "      <td>0</td>\n",
              "      <td>1</td>\n",
              "      <td>1</td>\n",
              "      <td>0</td>\n",
              "      <td>1</td>\n",
              "      <td>1</td>\n",
              "      <td>1</td>\n",
              "      <td>0</td>\n",
              "      <td>1</td>\n",
              "      <td>United States</td>\n",
              "      <td>0</td>\n",
              "      <td>1</td>\n",
              "      <td>0</td>\n",
              "      <td>7</td>\n",
              "      <td>A</td>\n",
              "      <td>S0</td>\n",
              "      <td>1</td>\n",
              "    </tr>\n",
              "    <tr>\n",
              "      <th>3</th>\n",
              "      <td>7.0</td>\n",
              "      <td>0</td>\n",
              "      <td>Middle Eastern</td>\n",
              "      <td>0</td>\n",
              "      <td>0</td>\n",
              "      <td>1</td>\n",
              "      <td>0</td>\n",
              "      <td>0</td>\n",
              "      <td>0</td>\n",
              "      <td>1</td>\n",
              "      <td>0</td>\n",
              "      <td>0</td>\n",
              "      <td>1</td>\n",
              "      <td>Jordan</td>\n",
              "      <td>0</td>\n",
              "      <td>0</td>\n",
              "      <td>0</td>\n",
              "      <td>3</td>\n",
              "      <td>A</td>\n",
              "      <td>S0</td>\n",
              "      <td>0</td>\n",
              "    </tr>\n",
              "    <tr>\n",
              "      <th>5</th>\n",
              "      <td>4.0</td>\n",
              "      <td>1</td>\n",
              "      <td>White-European</td>\n",
              "      <td>1</td>\n",
              "      <td>1</td>\n",
              "      <td>1</td>\n",
              "      <td>1</td>\n",
              "      <td>1</td>\n",
              "      <td>0</td>\n",
              "      <td>1</td>\n",
              "      <td>1</td>\n",
              "      <td>1</td>\n",
              "      <td>1</td>\n",
              "      <td>Australia</td>\n",
              "      <td>1</td>\n",
              "      <td>0</td>\n",
              "      <td>0</td>\n",
              "      <td>9</td>\n",
              "      <td>A</td>\n",
              "      <td>S0</td>\n",
              "      <td>1</td>\n",
              "    </tr>\n",
              "    <tr>\n",
              "      <th>6</th>\n",
              "      <td>11.0</td>\n",
              "      <td>0</td>\n",
              "      <td>White-European</td>\n",
              "      <td>1</td>\n",
              "      <td>1</td>\n",
              "      <td>1</td>\n",
              "      <td>1</td>\n",
              "      <td>1</td>\n",
              "      <td>1</td>\n",
              "      <td>1</td>\n",
              "      <td>1</td>\n",
              "      <td>1</td>\n",
              "      <td>1</td>\n",
              "      <td>Australia</td>\n",
              "      <td>0</td>\n",
              "      <td>0</td>\n",
              "      <td>0</td>\n",
              "      <td>10</td>\n",
              "      <td>A</td>\n",
              "      <td>S0</td>\n",
              "      <td>1</td>\n",
              "    </tr>\n",
              "    <tr>\n",
              "      <th>9</th>\n",
              "      <td>4.0</td>\n",
              "      <td>0</td>\n",
              "      <td>Asian</td>\n",
              "      <td>0</td>\n",
              "      <td>0</td>\n",
              "      <td>1</td>\n",
              "      <td>0</td>\n",
              "      <td>0</td>\n",
              "      <td>1</td>\n",
              "      <td>1</td>\n",
              "      <td>0</td>\n",
              "      <td>0</td>\n",
              "      <td>1</td>\n",
              "      <td>India</td>\n",
              "      <td>0</td>\n",
              "      <td>0</td>\n",
              "      <td>0</td>\n",
              "      <td>4</td>\n",
              "      <td>A</td>\n",
              "      <td>R1</td>\n",
              "      <td>0</td>\n",
              "    </tr>\n",
              "    <tr>\n",
              "      <th>10</th>\n",
              "      <td>4.0</td>\n",
              "      <td>0</td>\n",
              "      <td>Asian</td>\n",
              "      <td>0</td>\n",
              "      <td>1</td>\n",
              "      <td>1</td>\n",
              "      <td>1</td>\n",
              "      <td>0</td>\n",
              "      <td>1</td>\n",
              "      <td>0</td>\n",
              "      <td>1</td>\n",
              "      <td>1</td>\n",
              "      <td>1</td>\n",
              "      <td>Bangladesh</td>\n",
              "      <td>0</td>\n",
              "      <td>0</td>\n",
              "      <td>0</td>\n",
              "      <td>7</td>\n",
              "      <td>A</td>\n",
              "      <td>R1</td>\n",
              "      <td>1</td>\n",
              "    </tr>\n",
              "    <tr>\n",
              "      <th>11</th>\n",
              "      <td>4.0</td>\n",
              "      <td>1</td>\n",
              "      <td>Black</td>\n",
              "      <td>1</td>\n",
              "      <td>0</td>\n",
              "      <td>0</td>\n",
              "      <td>0</td>\n",
              "      <td>0</td>\n",
              "      <td>0</td>\n",
              "      <td>1</td>\n",
              "      <td>0</td>\n",
              "      <td>0</td>\n",
              "      <td>0</td>\n",
              "      <td>United Arab Emirates</td>\n",
              "      <td>0</td>\n",
              "      <td>0</td>\n",
              "      <td>0</td>\n",
              "      <td>2</td>\n",
              "      <td>A</td>\n",
              "      <td>S0</td>\n",
              "      <td>0</td>\n",
              "    </tr>\n",
              "    <tr>\n",
              "      <th>12</th>\n",
              "      <td>4.0</td>\n",
              "      <td>0</td>\n",
              "      <td>Asian</td>\n",
              "      <td>0</td>\n",
              "      <td>0</td>\n",
              "      <td>1</td>\n",
              "      <td>0</td>\n",
              "      <td>1</td>\n",
              "      <td>1</td>\n",
              "      <td>1</td>\n",
              "      <td>1</td>\n",
              "      <td>1</td>\n",
              "      <td>1</td>\n",
              "      <td>Bangladesh</td>\n",
              "      <td>0</td>\n",
              "      <td>0</td>\n",
              "      <td>0</td>\n",
              "      <td>7</td>\n",
              "      <td>A</td>\n",
              "      <td>S0</td>\n",
              "      <td>1</td>\n",
              "    </tr>\n",
              "    <tr>\n",
              "      <th>15</th>\n",
              "      <td>10.0</td>\n",
              "      <td>0</td>\n",
              "      <td>Others</td>\n",
              "      <td>0</td>\n",
              "      <td>1</td>\n",
              "      <td>0</td>\n",
              "      <td>1</td>\n",
              "      <td>0</td>\n",
              "      <td>1</td>\n",
              "      <td>0</td>\n",
              "      <td>0</td>\n",
              "      <td>1</td>\n",
              "      <td>1</td>\n",
              "      <td>United States</td>\n",
              "      <td>0</td>\n",
              "      <td>0</td>\n",
              "      <td>0</td>\n",
              "      <td>5</td>\n",
              "      <td>A</td>\n",
              "      <td>R1</td>\n",
              "      <td>0</td>\n",
              "    </tr>\n",
              "  </tbody>\n",
              "</table>\n",
              "</div>"
            ],
            "text/plain": [
              "      x1  x2               x3  x4  x5  x6  x7  ...  x15  x16  x17  x18  x19  x20  y\n",
              "0   10.0   1           Others   1   0   0   0  ...    0    0    0    5    A   S0  0\n",
              "2    4.0   1   White-European   1   0   1   1  ...    0    1    0    7    A   S0  1\n",
              "3    7.0   0  Middle Eastern    0   0   1   0  ...    0    0    0    3    A   S0  0\n",
              "5    4.0   1   White-European   1   1   1   1  ...    1    0    0    9    A   S0  1\n",
              "6   11.0   0   White-European   1   1   1   1  ...    0    0    0   10    A   S0  1\n",
              "9    4.0   0            Asian   0   0   1   0  ...    0    0    0    4    A   R1  0\n",
              "10   4.0   0            Asian   0   1   1   1  ...    0    0    0    7    A   R1  1\n",
              "11   4.0   1            Black   1   0   0   0  ...    0    0    0    2    A   S0  0\n",
              "12   4.0   0            Asian   0   0   1   0  ...    0    0    0    7    A   S0  1\n",
              "15  10.0   0           Others   0   1   0   1  ...    0    0    0    5    A   R1  0\n",
              "\n",
              "[10 rows x 21 columns]"
            ]
          },
          "metadata": {},
          "execution_count": 157
        }
      ]
    },
    {
      "cell_type": "code",
      "source": [
        ""
      ],
      "metadata": {
        "id": "1assqC1lAaQQ"
      },
      "execution_count": null,
      "outputs": []
    },
    {
      "cell_type": "code",
      "source": [
        "#Evaluate an lasso Regression Model on the dataset\n",
        "import numpy as np    \n",
        "import pandas as pd\n",
        "import matplotlib.pyplot as plt\n",
        "from sklearn.preprocessing import scale\n",
        "from sklearn.model_selection import train_test_split\n",
        "from sklearn.linear_model import Ridge, RidgeCV, Lasso, LassoCV\n",
        "from sklearn.metrics import mean_squared_error\n",
        "\n",
        "#Split Training Data\n",
        "# create dataset \n",
        "y = train1.y\n",
        "#Removed categorical columns to run and fit Lasso Regression model.  Could not convert float to strings \n",
        "X = train1.drop(['y','x3','x14','x19','x20'], axis = 1)\n",
        "X.head(10)\n",
        "\n",
        "#Split data into Test and Train \n",
        "X_train, X_test, y_train, y_test = train_test_split(X, y, test_size = 0.3, random_state = 1)\n",
        "train, test = train_test_split(train1)\n",
        "\n",
        "\n",
        "#Lasso Regression Model Build\n",
        "alphas = 10**np.linspace(10,-2,100)*0.5\n",
        "lasso = Lasso(max_iter = 10000, normalize = True)\n",
        "coefs = []\n",
        "\n",
        "for a in alphas: \n",
        "  lasso.set_params(alpha=a)\n",
        "  lasso.fit(scale(X_train), y_train)\n",
        "  coefs.append(lasso.sparse_coef_)\n",
        "\n"
      ],
      "metadata": {
        "id": "AtomgUlFsZKn"
      },
      "execution_count": null,
      "outputs": []
    },
    {
      "cell_type": "code",
      "source": [
        "#Lasso Regression Model and MSE output \n",
        "\n",
        "lassocv = LassoCV(alphas = None, cv = 10, max_iter = 100000, normalize=True)\n",
        "lassocv.fit(X_train, y_train)\n",
        "\n",
        "lasso.set_params(alpha=lassocv.alpha_)\n",
        "lasso.fit(X_train, y_train)\n",
        "mean_squared_error(y_test, lasso.predict(X_test))\n",
        "                  "
      ],
      "metadata": {
        "id": "PHrnwjRMB_oV"
      },
      "execution_count": null,
      "outputs": []
    },
    {
      "cell_type": "markdown",
      "source": [
        "Answer:  I dropped categrical variables (columns: x3, x14, x19, and x20).  I dropped these from my X_train dataset because they didn't allow me to get an accurate read on my model. "
      ],
      "metadata": {
        "id": "Focx-QTtDRko"
      }
    },
    {
      "cell_type": "markdown",
      "source": [
        "Question 3:\n",
        "Build a logistic regression classifier and evaluate the model performance using AUC, sensitivity specificity, and F1 score.  Demonstrate your work by showing the code and relavant output and confusion matrix."
      ],
      "metadata": {
        "id": "dc49tFLxk2oT"
      }
    },
    {
      "cell_type": "code",
      "source": [
        "import matplotlib.pyplot as plt\n",
        "import numpy as np\n",
        "from sklearn.linear_model import LogisticRegression\n",
        "from sklearn import metrics\n",
        "\n",
        "#instantiate the model using the default parameters\n",
        "logreg = LogisticRegression()\n",
        "\n",
        "#fit the model with data\n",
        "logreg.fit(X_train, y_train)\n",
        "\n",
        "#prediction \n",
        "y_pred=logreg.predict(X_test)\n",
        "\n",
        "#Metrics for confusion matrix \n",
        "cnf_matrix = metrics.confusion_matrix(y_test, y_pred)\n",
        "\n",
        "cnf_matrix"
      ],
      "metadata": {
        "colab": {
          "base_uri": "https://localhost:8080/"
        },
        "id": "wEl37n3nlHEJ",
        "outputId": "e9b01500-59e3-4d1b-fcc4-691bf02dd84f"
      },
      "execution_count": 187,
      "outputs": [
        {
          "output_type": "execute_result",
          "data": {
            "text/plain": [
              "array([[29,  0],\n",
              "       [ 0, 39]])"
            ]
          },
          "metadata": {},
          "execution_count": 187
        }
      ]
    },
    {
      "cell_type": "code",
      "source": [
        "#Evaluation of the model \n",
        "print(\"Accuracy:\", metrics.accuracy_score(y_test, y_pred))\n",
        "print(\"Precision:\", metrics.precision_score(y_test, y_pred))\n",
        "print(\"Recall:\", metrics.recall_score(y_test, y_pred))"
      ],
      "metadata": {
        "colab": {
          "base_uri": "https://localhost:8080/"
        },
        "id": "e6kMYNs7FjPI",
        "outputId": "cb657e44-d7dc-406c-b92c-15bf456db057"
      },
      "execution_count": 194,
      "outputs": [
        {
          "output_type": "stream",
          "name": "stdout",
          "text": [
            "Accuracy: 1.0\n",
            "Precision: 1.0\n",
            "Recall: 1.0\n"
          ]
        }
      ]
    },
    {
      "cell_type": "markdown",
      "source": [
        "Classification report which identified the output of the model's results in regards to accuracy, precison, and recall of model\n"
      ],
      "metadata": {
        "id": "BgP-A9yCyf2_"
      }
    },
    {
      "cell_type": "markdown",
      "source": [
        "Question 4 \n",
        "\n",
        "\n",
        "Build a Random Forest classifier under each scenario and evaluate the performance using AUC, sensitivity, specificity, and F1 score.  Demonstrate your work by showing the code and relavant outputs including ROC/AUC, and confusion matrix.\n",
        "\n",
        "- Use the default number of trees to build the random forest.  If you use randomForest  R package, the default is ntree = 500.  If you use sklearn, the default is 10 or 100 depending on version. \n",
        "\n",
        "- Peform a variable importance measure and re-do the model fitting with the most important predictors only (you determine the criteria of importance).\n"
      ],
      "metadata": {
        "id": "5Ntfd4QF5E-m"
      }
    },
    {
      "cell_type": "code",
      "source": [
        "#Import Random Forest Model \n",
        "from sklearn.ensemble import RandomForestClassifier\n",
        "\n",
        "clf = RandomForestClassifier(n_estimators=100)\n",
        "\n",
        "#Train the model using the training sets y_pred= clif.predict(X_test)\n",
        "\n",
        "clf.fit(X_train, y_train)\n",
        "\n",
        "y_pred=clf.predict(X_test)\n",
        "\n",
        "print(\"Accuracy:\", metrics.accuracy_score(y_test, y_pred))"
      ],
      "metadata": {
        "colab": {
          "base_uri": "https://localhost:8080/"
        },
        "id": "lM8u699dlTlY",
        "outputId": "aa0fa90d-049d-4316-8bcc-cb7d22b6eb48"
      },
      "execution_count": 199,
      "outputs": [
        {
          "output_type": "stream",
          "name": "stdout",
          "text": [
            "Accuracy: 1.0\n"
          ]
        }
      ]
    },
    {
      "cell_type": "markdown",
      "source": [
        "Classification report which identified the output of the model's results"
      ],
      "metadata": {
        "id": "YtDyQLhryeG5"
      }
    },
    {
      "cell_type": "code",
      "source": [
        "from sklearn.ensemble import RandomForestClassifier\n",
        "\n",
        "#Create a Gaussian Classifier \n",
        "clf = RandomForestClassifier(n_estimators=100)\n",
        "\n",
        "#Train the model using the training sets y_pred=clf.predict(X_test)\n",
        "clf.fit(X_train,y_train)"
      ],
      "metadata": {
        "id": "yQ3xY6UjInNL"
      },
      "execution_count": null,
      "outputs": []
    },
    {
      "cell_type": "code",
      "source": [
        "RandomForestClassifier(bootstrap=True, class_weight=None, criterion='gini',\n",
        "            max_depth=None, max_features='auto', max_leaf_nodes=None,\n",
        "            min_impurity_decrease=0.0,\n",
        "            min_samples_leaf=1, min_samples_split=2,\n",
        "            min_weight_fraction_leaf=0.0, n_estimators=100, n_jobs=1,\n",
        "            oob_score=False, random_state=None, verbose=0,\n",
        "            warm_start=False)"
      ],
      "metadata": {
        "colab": {
          "base_uri": "https://localhost:8080/"
        },
        "id": "zOpmz4LKLCog",
        "outputId": "b92f3b50-7096-48a2-c8f5-875d47d97a0f"
      },
      "execution_count": 204,
      "outputs": [
        {
          "output_type": "execute_result",
          "data": {
            "text/plain": [
              "RandomForestClassifier(n_jobs=1)"
            ]
          },
          "metadata": {},
          "execution_count": 204
        }
      ]
    },
    {
      "cell_type": "markdown",
      "source": [
        "Question 5\n",
        "\n",
        "\n",
        "Redo the model building exercise using Support Vector Classifier.  Use linear kernel, polynomial kernel and radial kernels to build your model. "
      ],
      "metadata": {
        "id": "lKC90qM253FM"
      }
    },
    {
      "cell_type": "code",
      "source": [
        "#Import Packages \n",
        "import pandas as pd\n",
        "import numpy as np \n",
        "import matplotlib.pyplot as plt\n",
        "from sklearn.svm import SVC\n",
        "\n",
        "#SVC Model Build Linear\n",
        "svclassifier = SVC(kernel = 'linear')\n",
        "svclassifier.fit(X_train,y_train)\n",
        "\n",
        "y_pred = svclassifier.predict(X_test)"
      ],
      "metadata": {
        "id": "TmA6fy-iNz2a"
      },
      "execution_count": 209,
      "outputs": []
    },
    {
      "cell_type": "code",
      "source": [
        "#Building Confusion Matrix\n",
        "\n",
        "from sklearn.metrics import classification_report, confusion_matrix\n",
        "print(confusion_matrix(y_test, y_pred))\n",
        "print(classification_report(y_test,y_pred))"
      ],
      "metadata": {
        "colab": {
          "base_uri": "https://localhost:8080/"
        },
        "id": "OVCHZbaOO_-v",
        "outputId": "d6265d4d-7173-4781-84ac-673c21324334"
      },
      "execution_count": 210,
      "outputs": [
        {
          "output_type": "stream",
          "name": "stdout",
          "text": [
            "[[29  0]\n",
            " [ 0 39]]\n",
            "              precision    recall  f1-score   support\n",
            "\n",
            "           0       1.00      1.00      1.00        29\n",
            "           1       1.00      1.00      1.00        39\n",
            "\n",
            "    accuracy                           1.00        68\n",
            "   macro avg       1.00      1.00      1.00        68\n",
            "weighted avg       1.00      1.00      1.00        68\n",
            "\n"
          ]
        }
      ]
    },
    {
      "cell_type": "markdown",
      "source": [
        "Classification report which identified the output of the model's results"
      ],
      "metadata": {
        "id": "jEXdivMjybUU"
      }
    },
    {
      "cell_type": "code",
      "source": [
        "#SVC Model build with Poly \n",
        "from sklearn.svm import SVC\n",
        "svclassifier = SVC(kernel = 'poly', degree = 8)\n",
        "svclassifier.fit(X_train, y_train)\n",
        "\n",
        "#Making Predictions \n",
        "\n",
        "y_pred = svclassifier.predict(X_test)\n",
        "\n",
        "#Evaluation of Alg\n",
        "print(confusion_matrix(y_test, y_pred))\n",
        "print(classification_report(y_test, y_pred))"
      ],
      "metadata": {
        "colab": {
          "base_uri": "https://localhost:8080/"
        },
        "id": "TAFEmviYPhr1",
        "outputId": "229a3d8f-9541-4710-f9f4-2b3981acfde6"
      },
      "execution_count": 213,
      "outputs": [
        {
          "output_type": "stream",
          "name": "stdout",
          "text": [
            "[[29  0]\n",
            " [ 2 37]]\n",
            "              precision    recall  f1-score   support\n",
            "\n",
            "           0       0.94      1.00      0.97        29\n",
            "           1       1.00      0.95      0.97        39\n",
            "\n",
            "    accuracy                           0.97        68\n",
            "   macro avg       0.97      0.97      0.97        68\n",
            "weighted avg       0.97      0.97      0.97        68\n",
            "\n"
          ]
        }
      ]
    },
    {
      "cell_type": "markdown",
      "source": [
        "Classification report which identified the output of the model's results."
      ],
      "metadata": {
        "id": "LsscLumpyXUk"
      }
    },
    {
      "cell_type": "code",
      "source": [
        "#SVC Model build with Poly \n",
        "from sklearn.svm import SVC\n",
        "svclassifier = SVC(kernel = 'rbf', degree = 8)\n",
        "svclassifier.fit(X_train, y_train)\n",
        "\n",
        "#Making Predictions \n",
        "\n",
        "y_pred = svclassifier.predict(X_test)\n",
        "\n",
        "#Evaluation of Alg\n",
        "print(confusion_matrix(y_test, y_pred))\n",
        "print(classification_report(y_test, y_pred))"
      ],
      "metadata": {
        "colab": {
          "base_uri": "https://localhost:8080/"
        },
        "id": "aPaggdSpRL9s",
        "outputId": "c2244154-9556-4bdd-aac3-e6a244cc6a3e"
      },
      "execution_count": 217,
      "outputs": [
        {
          "output_type": "stream",
          "name": "stdout",
          "text": [
            "[[29  0]\n",
            " [ 0 39]]\n",
            "              precision    recall  f1-score   support\n",
            "\n",
            "           0       1.00      1.00      1.00        29\n",
            "           1       1.00      1.00      1.00        39\n",
            "\n",
            "    accuracy                           1.00        68\n",
            "   macro avg       1.00      1.00      1.00        68\n",
            "weighted avg       1.00      1.00      1.00        68\n",
            "\n"
          ]
        }
      ]
    },
    {
      "cell_type": "markdown",
      "source": [
        "Classification report which identified the output of the model's results"
      ],
      "metadata": {
        "id": "Nyl6pk-NyQgW"
      }
    },
    {
      "cell_type": "markdown",
      "source": [
        "Question 6\n",
        "\n",
        "Repeat the model building process using neural network.  Pay special attention to not to over-fit the training data. "
      ],
      "metadata": {
        "id": "g4MeO_W06IGV"
      }
    },
    {
      "cell_type": "code",
      "source": [
        "#Import Libraries \n",
        "import numpy as np\n",
        "from sklearn.preprocessing import StandardScaler\n",
        "\n",
        "scaler = StandardScaler()\n",
        "\n",
        "#Fit training data only \n",
        "scaler.fit(X_train)\n",
        "\n",
        "StandardScaler(copy = True, with_mean= True, with_std=True)\n",
        "\n",
        "#transofmrations to data\n",
        "X_train = scaler.transform(X_train)\n",
        "X_test = scaler.transform(X_test)"
      ],
      "metadata": {
        "id": "pONvJUSVSPEV"
      },
      "execution_count": 224,
      "outputs": []
    },
    {
      "cell_type": "code",
      "source": [
        "#Training the Model \n",
        "from sklearn.neural_network import MLPClassifier\n",
        "\n",
        "#Chose 3 layers with the same number of neurons with 500 max interations\n",
        "mlp = MLPClassifier(hidden_layer_sizes = (13,13,13), max_iter = 500)\n",
        "\n",
        "mlp.fit(X_train, y_train)\n",
        "\n",
        "MLPClassifier(activation='relu', alpha=0.0001, batch_size='auto', beta_1=0.9,\n",
        "       beta_2=0.999, early_stopping=False, epsilon=1e-08,\n",
        "       hidden_layer_sizes=(13, 13, 13), learning_rate='constant',\n",
        "       learning_rate_init=0.001, max_iter=500, momentum=0.9,\n",
        "       nesterovs_momentum=True, power_t=0.5, random_state=None,\n",
        "       shuffle=True, solver='adam', tol=0.0001, validation_fraction=0.1,\n",
        "       verbose=False, warm_start=False)"
      ],
      "metadata": {
        "colab": {
          "base_uri": "https://localhost:8080/"
        },
        "id": "YDitPF7FWUsQ",
        "outputId": "9beb8777-8f27-4954-b402-08e34247e989"
      },
      "execution_count": 228,
      "outputs": [
        {
          "output_type": "execute_result",
          "data": {
            "text/plain": [
              "MLPClassifier(hidden_layer_sizes=(13, 13, 13), max_iter=500)"
            ]
          },
          "metadata": {},
          "execution_count": 228
        }
      ]
    },
    {
      "cell_type": "code",
      "source": [
        "#Predictions and Evaluation \n",
        "\n",
        "predictions = mlp.predict(X_test)\n",
        "\n",
        "from sklearn.metrics import classification_report, confusion_matrix\n",
        "\n",
        "#print confusion matrix \n",
        "\n",
        "print(confusion_matrix(y_test, predictions))\n",
        "\n",
        "print(classification_report(y_test, predictions))"
      ],
      "metadata": {
        "colab": {
          "base_uri": "https://localhost:8080/"
        },
        "id": "3or-23AXWUqe",
        "outputId": "08fe2773-9315-4451-e5a9-bb3a8d587bdf"
      },
      "execution_count": 231,
      "outputs": [
        {
          "output_type": "stream",
          "name": "stdout",
          "text": [
            "[[28  1]\n",
            " [ 0 39]]\n",
            "              precision    recall  f1-score   support\n",
            "\n",
            "           0       1.00      0.97      0.98        29\n",
            "           1       0.97      1.00      0.99        39\n",
            "\n",
            "    accuracy                           0.99        68\n",
            "   macro avg       0.99      0.98      0.98        68\n",
            "weighted avg       0.99      0.99      0.99        68\n",
            "\n"
          ]
        }
      ]
    },
    {
      "cell_type": "markdown",
      "source": [
        "Classification report identifying the accuracy of the model"
      ],
      "metadata": {
        "id": "aI7TQhk8yEsK"
      }
    },
    {
      "cell_type": "markdown",
      "source": [
        "Question 7\n",
        "\n",
        "Finally, summarize your findings in a table that looks like the following.  This must include all the models you've tried and their evaluation metrics.  The goal is to help determining the best model that you will recommend.  Feel free to be creative.  A sample table is given below. "
      ],
      "metadata": {
        "id": "S_05APwu6SFA"
      }
    },
    {
      "cell_type": "markdown",
      "source": [
        "Quesion 8 (Summary/Recommendations) \n",
        "\n",
        "Succinctly summarize your findings through a brief written summary.  Remeber the goals is to predict the medical condition using the available data. \n",
        "\n",
        "\n",
        "- Do you have any recommendation on which variables should be used and which can be ignored? \n",
        "\n",
        "- What is your recommended model?"
      ],
      "metadata": {
        "id": "Bp96TrNg6jqh"
      }
    },
    {
      "cell_type": "markdown",
      "source": [
        "Answer: \n",
        "\n",
        "- Do you have any recommendation on which variables should be used and which can be ignored? \n",
        "\n",
        "\n",
        "**From my analysis, I would leave (columns: x3, x14, x19, and x20) these columns makes it difficult to run the models.  From my experience the models could not convert floats to stings.**\n",
        "\n",
        "- What is your recommended model?\n",
        "\n",
        "\n",
        "**My recommended model would be logistic regression simply because it the most commonly used model in ML.  However, all models had similar outcomes.  The numbers were #s were very close.**\n"
      ],
      "metadata": {
        "id": "TqWLwythXkA6"
      }
    },
    {
      "cell_type": "code",
      "source": [
        ""
      ],
      "metadata": {
        "id": "croFSaPlsV-T"
      },
      "execution_count": null,
      "outputs": []
    },
    {
      "cell_type": "markdown",
      "source": [
        "----------------------------------------------------------------"
      ],
      "metadata": {
        "id": "KAtX_Bqulk_I"
      }
    },
    {
      "cell_type": "markdown",
      "source": [
        "Question 10.1\n",
        "\n",
        "Use data up to and including August 31st 2021 to model the trajectory of COVID influences and deaths."
      ],
      "metadata": {
        "id": "u0bxv_aAmga8"
      }
    },
    {
      "cell_type": "markdown",
      "source": [
        "Question 10.2\n",
        "\n",
        "Provide an exploratory analysis of the data with a goal to inform the public as well as policymakers to take necessary actions (precautions, preparedness, mitigation).  This may include graphs and summaries such as \n",
        "\n",
        "- state level daily percentage increase in infection and deaths.  Perhaps showing only top 10 states by deaths/infestions\n",
        "\n",
        "- states that are hardest hit as well as those who might become the next New York "
      ],
      "metadata": {
        "id": "tXZ7olOcmob_"
      }
    },
    {
      "cell_type": "code",
      "source": [
        "#import Python Packages \n",
        "import pandas as pd\n",
        "import numpy as np    \n",
        "state = pd.read_csv(\"/content/us-states.csv\")\n",
        "country = pd.read_csv(\"/content/us-counties.csv\")"
      ],
      "metadata": {
        "id": "lpCaYaTmmwMi"
      },
      "execution_count": 298,
      "outputs": []
    },
    {
      "cell_type": "code",
      "source": [
        "state1 = state.nlargest(20,'deaths')\n",
        "print(state1)"
      ],
      "metadata": {
        "colab": {
          "base_uri": "https://localhost:8080/"
        },
        "id": "wZFNy9bZ1nuy",
        "outputId": "6a948743-aa50-47ec-bf32-386c2378078d"
      },
      "execution_count": 319,
      "outputs": [
        {
          "output_type": "stream",
          "name": "stdout",
          "text": [
            "             date       state  fips    cases  deaths\n",
            "35627  2021-12-09  California     6  5148904   75374\n",
            "35571  2021-12-08  California     6  5141243   75279\n",
            "35515  2021-12-07  California     6  5135147   75169\n",
            "35459  2021-12-06  California     6  5128950   75102\n",
            "35403  2021-12-05  California     6  5111469   75008\n",
            "35347  2021-12-04  California     6  5109833   75006\n",
            "35291  2021-12-03  California     6  5107543   74987\n",
            "35235  2021-12-02  California     6  5099788   74884\n",
            "35179  2021-12-01  California     6  5090300   74781\n",
            "35669  2021-12-09       Texas    48  4360146   74767\n",
            "35613  2021-12-08       Texas    48  4356555   74685\n",
            "35123  2021-11-30  California     6  5085477   74670\n",
            "35557  2021-12-07       Texas    48  4352353   74589\n",
            "35067  2021-11-29  California     6  5080522   74553\n",
            "35501  2021-12-06       Texas    48  4347374   74532\n",
            "35445  2021-12-05       Texas    48  4343389   74512\n",
            "35389  2021-12-04       Texas    48  4342425   74485\n",
            "35333  2021-12-03       Texas    48  4340505   74422\n",
            "35011  2021-11-28  California     6  5063311   74385\n",
            "34955  2021-11-27  California     6  5062737   74374\n"
          ]
        }
      ]
    },
    {
      "cell_type": "code",
      "source": [
        "import matplotlib.pyplot as plt\n",
        "plt.plot(state1.deaths,state1.state)\n",
        "plt.xlabel('state1.deaths')\n",
        "plt.ylabel('state1.state')"
      ],
      "metadata": {
        "colab": {
          "base_uri": "https://localhost:8080/",
          "height": 297
        },
        "id": "TfFLe4Xf5qPa",
        "outputId": "b3372dce-0b6e-49dc-922b-ee18deac35ad"
      },
      "execution_count": 327,
      "outputs": [
        {
          "output_type": "execute_result",
          "data": {
            "text/plain": [
              "Text(0, 0.5, 'state1.state')"
            ]
          },
          "metadata": {},
          "execution_count": 327
        },
        {
          "output_type": "display_data",
          "data": {
            "image/png": "[encoded data removed]",
            "text/plain": [
              "<Figure size 432x288 with 1 Axes>"
            ]
          },
          "metadata": {
            "needs_background": "light"
          }
        }
      ]
    },
    {
      "cell_type": "code",
      "source": [
        "import matplotlib.pyplot as plt\n",
        "plt.plot(state1.deaths,state1.date)\n",
        "plt.xlabel('state1.deaths')\n",
        "plt.ylabel('state1.state')"
      ],
      "metadata": {
        "colab": {
          "base_uri": "https://localhost:8080/",
          "height": 297
        },
        "id": "WqEnTFFw7ZyY",
        "outputId": "4dec962a-8198-489b-ffe2-d4b3bcde83e9"
      },
      "execution_count": 328,
      "outputs": [
        {
          "output_type": "execute_result",
          "data": {
            "text/plain": [
              "Text(0, 0.5, 'state1.state')"
            ]
          },
          "metadata": {},
          "execution_count": 328
        },
        {
          "output_type": "display_data",
          "data": {
            "image/png": "[encoded data removed]",
            "text/plain": [
              "<Figure size 432x288 with 1 Axes>"
            ]
          },
          "metadata": {
            "needs_background": "light"
          }
        }
      ]
    },
    {
      "cell_type": "code",
      "source": [
        "country1 = country.nlargest(10,'deaths')\n",
        "print(country1)"
      ],
      "metadata": {
        "colab": {
          "base_uri": "https://localhost:8080/"
        },
        "id": "pBLHJEJC1so4",
        "outputId": "8d7db1a5-0f3e-46e0-c6e7-74d0bdb86108"
      },
      "execution_count": 333,
      "outputs": [
        {
          "output_type": "stream",
          "name": "stdout",
          "text": [
            "               date         county     state  fips    cases   deaths\n",
            "1997230  2021-12-09  New York City  New York   NaN  1180458  34940.0\n",
            "1993979  2021-12-08  New York City  New York   NaN  1177016  34925.0\n",
            "1990728  2021-12-07  New York City  New York   NaN  1175008  34905.0\n",
            "1987477  2021-12-06  New York City  New York   NaN  1172522  34883.0\n",
            "1977727  2021-12-03  New York City  New York   NaN  1165550  34867.0\n",
            "1980977  2021-12-04  New York City  New York   NaN  1165550  34867.0\n",
            "1984227  2021-12-05  New York City  New York   NaN  1165550  34867.0\n",
            "1974477  2021-12-02  New York City  New York   NaN  1163161  34856.0\n",
            "1971228  2021-12-01  New York City  New York   NaN  1160766  34848.0\n",
            "1967978  2021-11-30  New York City  New York   NaN  1159083  34828.0\n"
          ]
        }
      ]
    },
    {
      "cell_type": "code",
      "source": [
        "import matplotlib.pyplot as plt\n",
        "plt.plot(country1.deaths,country1.state)\n",
        "plt.xlabel('country1.deaths')\n",
        "plt.ylabel('country1.state')"
      ],
      "metadata": {
        "colab": {
          "base_uri": "https://localhost:8080/",
          "height": 297
        },
        "id": "1LiAdjIO79Lu",
        "outputId": "ecb94a49-5474-4f9c-8b58-12bacf5bc0d2"
      },
      "execution_count": 335,
      "outputs": [
        {
          "output_type": "execute_result",
          "data": {
            "text/plain": [
              "Text(0, 0.5, 'country1.state')"
            ]
          },
          "metadata": {},
          "execution_count": 335
        },
        {
          "output_type": "display_data",
          "data": {
            "image/png": "[encoded data removed]",
            "text/plain": [
              "<Figure size 432x288 with 1 Axes>"
            ]
          },
          "metadata": {
            "needs_background": "light"
          }
        }
      ]
    },
    {
      "cell_type": "code",
      "source": [
        "import matplotlib.pyplot as plt\n",
        "plt.plot(country1.deaths,country1.date)\n",
        "plt.xlabel('country1.deaths')\n",
        "plt.ylabel('country1.date')"
      ],
      "metadata": {
        "colab": {
          "base_uri": "https://localhost:8080/",
          "height": 297
        },
        "id": "LPIAnE_L8UpK",
        "outputId": "23f0bc06-edcd-445f-e1be-6cfcc018589e"
      },
      "execution_count": 337,
      "outputs": [
        {
          "output_type": "execute_result",
          "data": {
            "text/plain": [
              "Text(0, 0.5, 'country1.date')"
            ]
          },
          "metadata": {},
          "execution_count": 337
        },
        {
          "output_type": "display_data",
          "data": {
            "image/png": "[encoded data removed]",
            "text/plain": [
              "<Figure size 432x288 with 1 Axes>"
            ]
          },
          "metadata": {
            "needs_background": "light"
          }
        }
      ]
    },
    {
      "cell_type": "markdown",
      "source": [
        "Question 10.3 \n",
        "\n",
        "Use the FIPS codes to include additional data to the daily cumulative cases.  The data may include daily average temperate, population density, age distribution (% elderly, for example), among others. \n",
        "\n",
        "Can you find any correlates of the infection/deaths?"
      ],
      "metadata": {
        "id": "kR4BI9PlnDyQ"
      }
    },
    {
      "cell_type": "code",
      "source": [
        ""
      ],
      "metadata": {
        "id": "pR-piKqax30j"
      },
      "execution_count": null,
      "outputs": []
    },
    {
      "cell_type": "markdown",
      "source": [
        "Question 10.4\n",
        "\n",
        "Think of modeling the infestion and deaths at the state level.  You may want to start with New Work.  What model would be appropriate for this type od data?\n",
        "\n",
        "Use your model to predict the situation of for the next two weeks.\n",
        "\n",
        "Apply your model to the states that are most vulnerable to increased incidences and deaths. \n",
        "\n",
        "What conclusion can you draw?"
      ],
      "metadata": {
        "id": "PYmz1pqDnTlT"
      }
    },
    {
      "cell_type": "code",
      "source": [
        ""
      ],
      "metadata": {
        "id": "RzFXOnsFx4gm"
      },
      "execution_count": null,
      "outputs": []
    },
    {
      "cell_type": "markdown",
      "source": [
        "Question 10.5\n",
        "\n",
        "Now that you've build your model using data up to August 31st 2021, how good your model performs when you compare your predictions with the actual cases for the months of September 2021 and October 2021?\n",
        "\n",
        "\n",
        "Summarize your findings"
      ],
      "metadata": {
        "id": "XeHX6pE6nnur"
      }
    },
    {
      "cell_type": "markdown",
      "source": [
        ""
      ],
      "metadata": {
        "id": "CoFQaxUs_i1b"
      }
    },
    {
      "cell_type": "code",
      "source": [
        ""
      ],
      "metadata": {
        "id": "X9m19Hpix5JI"
      },
      "execution_count": null,
      "outputs": []
    },
    {
      "cell_type": "markdown",
      "source": [
        "Question 11\n",
        "\n",
        "Last but not the least, the project should look professional as if you are creating it as part of consulting project.  In particular, keep the following in mind,\n",
        "\n",
        "\n",
        "- do not dumpy R/Python output without explaining what you are trying to do\n",
        "- provide a brief summary of your findings at the end of computer output\n",
        "- only print outputs that are relevant and necessary for me to review\n",
        "- take extra care when printing code and output within the page border when you export to PDF\n",
        "- code should be well documented and tested "
      ],
      "metadata": {
        "id": "fAPqimMen2zU"
      }
    }
  ]
}